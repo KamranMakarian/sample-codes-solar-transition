{
 "cells": [
  {
   "cell_type": "markdown",
   "id": "cb18b106",
   "metadata": {
    "tags": []
   },
   "source": [
    "# **1. Green Energy Program Grants (GEPG) Data**"
   ]
  },
  {
   "cell_type": "markdown",
   "id": "316db65b",
   "metadata": {},
   "source": [
    "Description: https://dnrec.alpha.delaware.gov/climate-coastal-energy/renewable/assistance/"
   ]
  },
  {
   "cell_type": "markdown",
   "id": "3428cf18",
   "metadata": {},
   "source": [
    "Dataset: https://data.delaware.gov/Energy-and-Environment/Green-Energy-Program-Grants/nsgd-n2gb"
   ]
  },
  {
   "cell_type": "markdown",
   "id": "f0613189-3408-40d6-8ae2-26633ab68e9a",
   "metadata": {},
   "source": [
    "Reports: https://dnrec.alpha.delaware.gov/climate-coastal-energy/renewable/assistance/"
   ]
  },
  {
   "cell_type": "code",
   "execution_count": 1,
   "id": "df14046b",
   "metadata": {
    "tags": []
   },
   "outputs": [],
   "source": [
    "import numpy as np\n",
    "import pandas as pd\n",
    "import geopandas as gpd\n",
    "import matplotlib.pyplot as plt\n",
    "from sodapy import Socrata\n",
    "import pygris\n",
    "import PyPDF2\n",
    "import seaborn as sns\n",
    "from scipy import stats\n",
    "import json\n",
    "pd.options.display.max_columns = 100"
   ]
  },
  {
   "cell_type": "code",
   "execution_count": 2,
   "id": "c97bc267",
   "metadata": {
    "tags": []
   },
   "outputs": [
    {
     "name": "stderr",
     "output_type": "stream",
     "text": [
      "WARNING:root:Requests made without an app_token will be subject to strict throttling limits.\n"
     ]
    }
   ],
   "source": [
    "client = Socrata(\"data.delaware.gov\", None)\n",
    "results = client.get(\"nsgd-n2gb\", limit=8000)\n",
    "\n",
    "GEPG_df = pd.DataFrame.from_records(results)"
   ]
  },
  {
   "cell_type": "code",
   "execution_count": 3,
   "id": "0e9de99a",
   "metadata": {
    "tags": []
   },
   "outputs": [
    {
     "name": "stdout",
     "output_type": "stream",
     "text": [
      "No update since September 1, 2023.\n"
     ]
    }
   ],
   "source": [
    "if (len(GEPG_df) - 7171) > 0:\n",
    "    print(90*\"!\")\n",
    "    print(\"** Warning: There has been a change in the length of the dataset since September 1, 2023. **\")\n",
    "    print(90*\"!\")\n",
    "else:\n",
    "    print(\"No update since September 1, 2023.\")"
   ]
  },
  {
   "cell_type": "code",
   "execution_count": 4,
   "id": "0aa9986d",
   "metadata": {
    "tags": []
   },
   "outputs": [],
   "source": [
    "myfile = open(\"/Users/kamran/Downloads/Datasets/Data_Dictionary_for_Green_Energy_Program_Grants.pdf\",mode='rb')"
   ]
  },
  {
   "cell_type": "code",
   "execution_count": 5,
   "id": "61c50167",
   "metadata": {
    "tags": []
   },
   "outputs": [],
   "source": [
    "pdf_reader = PyPDF2.PdfReader(myfile)"
   ]
  },
  {
   "cell_type": "code",
   "execution_count": 6,
   "id": "f5ce081a",
   "metadata": {
    "tags": []
   },
   "outputs": [
    {
     "data": {
      "text/plain": [
       "1"
      ]
     },
     "execution_count": 6,
     "metadata": {},
     "output_type": "execute_result"
    }
   ],
   "source": [
    "len(pdf_reader.pages)"
   ]
  },
  {
   "cell_type": "code",
   "execution_count": 7,
   "id": "4172a803",
   "metadata": {
    "tags": []
   },
   "outputs": [
    {
     "name": "stdout",
     "output_type": "stream",
     "text": [
      "Data Dictionary for Dataset:  Green Energy Program Grants  \n",
      " \n",
      "Column  Column Name / Field \n",
      "Name  Description  \n",
      "A Application ID  Unique identifier for each grant application  \n",
      "B City City in which the project is located  \n",
      "C Zip Zip code in which the project is located  \n",
      "D Application Submission Date  Date of submission of grant application  \n",
      "E Facility Type  Renewable energy source for which grant \n",
      "application has been submitted:  PV (photovoltaic), \n",
      "Geothermal, Solar Wa ter Heating, Wind  \n",
      "F Sector  Type of Project:  Residential, Non_Residential, \n",
      "Commercial, Non_Profit, Solar Lease, Solar PPA \n",
      "(Power Purchase Agreement)  \n",
      "G PV Capacity (kW)  Size in kilowatts of photovoltaic system  \n",
      "H Geothermal Capacity (tons)  Size in tons of  geothermal system  \n",
      "I Wind Capacity (kW)  Size in kilowatts of windpower system  \n",
      "J Solar Water Capacity (Sq. Ft.)  Size in square feet of solar water heater system  \n",
      "K Total System Costs ($)  Sum of money spent on renewable energy system  \n",
      "L Total Rebate  Sum of  money awarded to applicant through grant \n",
      "process  \n",
      "M Mounting Location  Location of installation of PV system: rooftop, \n",
      "ground, tracking (available starting in 2014)  \n",
      "N PPA/Lease  Denotes whether the system is owned vs whether \n",
      "the applicant has a PPA (Power of Purchase \n",
      "Agreement) to purchase the electricity the system \n",
      "produces on a per kilowatt hour basis or a lease to \n",
      "pay a set monthly amount for the electricity \n",
      "produced (available starting in 2014)  \n",
      "O Payment Status  Processed grant awards have a status of P aid or Paid \n",
      "– ARRA (American Recovery and Reinvestment Act)  \n",
      " \n"
     ]
    }
   ],
   "source": [
    "page_one = pdf_reader.pages[0]\n",
    "print(page_one.extract_text())"
   ]
  },
  {
   "cell_type": "code",
   "execution_count": 8,
   "id": "e1a6b380",
   "metadata": {
    "tags": []
   },
   "outputs": [],
   "source": [
    "page_one_text = page_one.extract_text()"
   ]
  },
  {
   "cell_type": "code",
   "execution_count": 9,
   "id": "9b3dc7a3",
   "metadata": {
    "tags": []
   },
   "outputs": [],
   "source": [
    "myfile.close()"
   ]
  },
  {
   "cell_type": "code",
   "execution_count": 10,
   "id": "73f7952b",
   "metadata": {
    "tags": []
   },
   "outputs": [
    {
     "name": "stdout",
     "output_type": "stream",
     "text": [
      "<class 'pandas.core.frame.DataFrame'>\n",
      "RangeIndex: 7171 entries, 0 to 7170\n",
      "Data columns (total 15 columns):\n",
      " #   Column                       Non-Null Count  Dtype \n",
      "---  ------                       --------------  ----- \n",
      " 0   application_id               7171 non-null   object\n",
      " 1   city                         7171 non-null   object\n",
      " 2   zip                          7170 non-null   object\n",
      " 3   application_submission_date  7171 non-null   object\n",
      " 4   facility_type                7170 non-null   object\n",
      " 5   sector                       7171 non-null   object\n",
      " 6   pv_capacity_kw               6163 non-null   object\n",
      " 7   total_system_costs           7161 non-null   object\n",
      " 8   total_rebate                 7171 non-null   object\n",
      " 9   payment_status               7171 non-null   object\n",
      " 10  mounting_location            4952 non-null   object\n",
      " 11  ppa_lease                    4952 non-null   object\n",
      " 12  geothermal_capacity_tons     922 non-null    object\n",
      " 13  solar_water_capacity_sq_ft   63 non-null     object\n",
      " 14  wind_capacity_kw             18 non-null     object\n",
      "dtypes: object(15)\n",
      "memory usage: 840.5+ KB\n"
     ]
    }
   ],
   "source": [
    "GEPG_df.info()"
   ]
  },
  {
   "cell_type": "code",
   "execution_count": 11,
   "id": "2af2893b",
   "metadata": {
    "tags": []
   },
   "outputs": [
    {
     "data": {
      "text/html": [
       "<div>\n",
       "<style scoped>\n",
       "    .dataframe tbody tr th:only-of-type {\n",
       "        vertical-align: middle;\n",
       "    }\n",
       "\n",
       "    .dataframe tbody tr th {\n",
       "        vertical-align: top;\n",
       "    }\n",
       "\n",
       "    .dataframe thead th {\n",
       "        text-align: right;\n",
       "    }\n",
       "</style>\n",
       "<table border=\"1\" class=\"dataframe\">\n",
       "  <thead>\n",
       "    <tr style=\"text-align: right;\">\n",
       "      <th></th>\n",
       "      <th>application_id</th>\n",
       "      <th>city</th>\n",
       "      <th>zip</th>\n",
       "      <th>application_submission_date</th>\n",
       "      <th>facility_type</th>\n",
       "      <th>sector</th>\n",
       "      <th>pv_capacity_kw</th>\n",
       "      <th>total_system_costs</th>\n",
       "      <th>total_rebate</th>\n",
       "      <th>payment_status</th>\n",
       "      <th>mounting_location</th>\n",
       "      <th>ppa_lease</th>\n",
       "      <th>geothermal_capacity_tons</th>\n",
       "      <th>solar_water_capacity_sq_ft</th>\n",
       "      <th>wind_capacity_kw</th>\n",
       "    </tr>\n",
       "  </thead>\n",
       "  <tbody>\n",
       "    <tr>\n",
       "      <th>0</th>\n",
       "      <td>R00437</td>\n",
       "      <td>Bear</td>\n",
       "      <td>19701</td>\n",
       "      <td>2008-07-25T00:00:00.000</td>\n",
       "      <td>PV</td>\n",
       "      <td>Residential</td>\n",
       "      <td>0.3</td>\n",
       "      <td>3194.67</td>\n",
       "      <td>1322.38</td>\n",
       "      <td>Paid</td>\n",
       "      <td>NaN</td>\n",
       "      <td>NaN</td>\n",
       "      <td>NaN</td>\n",
       "      <td>NaN</td>\n",
       "      <td>NaN</td>\n",
       "    </tr>\n",
       "    <tr>\n",
       "      <th>1</th>\n",
       "      <td>R00400</td>\n",
       "      <td>Middletown</td>\n",
       "      <td>19709</td>\n",
       "      <td>2008-04-07T00:00:00.000</td>\n",
       "      <td>PV</td>\n",
       "      <td>Residential</td>\n",
       "      <td>0.426</td>\n",
       "      <td>3000.00</td>\n",
       "      <td>903.00</td>\n",
       "      <td>Paid</td>\n",
       "      <td>NaN</td>\n",
       "      <td>NaN</td>\n",
       "      <td>NaN</td>\n",
       "      <td>NaN</td>\n",
       "      <td>NaN</td>\n",
       "    </tr>\n",
       "    <tr>\n",
       "      <th>2</th>\n",
       "      <td>R00837</td>\n",
       "      <td>Ocean View</td>\n",
       "      <td>19970</td>\n",
       "      <td>2009-06-18T00:00:00.000</td>\n",
       "      <td>PV</td>\n",
       "      <td>Residential</td>\n",
       "      <td>0.57</td>\n",
       "      <td>4703.00</td>\n",
       "      <td>1175.75</td>\n",
       "      <td>Paid</td>\n",
       "      <td>NaN</td>\n",
       "      <td>NaN</td>\n",
       "      <td>NaN</td>\n",
       "      <td>NaN</td>\n",
       "      <td>NaN</td>\n",
       "    </tr>\n",
       "    <tr>\n",
       "      <th>3</th>\n",
       "      <td>R01477</td>\n",
       "      <td>Rehoboth Beach</td>\n",
       "      <td>19971</td>\n",
       "      <td>2012-01-06T00:00:00.000</td>\n",
       "      <td>PV</td>\n",
       "      <td>Residential</td>\n",
       "      <td>0.84</td>\n",
       "      <td>3847.20</td>\n",
       "      <td>1050.00</td>\n",
       "      <td>Paid</td>\n",
       "      <td>NaN</td>\n",
       "      <td>NaN</td>\n",
       "      <td>NaN</td>\n",
       "      <td>NaN</td>\n",
       "      <td>NaN</td>\n",
       "    </tr>\n",
       "    <tr>\n",
       "      <th>4</th>\n",
       "      <td>R01176</td>\n",
       "      <td>Middletown</td>\n",
       "      <td>19709</td>\n",
       "      <td>2010-11-30T00:00:00.000</td>\n",
       "      <td>PV</td>\n",
       "      <td>Residential</td>\n",
       "      <td>0.92</td>\n",
       "      <td>5060.00</td>\n",
       "      <td>1265.00</td>\n",
       "      <td>Paid</td>\n",
       "      <td>NaN</td>\n",
       "      <td>NaN</td>\n",
       "      <td>NaN</td>\n",
       "      <td>NaN</td>\n",
       "      <td>NaN</td>\n",
       "    </tr>\n",
       "  </tbody>\n",
       "</table>\n",
       "</div>"
      ],
      "text/plain": [
       "  application_id            city    zip application_submission_date  \\\n",
       "0         R00437            Bear  19701     2008-07-25T00:00:00.000   \n",
       "1         R00400      Middletown  19709     2008-04-07T00:00:00.000   \n",
       "2         R00837      Ocean View  19970     2009-06-18T00:00:00.000   \n",
       "3         R01477  Rehoboth Beach  19971     2012-01-06T00:00:00.000   \n",
       "4         R01176      Middletown  19709     2010-11-30T00:00:00.000   \n",
       "\n",
       "  facility_type       sector pv_capacity_kw total_system_costs total_rebate  \\\n",
       "0            PV  Residential            0.3            3194.67      1322.38   \n",
       "1            PV  Residential          0.426            3000.00       903.00   \n",
       "2            PV  Residential           0.57            4703.00      1175.75   \n",
       "3            PV  Residential           0.84            3847.20      1050.00   \n",
       "4            PV  Residential           0.92            5060.00      1265.00   \n",
       "\n",
       "  payment_status mounting_location ppa_lease geothermal_capacity_tons  \\\n",
       "0           Paid               NaN       NaN                      NaN   \n",
       "1           Paid               NaN       NaN                      NaN   \n",
       "2           Paid               NaN       NaN                      NaN   \n",
       "3           Paid               NaN       NaN                      NaN   \n",
       "4           Paid               NaN       NaN                      NaN   \n",
       "\n",
       "  solar_water_capacity_sq_ft wind_capacity_kw  \n",
       "0                        NaN              NaN  \n",
       "1                        NaN              NaN  \n",
       "2                        NaN              NaN  \n",
       "3                        NaN              NaN  \n",
       "4                        NaN              NaN  "
      ]
     },
     "execution_count": 11,
     "metadata": {},
     "output_type": "execute_result"
    }
   ],
   "source": [
    "GEPG_df.head()"
   ]
  },
  {
   "cell_type": "code",
   "execution_count": 12,
   "id": "50dd3e67",
   "metadata": {
    "tags": []
   },
   "outputs": [
    {
     "data": {
      "text/plain": [
       "application_id                    0\n",
       "city                              0\n",
       "zip                               1\n",
       "application_submission_date       0\n",
       "facility_type                     1\n",
       "sector                            0\n",
       "pv_capacity_kw                 1008\n",
       "total_system_costs               10\n",
       "total_rebate                      0\n",
       "payment_status                    0\n",
       "mounting_location              2219\n",
       "ppa_lease                      2219\n",
       "geothermal_capacity_tons       6249\n",
       "solar_water_capacity_sq_ft     7108\n",
       "wind_capacity_kw               7153\n",
       "dtype: int64"
      ]
     },
     "execution_count": 12,
     "metadata": {},
     "output_type": "execute_result"
    }
   ],
   "source": [
    "GEPG_df.isnull().sum()"
   ]
  },
  {
   "cell_type": "code",
   "execution_count": 13,
   "id": "d9da5623",
   "metadata": {
    "tags": []
   },
   "outputs": [
    {
     "data": {
      "text/plain": [
       "application_id                  0.000000\n",
       "city                            0.000000\n",
       "zip                             0.013945\n",
       "application_submission_date     0.000000\n",
       "facility_type                   0.013945\n",
       "sector                          0.000000\n",
       "pv_capacity_kw                 14.056617\n",
       "total_system_costs              0.139451\n",
       "total_rebate                    0.000000\n",
       "payment_status                  0.000000\n",
       "mounting_location              30.944080\n",
       "ppa_lease                      30.944080\n",
       "geothermal_capacity_tons       87.142658\n",
       "solar_water_capacity_sq_ft     99.121461\n",
       "wind_capacity_kw               99.748989\n",
       "dtype: float64"
      ]
     },
     "execution_count": 13,
     "metadata": {},
     "output_type": "execute_result"
    }
   ],
   "source": [
    "GEPG_df.isnull().sum()*100/len(GEPG_df)"
   ]
  },
  {
   "cell_type": "markdown",
   "id": "7126e30a-7e3c-48b8-8569-c53219fcbb71",
   "metadata": {
    "tags": []
   },
   "source": [
    "# **2. Data Cleaning and Data Engineering**"
   ]
  },
  {
   "cell_type": "code",
   "execution_count": 14,
   "id": "89e70b78",
   "metadata": {
    "tags": []
   },
   "outputs": [],
   "source": [
    "GEPG_df.drop(['geothermal_capacity_tons','solar_water_capacity_sq_ft','wind_capacity_kw'],axis=1,inplace=True)"
   ]
  },
  {
   "cell_type": "code",
   "execution_count": 15,
   "id": "3e761537",
   "metadata": {
    "tags": []
   },
   "outputs": [
    {
     "data": {
      "text/html": [
       "<div>\n",
       "<style scoped>\n",
       "    .dataframe tbody tr th:only-of-type {\n",
       "        vertical-align: middle;\n",
       "    }\n",
       "\n",
       "    .dataframe tbody tr th {\n",
       "        vertical-align: top;\n",
       "    }\n",
       "\n",
       "    .dataframe thead th {\n",
       "        text-align: right;\n",
       "    }\n",
       "</style>\n",
       "<table border=\"1\" class=\"dataframe\">\n",
       "  <thead>\n",
       "    <tr style=\"text-align: right;\">\n",
       "      <th></th>\n",
       "      <th>application_id</th>\n",
       "      <th>city</th>\n",
       "      <th>zip</th>\n",
       "      <th>application_submission_date</th>\n",
       "      <th>facility_type</th>\n",
       "      <th>sector</th>\n",
       "      <th>pv_capacity_kw</th>\n",
       "      <th>total_system_costs</th>\n",
       "      <th>total_rebate</th>\n",
       "      <th>payment_status</th>\n",
       "      <th>mounting_location</th>\n",
       "      <th>ppa_lease</th>\n",
       "    </tr>\n",
       "  </thead>\n",
       "  <tbody>\n",
       "    <tr>\n",
       "      <th>6172</th>\n",
       "      <td>NR00003</td>\n",
       "      <td>Lost due to Fire</td>\n",
       "      <td>NaN</td>\n",
       "      <td>2003-04-07T00:00:00.000</td>\n",
       "      <td>Geothermal</td>\n",
       "      <td>Non_Residential</td>\n",
       "      <td>NaN</td>\n",
       "      <td>NaN</td>\n",
       "      <td>25000.00</td>\n",
       "      <td>Paid</td>\n",
       "      <td>NaN</td>\n",
       "      <td>NaN</td>\n",
       "    </tr>\n",
       "  </tbody>\n",
       "</table>\n",
       "</div>"
      ],
      "text/plain": [
       "     application_id              city  zip application_submission_date  \\\n",
       "6172        NR00003  Lost due to Fire  NaN     2003-04-07T00:00:00.000   \n",
       "\n",
       "     facility_type           sector pv_capacity_kw total_system_costs  \\\n",
       "6172    Geothermal  Non_Residential            NaN                NaN   \n",
       "\n",
       "     total_rebate payment_status mounting_location ppa_lease  \n",
       "6172     25000.00           Paid               NaN       NaN  "
      ]
     },
     "execution_count": 15,
     "metadata": {},
     "output_type": "execute_result"
    }
   ],
   "source": [
    "GEPG_df[GEPG_df['zip'].isnull()]"
   ]
  },
  {
   "cell_type": "code",
   "execution_count": 16,
   "id": "6a8157a8",
   "metadata": {
    "tags": []
   },
   "outputs": [],
   "source": [
    "GEPG_df.drop(GEPG_df[GEPG_df['zip'].isnull()].any(axis=1).index,inplace=True)"
   ]
  },
  {
   "cell_type": "code",
   "execution_count": 17,
   "id": "b9b72439",
   "metadata": {
    "tags": []
   },
   "outputs": [],
   "source": [
    "GEPG_df['Zip5digits'] = GEPG_df['zip'].apply(lambda x: x[:5] )"
   ]
  },
  {
   "cell_type": "code",
   "execution_count": 18,
   "id": "49edbb80",
   "metadata": {
    "tags": []
   },
   "outputs": [
    {
     "data": {
      "text/plain": [
       "0       19701\n",
       "1       19709\n",
       "2       19970\n",
       "3       19971\n",
       "4       19709\n",
       "        ...  \n",
       "7166    19930\n",
       "7167    19930\n",
       "7168    19707\n",
       "7169    19930\n",
       "7170    19944\n",
       "Name: Zip5digits, Length: 7170, dtype: object"
      ]
     },
     "execution_count": 18,
     "metadata": {},
     "output_type": "execute_result"
    }
   ],
   "source": [
    "GEPG_df['Zip5digits']"
   ]
  },
  {
   "cell_type": "code",
   "execution_count": 19,
   "id": "1d81d44d",
   "metadata": {
    "tags": []
   },
   "outputs": [
    {
     "data": {
      "text/html": [
       "<div>\n",
       "<style scoped>\n",
       "    .dataframe tbody tr th:only-of-type {\n",
       "        vertical-align: middle;\n",
       "    }\n",
       "\n",
       "    .dataframe tbody tr th {\n",
       "        vertical-align: top;\n",
       "    }\n",
       "\n",
       "    .dataframe thead th {\n",
       "        text-align: right;\n",
       "    }\n",
       "</style>\n",
       "<table border=\"1\" class=\"dataframe\">\n",
       "  <thead>\n",
       "    <tr style=\"text-align: right;\">\n",
       "      <th></th>\n",
       "      <th>application_id</th>\n",
       "      <th>city</th>\n",
       "      <th>zip</th>\n",
       "      <th>application_submission_date</th>\n",
       "      <th>facility_type</th>\n",
       "      <th>sector</th>\n",
       "      <th>pv_capacity_kw</th>\n",
       "      <th>total_system_costs</th>\n",
       "      <th>total_rebate</th>\n",
       "      <th>payment_status</th>\n",
       "      <th>mounting_location</th>\n",
       "      <th>ppa_lease</th>\n",
       "    </tr>\n",
       "    <tr>\n",
       "      <th>Zip5digits</th>\n",
       "      <th></th>\n",
       "      <th></th>\n",
       "      <th></th>\n",
       "      <th></th>\n",
       "      <th></th>\n",
       "      <th></th>\n",
       "      <th></th>\n",
       "      <th></th>\n",
       "      <th></th>\n",
       "      <th></th>\n",
       "      <th></th>\n",
       "      <th></th>\n",
       "    </tr>\n",
       "  </thead>\n",
       "  <tbody>\n",
       "    <tr>\n",
       "      <th>1073</th>\n",
       "      <td>1</td>\n",
       "      <td>1</td>\n",
       "      <td>1</td>\n",
       "      <td>1</td>\n",
       "      <td>1</td>\n",
       "      <td>1</td>\n",
       "      <td>0</td>\n",
       "      <td>1</td>\n",
       "      <td>1</td>\n",
       "      <td>1</td>\n",
       "      <td>0</td>\n",
       "      <td>0</td>\n",
       "    </tr>\n",
       "    <tr>\n",
       "      <th>23323</th>\n",
       "      <td>1</td>\n",
       "      <td>1</td>\n",
       "      <td>1</td>\n",
       "      <td>1</td>\n",
       "      <td>1</td>\n",
       "      <td>1</td>\n",
       "      <td>0</td>\n",
       "      <td>1</td>\n",
       "      <td>1</td>\n",
       "      <td>1</td>\n",
       "      <td>0</td>\n",
       "      <td>0</td>\n",
       "    </tr>\n",
       "    <tr>\n",
       "      <th>22180</th>\n",
       "      <td>1</td>\n",
       "      <td>1</td>\n",
       "      <td>1</td>\n",
       "      <td>1</td>\n",
       "      <td>1</td>\n",
       "      <td>1</td>\n",
       "      <td>1</td>\n",
       "      <td>1</td>\n",
       "      <td>1</td>\n",
       "      <td>1</td>\n",
       "      <td>1</td>\n",
       "      <td>1</td>\n",
       "    </tr>\n",
       "    <tr>\n",
       "      <th>21012</th>\n",
       "      <td>1</td>\n",
       "      <td>1</td>\n",
       "      <td>1</td>\n",
       "      <td>1</td>\n",
       "      <td>1</td>\n",
       "      <td>1</td>\n",
       "      <td>1</td>\n",
       "      <td>1</td>\n",
       "      <td>1</td>\n",
       "      <td>1</td>\n",
       "      <td>1</td>\n",
       "      <td>1</td>\n",
       "    </tr>\n",
       "    <tr>\n",
       "      <th>20814</th>\n",
       "      <td>1</td>\n",
       "      <td>1</td>\n",
       "      <td>1</td>\n",
       "      <td>1</td>\n",
       "      <td>1</td>\n",
       "      <td>1</td>\n",
       "      <td>1</td>\n",
       "      <td>1</td>\n",
       "      <td>1</td>\n",
       "      <td>1</td>\n",
       "      <td>1</td>\n",
       "      <td>1</td>\n",
       "    </tr>\n",
       "    <tr>\n",
       "      <th>...</th>\n",
       "      <td>...</td>\n",
       "      <td>...</td>\n",
       "      <td>...</td>\n",
       "      <td>...</td>\n",
       "      <td>...</td>\n",
       "      <td>...</td>\n",
       "      <td>...</td>\n",
       "      <td>...</td>\n",
       "      <td>...</td>\n",
       "      <td>...</td>\n",
       "      <td>...</td>\n",
       "      <td>...</td>\n",
       "    </tr>\n",
       "    <tr>\n",
       "      <th>19702</th>\n",
       "      <td>411</td>\n",
       "      <td>411</td>\n",
       "      <td>411</td>\n",
       "      <td>411</td>\n",
       "      <td>411</td>\n",
       "      <td>411</td>\n",
       "      <td>398</td>\n",
       "      <td>411</td>\n",
       "      <td>411</td>\n",
       "      <td>411</td>\n",
       "      <td>362</td>\n",
       "      <td>362</td>\n",
       "    </tr>\n",
       "    <tr>\n",
       "      <th>19720</th>\n",
       "      <td>438</td>\n",
       "      <td>438</td>\n",
       "      <td>438</td>\n",
       "      <td>438</td>\n",
       "      <td>438</td>\n",
       "      <td>438</td>\n",
       "      <td>433</td>\n",
       "      <td>438</td>\n",
       "      <td>438</td>\n",
       "      <td>438</td>\n",
       "      <td>384</td>\n",
       "      <td>384</td>\n",
       "    </tr>\n",
       "    <tr>\n",
       "      <th>19701</th>\n",
       "      <td>570</td>\n",
       "      <td>570</td>\n",
       "      <td>570</td>\n",
       "      <td>570</td>\n",
       "      <td>570</td>\n",
       "      <td>570</td>\n",
       "      <td>540</td>\n",
       "      <td>570</td>\n",
       "      <td>570</td>\n",
       "      <td>570</td>\n",
       "      <td>471</td>\n",
       "      <td>471</td>\n",
       "    </tr>\n",
       "    <tr>\n",
       "      <th>19971</th>\n",
       "      <td>660</td>\n",
       "      <td>660</td>\n",
       "      <td>660</td>\n",
       "      <td>660</td>\n",
       "      <td>660</td>\n",
       "      <td>660</td>\n",
       "      <td>513</td>\n",
       "      <td>657</td>\n",
       "      <td>660</td>\n",
       "      <td>660</td>\n",
       "      <td>370</td>\n",
       "      <td>370</td>\n",
       "    </tr>\n",
       "    <tr>\n",
       "      <th>19709</th>\n",
       "      <td>705</td>\n",
       "      <td>705</td>\n",
       "      <td>705</td>\n",
       "      <td>705</td>\n",
       "      <td>705</td>\n",
       "      <td>705</td>\n",
       "      <td>659</td>\n",
       "      <td>705</td>\n",
       "      <td>705</td>\n",
       "      <td>705</td>\n",
       "      <td>580</td>\n",
       "      <td>580</td>\n",
       "    </tr>\n",
       "  </tbody>\n",
       "</table>\n",
       "<p>80 rows × 12 columns</p>\n",
       "</div>"
      ],
      "text/plain": [
       "            application_id  city  zip  application_submission_date  \\\n",
       "Zip5digits                                                           \n",
       "1073                     1     1    1                            1   \n",
       "23323                    1     1    1                            1   \n",
       "22180                    1     1    1                            1   \n",
       "21012                    1     1    1                            1   \n",
       "20814                    1     1    1                            1   \n",
       "...                    ...   ...  ...                          ...   \n",
       "19702                  411   411  411                          411   \n",
       "19720                  438   438  438                          438   \n",
       "19701                  570   570  570                          570   \n",
       "19971                  660   660  660                          660   \n",
       "19709                  705   705  705                          705   \n",
       "\n",
       "            facility_type  sector  pv_capacity_kw  total_system_costs  \\\n",
       "Zip5digits                                                              \n",
       "1073                    1       1               0                   1   \n",
       "23323                   1       1               0                   1   \n",
       "22180                   1       1               1                   1   \n",
       "21012                   1       1               1                   1   \n",
       "20814                   1       1               1                   1   \n",
       "...                   ...     ...             ...                 ...   \n",
       "19702                 411     411             398                 411   \n",
       "19720                 438     438             433                 438   \n",
       "19701                 570     570             540                 570   \n",
       "19971                 660     660             513                 657   \n",
       "19709                 705     705             659                 705   \n",
       "\n",
       "            total_rebate  payment_status  mounting_location  ppa_lease  \n",
       "Zip5digits                                                              \n",
       "1073                   1               1                  0          0  \n",
       "23323                  1               1                  0          0  \n",
       "22180                  1               1                  1          1  \n",
       "21012                  1               1                  1          1  \n",
       "20814                  1               1                  1          1  \n",
       "...                  ...             ...                ...        ...  \n",
       "19702                411             411                362        362  \n",
       "19720                438             438                384        384  \n",
       "19701                570             570                471        471  \n",
       "19971                660             660                370        370  \n",
       "19709                705             705                580        580  \n",
       "\n",
       "[80 rows x 12 columns]"
      ]
     },
     "execution_count": 19,
     "metadata": {},
     "output_type": "execute_result"
    }
   ],
   "source": [
    "GEPG_df.groupby('Zip5digits').count().sort_values(by='application_id')"
   ]
  },
  {
   "cell_type": "code",
   "execution_count": 20,
   "id": "6acba650",
   "metadata": {
    "tags": []
   },
   "outputs": [
    {
     "data": {
      "text/html": [
       "<div>\n",
       "<style scoped>\n",
       "    .dataframe tbody tr th:only-of-type {\n",
       "        vertical-align: middle;\n",
       "    }\n",
       "\n",
       "    .dataframe tbody tr th {\n",
       "        vertical-align: top;\n",
       "    }\n",
       "\n",
       "    .dataframe thead th {\n",
       "        text-align: right;\n",
       "    }\n",
       "</style>\n",
       "<table border=\"1\" class=\"dataframe\">\n",
       "  <thead>\n",
       "    <tr style=\"text-align: right;\">\n",
       "      <th></th>\n",
       "      <th>application_id</th>\n",
       "      <th>city</th>\n",
       "      <th>zip</th>\n",
       "      <th>application_submission_date</th>\n",
       "      <th>facility_type</th>\n",
       "      <th>sector</th>\n",
       "      <th>pv_capacity_kw</th>\n",
       "      <th>total_system_costs</th>\n",
       "      <th>total_rebate</th>\n",
       "      <th>payment_status</th>\n",
       "      <th>mounting_location</th>\n",
       "      <th>ppa_lease</th>\n",
       "      <th>Zip5digits</th>\n",
       "    </tr>\n",
       "  </thead>\n",
       "  <tbody>\n",
       "    <tr>\n",
       "      <th>2021</th>\n",
       "      <td>9225</td>\n",
       "      <td>Annapolis</td>\n",
       "      <td>21012</td>\n",
       "      <td>2017-04-23T19:46:00.000</td>\n",
       "      <td>PV</td>\n",
       "      <td>residential</td>\n",
       "      <td>5000</td>\n",
       "      <td>6120</td>\n",
       "      <td>2500</td>\n",
       "      <td>Unpaid</td>\n",
       "      <td>rooftop</td>\n",
       "      <td>owned</td>\n",
       "      <td>21012</td>\n",
       "    </tr>\n",
       "    <tr>\n",
       "      <th>2204</th>\n",
       "      <td>5238</td>\n",
       "      <td>Rehoboth Beach</td>\n",
       "      <td>89119</td>\n",
       "      <td>2014-10-16T15:14:00.000</td>\n",
       "      <td>PV</td>\n",
       "      <td>residential</td>\n",
       "      <td>5355</td>\n",
       "      <td>26775</td>\n",
       "      <td>4338.75</td>\n",
       "      <td>Paid</td>\n",
       "      <td>rooftop</td>\n",
       "      <td>lease</td>\n",
       "      <td>89119</td>\n",
       "    </tr>\n",
       "    <tr>\n",
       "      <th>3890</th>\n",
       "      <td>8370</td>\n",
       "      <td>Bethany Beach</td>\n",
       "      <td>20814</td>\n",
       "      <td>2017-08-02T17:07:00.000</td>\n",
       "      <td>PV</td>\n",
       "      <td>residential</td>\n",
       "      <td>8250</td>\n",
       "      <td>16900</td>\n",
       "      <td>3300</td>\n",
       "      <td>Paid</td>\n",
       "      <td>rooftop</td>\n",
       "      <td>owned</td>\n",
       "      <td>20814</td>\n",
       "    </tr>\n",
       "    <tr>\n",
       "      <th>4310</th>\n",
       "      <td>5287</td>\n",
       "      <td>Bear</td>\n",
       "      <td>94607</td>\n",
       "      <td>2014-10-21T01:24:00.000</td>\n",
       "      <td>PV</td>\n",
       "      <td>residential</td>\n",
       "      <td>9000</td>\n",
       "      <td>35460</td>\n",
       "      <td>5250</td>\n",
       "      <td>Unpaid</td>\n",
       "      <td>rooftop</td>\n",
       "      <td>lease</td>\n",
       "      <td>94607</td>\n",
       "    </tr>\n",
       "    <tr>\n",
       "      <th>5160</th>\n",
       "      <td>11627</td>\n",
       "      <td>Ocean View</td>\n",
       "      <td>22180</td>\n",
       "      <td>2022-10-06T11:24:00.000</td>\n",
       "      <td>PV</td>\n",
       "      <td>residential</td>\n",
       "      <td>11200</td>\n",
       "      <td>23632</td>\n",
       "      <td>8000</td>\n",
       "      <td>Unpaid</td>\n",
       "      <td>rooftop</td>\n",
       "      <td>owned</td>\n",
       "      <td>22180</td>\n",
       "    </tr>\n",
       "    <tr>\n",
       "      <th>6910</th>\n",
       "      <td>5104</td>\n",
       "      <td>Chesapeake</td>\n",
       "      <td>23323</td>\n",
       "      <td>2020-06-18T16:42:00.000</td>\n",
       "      <td>Wind</td>\n",
       "      <td>non_residential</td>\n",
       "      <td>NaN</td>\n",
       "      <td>8</td>\n",
       "      <td>17750</td>\n",
       "      <td>Unpaid</td>\n",
       "      <td>NaN</td>\n",
       "      <td>NaN</td>\n",
       "      <td>23323</td>\n",
       "    </tr>\n",
       "  </tbody>\n",
       "</table>\n",
       "</div>"
      ],
      "text/plain": [
       "     application_id            city    zip application_submission_date  \\\n",
       "2021           9225       Annapolis  21012     2017-04-23T19:46:00.000   \n",
       "2204           5238  Rehoboth Beach  89119     2014-10-16T15:14:00.000   \n",
       "3890           8370   Bethany Beach  20814     2017-08-02T17:07:00.000   \n",
       "4310           5287            Bear  94607     2014-10-21T01:24:00.000   \n",
       "5160          11627      Ocean View  22180     2022-10-06T11:24:00.000   \n",
       "6910           5104      Chesapeake  23323     2020-06-18T16:42:00.000   \n",
       "\n",
       "     facility_type           sector pv_capacity_kw total_system_costs  \\\n",
       "2021            PV      residential           5000               6120   \n",
       "2204            PV      residential           5355              26775   \n",
       "3890            PV      residential           8250              16900   \n",
       "4310            PV      residential           9000              35460   \n",
       "5160            PV      residential          11200              23632   \n",
       "6910          Wind  non_residential            NaN                  8   \n",
       "\n",
       "     total_rebate payment_status mounting_location ppa_lease Zip5digits  \n",
       "2021         2500         Unpaid           rooftop     owned      21012  \n",
       "2204      4338.75           Paid           rooftop     lease      89119  \n",
       "3890         3300           Paid           rooftop     owned      20814  \n",
       "4310         5250         Unpaid           rooftop     lease      94607  \n",
       "5160         8000         Unpaid           rooftop     owned      22180  \n",
       "6910        17750         Unpaid               NaN       NaN      23323  "
      ]
     },
     "execution_count": 20,
     "metadata": {},
     "output_type": "execute_result"
    }
   ],
   "source": [
    "GEPG_df[GEPG_df['Zip5digits'].astype('int64') >= 20000]"
   ]
  },
  {
   "cell_type": "code",
   "execution_count": 21,
   "id": "b765d6dd",
   "metadata": {
    "tags": []
   },
   "outputs": [
    {
     "data": {
      "text/plain": [
       "6"
      ]
     },
     "execution_count": 21,
     "metadata": {},
     "output_type": "execute_result"
    }
   ],
   "source": [
    "len(GEPG_df[GEPG_df['Zip5digits'].astype('int64') >= 20000])"
   ]
  },
  {
   "cell_type": "code",
   "execution_count": 22,
   "id": "39f705df",
   "metadata": {
    "tags": []
   },
   "outputs": [
    {
     "data": {
      "text/html": [
       "<div>\n",
       "<style scoped>\n",
       "    .dataframe tbody tr th:only-of-type {\n",
       "        vertical-align: middle;\n",
       "    }\n",
       "\n",
       "    .dataframe tbody tr th {\n",
       "        vertical-align: top;\n",
       "    }\n",
       "\n",
       "    .dataframe thead th {\n",
       "        text-align: right;\n",
       "    }\n",
       "</style>\n",
       "<table border=\"1\" class=\"dataframe\">\n",
       "  <thead>\n",
       "    <tr style=\"text-align: right;\">\n",
       "      <th></th>\n",
       "      <th>application_id</th>\n",
       "      <th>city</th>\n",
       "      <th>zip</th>\n",
       "      <th>application_submission_date</th>\n",
       "      <th>facility_type</th>\n",
       "      <th>sector</th>\n",
       "      <th>pv_capacity_kw</th>\n",
       "      <th>total_system_costs</th>\n",
       "      <th>total_rebate</th>\n",
       "      <th>payment_status</th>\n",
       "      <th>mounting_location</th>\n",
       "      <th>ppa_lease</th>\n",
       "      <th>Zip5digits</th>\n",
       "    </tr>\n",
       "  </thead>\n",
       "  <tbody>\n",
       "    <tr>\n",
       "      <th>1531</th>\n",
       "      <td>8812</td>\n",
       "      <td>New Castle</td>\n",
       "      <td>17920</td>\n",
       "      <td>2016-12-20T14:39:00.000</td>\n",
       "      <td>PV</td>\n",
       "      <td>residential</td>\n",
       "      <td>3640</td>\n",
       "      <td>26260</td>\n",
       "      <td>1000</td>\n",
       "      <td>Paid</td>\n",
       "      <td>rooftop</td>\n",
       "      <td>lease</td>\n",
       "      <td>17920</td>\n",
       "    </tr>\n",
       "    <tr>\n",
       "      <th>2566</th>\n",
       "      <td>12031</td>\n",
       "      <td>Townsend</td>\n",
       "      <td>17934</td>\n",
       "      <td>2023-03-16T10:01:00.000</td>\n",
       "      <td>PV</td>\n",
       "      <td>residential</td>\n",
       "      <td>5920</td>\n",
       "      <td>28416</td>\n",
       "      <td>4736</td>\n",
       "      <td>Unpaid</td>\n",
       "      <td>rooftop</td>\n",
       "      <td>owned</td>\n",
       "      <td>17934</td>\n",
       "    </tr>\n",
       "    <tr>\n",
       "      <th>3308</th>\n",
       "      <td>11110</td>\n",
       "      <td>Newark</td>\n",
       "      <td>19173</td>\n",
       "      <td>2022-03-30T09:08:00.000</td>\n",
       "      <td>PV</td>\n",
       "      <td>residential</td>\n",
       "      <td>7200</td>\n",
       "      <td>75000</td>\n",
       "      <td>5040</td>\n",
       "      <td>Paid</td>\n",
       "      <td>rooftop</td>\n",
       "      <td>owned</td>\n",
       "      <td>19173</td>\n",
       "    </tr>\n",
       "    <tr>\n",
       "      <th>3790</th>\n",
       "      <td>12218</td>\n",
       "      <td>South Bethany</td>\n",
       "      <td>19330</td>\n",
       "      <td>2023-02-24T00:21:00.000</td>\n",
       "      <td>PV</td>\n",
       "      <td>residential</td>\n",
       "      <td>8075</td>\n",
       "      <td>24647</td>\n",
       "      <td>6460</td>\n",
       "      <td>Unpaid</td>\n",
       "      <td>rooftop</td>\n",
       "      <td>owned</td>\n",
       "      <td>19330</td>\n",
       "    </tr>\n",
       "    <tr>\n",
       "      <th>5303</th>\n",
       "      <td>10039</td>\n",
       "      <td>Newark</td>\n",
       "      <td>19173</td>\n",
       "      <td>2020-07-07T20:10:00.000</td>\n",
       "      <td>PV</td>\n",
       "      <td>residential</td>\n",
       "      <td>11840</td>\n",
       "      <td>45954</td>\n",
       "      <td>5000</td>\n",
       "      <td>Paid</td>\n",
       "      <td>rooftop</td>\n",
       "      <td>owned</td>\n",
       "      <td>19173</td>\n",
       "    </tr>\n",
       "    <tr>\n",
       "      <th>5608</th>\n",
       "      <td>11421</td>\n",
       "      <td>Wilmington</td>\n",
       "      <td>18903</td>\n",
       "      <td>2022-08-25T08:59:00.000</td>\n",
       "      <td>PV</td>\n",
       "      <td>residential</td>\n",
       "      <td>13320</td>\n",
       "      <td>79920</td>\n",
       "      <td>5760</td>\n",
       "      <td>Unpaid</td>\n",
       "      <td>rooftop</td>\n",
       "      <td>owned</td>\n",
       "      <td>18903</td>\n",
       "    </tr>\n",
       "    <tr>\n",
       "      <th>7155</th>\n",
       "      <td>11333</td>\n",
       "      <td>SOUTHAMPTON</td>\n",
       "      <td>1073</td>\n",
       "      <td>2022-06-23T11:11:00.000</td>\n",
       "      <td>Geothermal</td>\n",
       "      <td>residential</td>\n",
       "      <td>NaN</td>\n",
       "      <td>9400</td>\n",
       "      <td>5000</td>\n",
       "      <td>Unpaid</td>\n",
       "      <td>NaN</td>\n",
       "      <td>NaN</td>\n",
       "      <td>1073</td>\n",
       "    </tr>\n",
       "  </tbody>\n",
       "</table>\n",
       "</div>"
      ],
      "text/plain": [
       "     application_id           city    zip application_submission_date  \\\n",
       "1531           8812     New Castle  17920     2016-12-20T14:39:00.000   \n",
       "2566          12031       Townsend  17934     2023-03-16T10:01:00.000   \n",
       "3308          11110         Newark  19173     2022-03-30T09:08:00.000   \n",
       "3790          12218  South Bethany  19330     2023-02-24T00:21:00.000   \n",
       "5303          10039         Newark  19173     2020-07-07T20:10:00.000   \n",
       "5608          11421     Wilmington  18903     2022-08-25T08:59:00.000   \n",
       "7155          11333    SOUTHAMPTON   1073     2022-06-23T11:11:00.000   \n",
       "\n",
       "     facility_type       sector pv_capacity_kw total_system_costs  \\\n",
       "1531            PV  residential           3640              26260   \n",
       "2566            PV  residential           5920              28416   \n",
       "3308            PV  residential           7200              75000   \n",
       "3790            PV  residential           8075              24647   \n",
       "5303            PV  residential          11840              45954   \n",
       "5608            PV  residential          13320              79920   \n",
       "7155    Geothermal  residential            NaN               9400   \n",
       "\n",
       "     total_rebate payment_status mounting_location ppa_lease Zip5digits  \n",
       "1531         1000           Paid           rooftop     lease      17920  \n",
       "2566         4736         Unpaid           rooftop     owned      17934  \n",
       "3308         5040           Paid           rooftop     owned      19173  \n",
       "3790         6460         Unpaid           rooftop     owned      19330  \n",
       "5303         5000           Paid           rooftop     owned      19173  \n",
       "5608         5760         Unpaid           rooftop     owned      18903  \n",
       "7155         5000         Unpaid               NaN       NaN       1073  "
      ]
     },
     "execution_count": 22,
     "metadata": {},
     "output_type": "execute_result"
    }
   ],
   "source": [
    "GEPG_df[GEPG_df['Zip5digits'].astype('int64') <= 19700]"
   ]
  },
  {
   "cell_type": "code",
   "execution_count": 23,
   "id": "267126e4",
   "metadata": {
    "tags": []
   },
   "outputs": [],
   "source": [
    "GEPG_df = GEPG_df[(GEPG_df['Zip5digits'].astype('int64') >= 19700) & (GEPG_df['Zip5digits'].astype('int64') < 20000)]"
   ]
  },
  {
   "cell_type": "code",
   "execution_count": 24,
   "id": "b736f0dc",
   "metadata": {
    "tags": []
   },
   "outputs": [],
   "source": [
    "GEPG_df.drop(['application_id','zip'],axis=1,inplace=True)"
   ]
  },
  {
   "cell_type": "code",
   "execution_count": 25,
   "id": "fdcd3555",
   "metadata": {
    "tags": []
   },
   "outputs": [],
   "source": [
    "GEPG_df['date'] = pd.to_datetime(GEPG_df['application_submission_date'])"
   ]
  },
  {
   "cell_type": "code",
   "execution_count": 26,
   "id": "4e249752",
   "metadata": {
    "tags": []
   },
   "outputs": [],
   "source": [
    "GEPG_df['year'] = GEPG_df['date'].dt.strftime('%Y')"
   ]
  },
  {
   "cell_type": "code",
   "execution_count": 27,
   "id": "5a7d402b",
   "metadata": {
    "tags": []
   },
   "outputs": [],
   "source": [
    "GEPG_df['month'] = GEPG_df['date'].dt.strftime('%m')"
   ]
  },
  {
   "cell_type": "code",
   "execution_count": 28,
   "id": "cbb23e60",
   "metadata": {
    "tags": []
   },
   "outputs": [],
   "source": [
    "GEPG_df.drop(['application_submission_date'],axis=1,inplace=True)"
   ]
  },
  {
   "cell_type": "code",
   "execution_count": 29,
   "id": "bf28f4f2",
   "metadata": {
    "tags": []
   },
   "outputs": [],
   "source": [
    "GEPG_df.drop(GEPG_df[GEPG_df['facility_type'].isnull()].index,axis=0,inplace=True)"
   ]
  },
  {
   "cell_type": "code",
   "execution_count": 30,
   "id": "a60d9dff",
   "metadata": {
    "tags": []
   },
   "outputs": [
    {
     "data": {
      "text/plain": [
       "<Axes: xlabel='facility_type'>"
      ]
     },
     "execution_count": 30,
     "metadata": {},
     "output_type": "execute_result"
    },
    {
     "data": {
      "image/png": "[encoded data removed]",
      "text/plain": [
       "<Figure size 640x480 with 1 Axes>"
      ]
     },
     "metadata": {},
     "output_type": "display_data"
    }
   ],
   "source": [
    "GEPG_df['facility_type'].value_counts().plot.bar()"
   ]
  },
  {
   "cell_type": "code",
   "execution_count": 31,
   "id": "29dfbeb3",
   "metadata": {
    "tags": []
   },
   "outputs": [],
   "source": [
    "GEPG_df['sector'] = GEPG_df['sector'].str.lower()"
   ]
  },
  {
   "cell_type": "code",
   "execution_count": 32,
   "id": "ce1a5042",
   "metadata": {
    "tags": []
   },
   "outputs": [
    {
     "data": {
      "text/plain": [
       "<Axes: xlabel='sector'>"
      ]
     },
     "execution_count": 32,
     "metadata": {},
     "output_type": "execute_result"
    },
    {
     "data": {
      "image/png": "[encoded data removed]",
      "text/plain": [
       "<Figure size 640x480 with 1 Axes>"
      ]
     },
     "metadata": {},
     "output_type": "display_data"
    }
   ],
   "source": [
    "GEPG_df['sector'].value_counts().plot.bar()"
   ]
  },
  {
   "cell_type": "code",
   "execution_count": 33,
   "id": "e3f64485",
   "metadata": {
    "tags": []
   },
   "outputs": [],
   "source": [
    "GEPG_df.drop(GEPG_df[(GEPG_df['facility_type']=='PV') & \n",
    "                     (GEPG_df['pv_capacity_kw'].isnull())].index,axis=0,inplace=True)"
   ]
  },
  {
   "cell_type": "code",
   "execution_count": 34,
   "id": "5ae64429",
   "metadata": {
    "tags": []
   },
   "outputs": [],
   "source": [
    "GEPG_df['pv_capacity_kw'] = GEPG_df['pv_capacity_kw'].fillna(value=0)"
   ]
  },
  {
   "cell_type": "code",
   "execution_count": 35,
   "id": "ccdea0cf",
   "metadata": {
    "tags": []
   },
   "outputs": [],
   "source": [
    "GEPG_df['pv_capacity_kw'] = GEPG_df['pv_capacity_kw'].astype('float')"
   ]
  },
  {
   "cell_type": "code",
   "execution_count": 36,
   "id": "e5d2dfbf",
   "metadata": {
    "tags": []
   },
   "outputs": [
    {
     "data": {
      "text/plain": [
       "count      6152.000000\n",
       "mean       7779.407645\n",
       "std       18903.811090\n",
       "min           0.300000\n",
       "25%        3671.250000\n",
       "50%        6760.000000\n",
       "75%        9620.000000\n",
       "max      908900.000000\n",
       "Name: pv_capacity_kw, dtype: float64"
      ]
     },
     "execution_count": 36,
     "metadata": {},
     "output_type": "execute_result"
    }
   ],
   "source": [
    "GEPG_df[GEPG_df['facility_type']=='PV']['pv_capacity_kw'].describe()"
   ]
  },
  {
   "cell_type": "code",
   "execution_count": 37,
   "id": "eb1e378d",
   "metadata": {
    "tags": []
   },
   "outputs": [],
   "source": [
    "GEPG_df['total_system_costs'] = GEPG_df['total_system_costs'].astype('float')"
   ]
  },
  {
   "cell_type": "code",
   "execution_count": 38,
   "id": "f7504826",
   "metadata": {
    "tags": []
   },
   "outputs": [
    {
     "data": {
      "text/html": [
       "<div>\n",
       "<style scoped>\n",
       "    .dataframe tbody tr th:only-of-type {\n",
       "        vertical-align: middle;\n",
       "    }\n",
       "\n",
       "    .dataframe tbody tr th {\n",
       "        vertical-align: top;\n",
       "    }\n",
       "\n",
       "    .dataframe thead th {\n",
       "        text-align: right;\n",
       "    }\n",
       "</style>\n",
       "<table border=\"1\" class=\"dataframe\">\n",
       "  <thead>\n",
       "    <tr style=\"text-align: right;\">\n",
       "      <th></th>\n",
       "      <th>city</th>\n",
       "      <th>facility_type</th>\n",
       "      <th>sector</th>\n",
       "      <th>pv_capacity_kw</th>\n",
       "      <th>total_system_costs</th>\n",
       "      <th>total_rebate</th>\n",
       "      <th>payment_status</th>\n",
       "      <th>mounting_location</th>\n",
       "      <th>ppa_lease</th>\n",
       "      <th>Zip5digits</th>\n",
       "      <th>date</th>\n",
       "      <th>year</th>\n",
       "      <th>month</th>\n",
       "    </tr>\n",
       "  </thead>\n",
       "  <tbody>\n",
       "    <tr>\n",
       "      <th>64</th>\n",
       "      <td>Wilmington</td>\n",
       "      <td>PV</td>\n",
       "      <td>non_residential</td>\n",
       "      <td>2.35</td>\n",
       "      <td>NaN</td>\n",
       "      <td>4993.75</td>\n",
       "      <td>Paid</td>\n",
       "      <td>NaN</td>\n",
       "      <td>NaN</td>\n",
       "      <td>19806</td>\n",
       "      <td>2012-05-09</td>\n",
       "      <td>2012</td>\n",
       "      <td>05</td>\n",
       "    </tr>\n",
       "    <tr>\n",
       "      <th>6204</th>\n",
       "      <td>Rehoboth Beach</td>\n",
       "      <td>Geothermal</td>\n",
       "      <td>residential</td>\n",
       "      <td>0.00</td>\n",
       "      <td>NaN</td>\n",
       "      <td>3000.00</td>\n",
       "      <td>Paid</td>\n",
       "      <td>NaN</td>\n",
       "      <td>NaN</td>\n",
       "      <td>19971</td>\n",
       "      <td>2005-03-03</td>\n",
       "      <td>2005</td>\n",
       "      <td>03</td>\n",
       "    </tr>\n",
       "    <tr>\n",
       "      <th>6675</th>\n",
       "      <td>Rehoboth Beach</td>\n",
       "      <td>Geothermal</td>\n",
       "      <td>residential</td>\n",
       "      <td>0.00</td>\n",
       "      <td>NaN</td>\n",
       "      <td>3000.00</td>\n",
       "      <td>Paid</td>\n",
       "      <td>NaN</td>\n",
       "      <td>NaN</td>\n",
       "      <td>19971</td>\n",
       "      <td>2010-12-29</td>\n",
       "      <td>2010</td>\n",
       "      <td>12</td>\n",
       "    </tr>\n",
       "    <tr>\n",
       "      <th>6709</th>\n",
       "      <td>Newark</td>\n",
       "      <td>Geothermal</td>\n",
       "      <td>non_profit</td>\n",
       "      <td>0.00</td>\n",
       "      <td>NaN</td>\n",
       "      <td>14800.00</td>\n",
       "      <td>Paid</td>\n",
       "      <td>NaN</td>\n",
       "      <td>NaN</td>\n",
       "      <td>19711</td>\n",
       "      <td>2011-06-20</td>\n",
       "      <td>2011</td>\n",
       "      <td>06</td>\n",
       "    </tr>\n",
       "    <tr>\n",
       "      <th>6716</th>\n",
       "      <td>Claymont</td>\n",
       "      <td>Geothermal</td>\n",
       "      <td>residential</td>\n",
       "      <td>0.00</td>\n",
       "      <td>NaN</td>\n",
       "      <td>2300.00</td>\n",
       "      <td>Paid</td>\n",
       "      <td>NaN</td>\n",
       "      <td>NaN</td>\n",
       "      <td>19703</td>\n",
       "      <td>2011-07-07</td>\n",
       "      <td>2011</td>\n",
       "      <td>07</td>\n",
       "    </tr>\n",
       "    <tr>\n",
       "      <th>6739</th>\n",
       "      <td>Hockessin</td>\n",
       "      <td>Geothermal</td>\n",
       "      <td>residential</td>\n",
       "      <td>0.00</td>\n",
       "      <td>NaN</td>\n",
       "      <td>4400.00</td>\n",
       "      <td>Paid</td>\n",
       "      <td>NaN</td>\n",
       "      <td>NaN</td>\n",
       "      <td>19707</td>\n",
       "      <td>2011-09-12</td>\n",
       "      <td>2011</td>\n",
       "      <td>09</td>\n",
       "    </tr>\n",
       "    <tr>\n",
       "      <th>6743</th>\n",
       "      <td>Seaford</td>\n",
       "      <td>Geothermal</td>\n",
       "      <td>residential</td>\n",
       "      <td>0.00</td>\n",
       "      <td>NaN</td>\n",
       "      <td>3700.00</td>\n",
       "      <td>Paid</td>\n",
       "      <td>NaN</td>\n",
       "      <td>NaN</td>\n",
       "      <td>19973</td>\n",
       "      <td>2011-09-19</td>\n",
       "      <td>2011</td>\n",
       "      <td>09</td>\n",
       "    </tr>\n",
       "    <tr>\n",
       "      <th>6887</th>\n",
       "      <td>Newark</td>\n",
       "      <td>Geothermal</td>\n",
       "      <td>residential</td>\n",
       "      <td>0.00</td>\n",
       "      <td>NaN</td>\n",
       "      <td>2300.00</td>\n",
       "      <td>Paid</td>\n",
       "      <td>NaN</td>\n",
       "      <td>NaN</td>\n",
       "      <td>19711</td>\n",
       "      <td>2013-09-26</td>\n",
       "      <td>2013</td>\n",
       "      <td>09</td>\n",
       "    </tr>\n",
       "    <tr>\n",
       "      <th>6889</th>\n",
       "      <td>Dewey Beach</td>\n",
       "      <td>Geothermal</td>\n",
       "      <td>residential</td>\n",
       "      <td>0.00</td>\n",
       "      <td>NaN</td>\n",
       "      <td>5000.00</td>\n",
       "      <td>Paid</td>\n",
       "      <td>NaN</td>\n",
       "      <td>NaN</td>\n",
       "      <td>19971</td>\n",
       "      <td>2013-10-15</td>\n",
       "      <td>2013</td>\n",
       "      <td>10</td>\n",
       "    </tr>\n",
       "  </tbody>\n",
       "</table>\n",
       "</div>"
      ],
      "text/plain": [
       "                city facility_type           sector  pv_capacity_kw  \\\n",
       "64        Wilmington            PV  non_residential            2.35   \n",
       "6204  Rehoboth Beach    Geothermal      residential            0.00   \n",
       "6675  Rehoboth Beach    Geothermal      residential            0.00   \n",
       "6709          Newark    Geothermal       non_profit            0.00   \n",
       "6716        Claymont    Geothermal      residential            0.00   \n",
       "6739       Hockessin    Geothermal      residential            0.00   \n",
       "6743         Seaford    Geothermal      residential            0.00   \n",
       "6887          Newark    Geothermal      residential            0.00   \n",
       "6889     Dewey Beach    Geothermal      residential            0.00   \n",
       "\n",
       "      total_system_costs total_rebate payment_status mounting_location  \\\n",
       "64                   NaN      4993.75           Paid               NaN   \n",
       "6204                 NaN      3000.00           Paid               NaN   \n",
       "6675                 NaN      3000.00           Paid               NaN   \n",
       "6709                 NaN     14800.00           Paid               NaN   \n",
       "6716                 NaN      2300.00           Paid               NaN   \n",
       "6739                 NaN      4400.00           Paid               NaN   \n",
       "6743                 NaN      3700.00           Paid               NaN   \n",
       "6887                 NaN      2300.00           Paid               NaN   \n",
       "6889                 NaN      5000.00           Paid               NaN   \n",
       "\n",
       "     ppa_lease Zip5digits       date  year month  \n",
       "64         NaN      19806 2012-05-09  2012    05  \n",
       "6204       NaN      19971 2005-03-03  2005    03  \n",
       "6675       NaN      19971 2010-12-29  2010    12  \n",
       "6709       NaN      19711 2011-06-20  2011    06  \n",
       "6716       NaN      19703 2011-07-07  2011    07  \n",
       "6739       NaN      19707 2011-09-12  2011    09  \n",
       "6743       NaN      19973 2011-09-19  2011    09  \n",
       "6887       NaN      19711 2013-09-26  2013    09  \n",
       "6889       NaN      19971 2013-10-15  2013    10  "
      ]
     },
     "execution_count": 38,
     "metadata": {},
     "output_type": "execute_result"
    }
   ],
   "source": [
    "GEPG_df[GEPG_df['total_system_costs'].isnull()]"
   ]
  },
  {
   "cell_type": "code",
   "execution_count": 39,
   "id": "e4b6999c",
   "metadata": {
    "tags": []
   },
   "outputs": [],
   "source": [
    "GEPG_df.drop(GEPG_df[GEPG_df['total_system_costs'].isnull()].index,axis=0,inplace=True)"
   ]
  },
  {
   "cell_type": "code",
   "execution_count": 40,
   "id": "af9bfadd",
   "metadata": {
    "tags": []
   },
   "outputs": [],
   "source": [
    "GEPG_df['total_rebate'] = GEPG_df['total_rebate'].astype('float')"
   ]
  },
  {
   "cell_type": "code",
   "execution_count": 41,
   "id": "14886fe1",
   "metadata": {
    "tags": []
   },
   "outputs": [],
   "source": [
    "GEPG_df['payment_status'] = GEPG_df['payment_status'].str.lower()"
   ]
  },
  {
   "cell_type": "code",
   "execution_count": 42,
   "id": "335e8c07",
   "metadata": {
    "tags": []
   },
   "outputs": [
    {
     "data": {
      "text/plain": [
       "payment_status\n",
       "paid           5503\n",
       "unpaid         1326\n",
       "pending         202\n",
       "paid - arra     115\n",
       "Name: count, dtype: int64"
      ]
     },
     "execution_count": 42,
     "metadata": {},
     "output_type": "execute_result"
    }
   ],
   "source": [
    "GEPG_df['payment_status'].value_counts()"
   ]
  },
  {
   "cell_type": "code",
   "execution_count": 43,
   "id": "6aeba52a",
   "metadata": {
    "tags": []
   },
   "outputs": [
    {
     "data": {
      "text/plain": [
       "mounting_location\n",
       "rooftop     4849\n",
       "ground        91\n",
       "tracking       1\n",
       "Name: count, dtype: int64"
      ]
     },
     "execution_count": 43,
     "metadata": {},
     "output_type": "execute_result"
    }
   ],
   "source": [
    "GEPG_df['mounting_location'].value_counts()"
   ]
  },
  {
   "cell_type": "code",
   "execution_count": 44,
   "id": "338a64f5",
   "metadata": {
    "tags": []
   },
   "outputs": [
    {
     "data": {
      "text/html": [
       "<div>\n",
       "<style scoped>\n",
       "    .dataframe tbody tr th:only-of-type {\n",
       "        vertical-align: middle;\n",
       "    }\n",
       "\n",
       "    .dataframe tbody tr th {\n",
       "        vertical-align: top;\n",
       "    }\n",
       "\n",
       "    .dataframe thead th {\n",
       "        text-align: right;\n",
       "    }\n",
       "</style>\n",
       "<table border=\"1\" class=\"dataframe\">\n",
       "  <thead>\n",
       "    <tr style=\"text-align: right;\">\n",
       "      <th></th>\n",
       "      <th>city</th>\n",
       "      <th>facility_type</th>\n",
       "      <th>sector</th>\n",
       "      <th>pv_capacity_kw</th>\n",
       "      <th>total_system_costs</th>\n",
       "      <th>total_rebate</th>\n",
       "      <th>payment_status</th>\n",
       "      <th>mounting_location</th>\n",
       "      <th>ppa_lease</th>\n",
       "      <th>Zip5digits</th>\n",
       "      <th>date</th>\n",
       "      <th>year</th>\n",
       "      <th>month</th>\n",
       "    </tr>\n",
       "  </thead>\n",
       "  <tbody>\n",
       "    <tr>\n",
       "      <th>1332</th>\n",
       "      <td>New Castle</td>\n",
       "      <td>PV</td>\n",
       "      <td>residential</td>\n",
       "      <td>2600.0</td>\n",
       "      <td>13655.0</td>\n",
       "      <td>1000.0</td>\n",
       "      <td>paid</td>\n",
       "      <td>tracking</td>\n",
       "      <td>lease</td>\n",
       "      <td>19720</td>\n",
       "      <td>2017-02-03 20:04:00</td>\n",
       "      <td>2017</td>\n",
       "      <td>02</td>\n",
       "    </tr>\n",
       "  </tbody>\n",
       "</table>\n",
       "</div>"
      ],
      "text/plain": [
       "            city facility_type       sector  pv_capacity_kw  \\\n",
       "1332  New Castle            PV  residential          2600.0   \n",
       "\n",
       "      total_system_costs  total_rebate payment_status mounting_location  \\\n",
       "1332             13655.0        1000.0           paid          tracking   \n",
       "\n",
       "     ppa_lease Zip5digits                date  year month  \n",
       "1332     lease      19720 2017-02-03 20:04:00  2017    02  "
      ]
     },
     "execution_count": 44,
     "metadata": {},
     "output_type": "execute_result"
    }
   ],
   "source": [
    "GEPG_df[GEPG_df['mounting_location']=='tracking']"
   ]
  },
  {
   "cell_type": "code",
   "execution_count": 45,
   "id": "79a952a1",
   "metadata": {
    "tags": []
   },
   "outputs": [
    {
     "data": {
      "text/plain": [
       "facility_type\n",
       "PV                     6151\n",
       "Geothermal              915\n",
       "Solar Water Heating      62\n",
       "Wind                     13\n",
       "Solar Water               5\n",
       "Name: count, dtype: int64"
      ]
     },
     "execution_count": 45,
     "metadata": {},
     "output_type": "execute_result"
    }
   ],
   "source": [
    "GEPG_df['facility_type'].value_counts()"
   ]
  },
  {
   "cell_type": "code",
   "execution_count": 46,
   "id": "e51a7885",
   "metadata": {
    "tags": []
   },
   "outputs": [],
   "source": [
    "GEPG_PV_df = GEPG_df[GEPG_df['facility_type']=='PV']"
   ]
  },
  {
   "cell_type": "code",
   "execution_count": 47,
   "id": "e5b60ad6",
   "metadata": {
    "tags": []
   },
   "outputs": [
    {
     "data": {
      "text/plain": [
       "mounting_location\n",
       "rooftop     4849\n",
       "ground        91\n",
       "tracking       1\n",
       "Name: count, dtype: int64"
      ]
     },
     "execution_count": 47,
     "metadata": {},
     "output_type": "execute_result"
    }
   ],
   "source": [
    "GEPG_PV_df['mounting_location'].value_counts()"
   ]
  },
  {
   "cell_type": "code",
   "execution_count": 48,
   "id": "3e13976d",
   "metadata": {
    "tags": []
   },
   "outputs": [
    {
     "data": {
      "text/plain": [
       "19.671598114127786"
      ]
     },
     "execution_count": 48,
     "metadata": {},
     "output_type": "execute_result"
    }
   ],
   "source": [
    "GEPG_PV_df['mounting_location'].isnull().sum() * 100 / len(GEPG_PV_df['mounting_location'])"
   ]
  },
  {
   "cell_type": "code",
   "execution_count": 49,
   "id": "87a2e993",
   "metadata": {
    "tags": []
   },
   "outputs": [
    {
     "data": {
      "text/plain": [
       "30.856423173803528"
      ]
     },
     "execution_count": 49,
     "metadata": {},
     "output_type": "execute_result"
    }
   ],
   "source": [
    "GEPG_df['mounting_location'].isnull().sum() * 100 / len(GEPG_df['mounting_location'])"
   ]
  },
  {
   "cell_type": "code",
   "execution_count": 50,
   "id": "ee0cc5fd",
   "metadata": {
    "tags": []
   },
   "outputs": [
    {
     "data": {
      "text/html": [
       "<div>\n",
       "<style scoped>\n",
       "    .dataframe tbody tr th:only-of-type {\n",
       "        vertical-align: middle;\n",
       "    }\n",
       "\n",
       "    .dataframe tbody tr th {\n",
       "        vertical-align: top;\n",
       "    }\n",
       "\n",
       "    .dataframe thead th {\n",
       "        text-align: right;\n",
       "    }\n",
       "</style>\n",
       "<table border=\"1\" class=\"dataframe\">\n",
       "  <thead>\n",
       "    <tr style=\"text-align: right;\">\n",
       "      <th></th>\n",
       "      <th>city</th>\n",
       "      <th>facility_type</th>\n",
       "      <th>sector</th>\n",
       "      <th>pv_capacity_kw</th>\n",
       "      <th>total_system_costs</th>\n",
       "      <th>total_rebate</th>\n",
       "      <th>payment_status</th>\n",
       "      <th>mounting_location</th>\n",
       "      <th>ppa_lease</th>\n",
       "      <th>Zip5digits</th>\n",
       "      <th>date</th>\n",
       "      <th>year</th>\n",
       "      <th>month</th>\n",
       "    </tr>\n",
       "  </thead>\n",
       "  <tbody>\n",
       "  </tbody>\n",
       "</table>\n",
       "</div>"
      ],
      "text/plain": [
       "Empty DataFrame\n",
       "Columns: [city, facility_type, sector, pv_capacity_kw, total_system_costs, total_rebate, payment_status, mounting_location, ppa_lease, Zip5digits, date, year, month]\n",
       "Index: []"
      ]
     },
     "execution_count": 50,
     "metadata": {},
     "output_type": "execute_result"
    }
   ],
   "source": [
    "GEPG_PV_df[(GEPG_PV_df['sector']=='solar lease') & (GEPG_PV_df['ppa_lease'].notnull())]"
   ]
  },
  {
   "cell_type": "code",
   "execution_count": 51,
   "id": "3afda60d",
   "metadata": {
    "tags": []
   },
   "outputs": [
    {
     "data": {
      "text/html": [
       "<div>\n",
       "<style scoped>\n",
       "    .dataframe tbody tr th:only-of-type {\n",
       "        vertical-align: middle;\n",
       "    }\n",
       "\n",
       "    .dataframe tbody tr th {\n",
       "        vertical-align: top;\n",
       "    }\n",
       "\n",
       "    .dataframe thead th {\n",
       "        text-align: right;\n",
       "    }\n",
       "</style>\n",
       "<table border=\"1\" class=\"dataframe\">\n",
       "  <thead>\n",
       "    <tr style=\"text-align: right;\">\n",
       "      <th></th>\n",
       "      <th>city</th>\n",
       "      <th>facility_type</th>\n",
       "      <th>sector</th>\n",
       "      <th>pv_capacity_kw</th>\n",
       "      <th>total_system_costs</th>\n",
       "      <th>total_rebate</th>\n",
       "      <th>payment_status</th>\n",
       "      <th>mounting_location</th>\n",
       "      <th>ppa_lease</th>\n",
       "      <th>Zip5digits</th>\n",
       "      <th>date</th>\n",
       "      <th>year</th>\n",
       "      <th>month</th>\n",
       "    </tr>\n",
       "  </thead>\n",
       "  <tbody>\n",
       "  </tbody>\n",
       "</table>\n",
       "</div>"
      ],
      "text/plain": [
       "Empty DataFrame\n",
       "Columns: [city, facility_type, sector, pv_capacity_kw, total_system_costs, total_rebate, payment_status, mounting_location, ppa_lease, Zip5digits, date, year, month]\n",
       "Index: []"
      ]
     },
     "execution_count": 51,
     "metadata": {},
     "output_type": "execute_result"
    }
   ],
   "source": [
    "GEPG_PV_df[(GEPG_PV_df['sector']=='solar lease') & (GEPG_PV_df['mounting_location'].notnull())]"
   ]
  },
  {
   "cell_type": "code",
   "execution_count": 52,
   "id": "4457307d",
   "metadata": {
    "tags": []
   },
   "outputs": [],
   "source": [
    "GEPG_PV_df.loc[GEPG_PV_df['sector'] == 'solar lease', 'mounting_location'] = GEPG_PV_df['mounting_location'].fillna('lease')"
   ]
  },
  {
   "cell_type": "code",
   "execution_count": 53,
   "id": "2afef886",
   "metadata": {
    "tags": []
   },
   "outputs": [
    {
     "data": {
      "text/plain": [
       "city                     0\n",
       "facility_type            0\n",
       "sector                   0\n",
       "pv_capacity_kw           0\n",
       "total_system_costs       0\n",
       "total_rebate             0\n",
       "payment_status           0\n",
       "mounting_location     1125\n",
       "ppa_lease             1210\n",
       "Zip5digits               0\n",
       "date                     0\n",
       "year                     0\n",
       "month                    0\n",
       "dtype: int64"
      ]
     },
     "execution_count": 53,
     "metadata": {},
     "output_type": "execute_result"
    }
   ],
   "source": [
    "GEPG_PV_df.isnull().sum()"
   ]
  },
  {
   "cell_type": "code",
   "execution_count": 54,
   "id": "98ba8e41",
   "metadata": {
    "tags": []
   },
   "outputs": [
    {
     "name": "stdout",
     "output_type": "stream",
     "text": [
      "<class 'pandas.core.frame.DataFrame'>\n",
      "Index: 6151 entries, 0 to 6162\n",
      "Data columns (total 13 columns):\n",
      " #   Column              Non-Null Count  Dtype         \n",
      "---  ------              --------------  -----         \n",
      " 0   city                6151 non-null   object        \n",
      " 1   facility_type       6151 non-null   object        \n",
      " 2   sector              6151 non-null   object        \n",
      " 3   pv_capacity_kw      6151 non-null   float64       \n",
      " 4   total_system_costs  6151 non-null   float64       \n",
      " 5   total_rebate        6151 non-null   float64       \n",
      " 6   payment_status      6151 non-null   object        \n",
      " 7   mounting_location   5026 non-null   object        \n",
      " 8   ppa_lease           4941 non-null   object        \n",
      " 9   Zip5digits          6151 non-null   object        \n",
      " 10  date                6151 non-null   datetime64[ns]\n",
      " 11  year                6151 non-null   object        \n",
      " 12  month               6151 non-null   object        \n",
      "dtypes: datetime64[ns](1), float64(3), object(9)\n",
      "memory usage: 801.8+ KB\n"
     ]
    }
   ],
   "source": [
    "GEPG_PV_df.info()"
   ]
  },
  {
   "cell_type": "code",
   "execution_count": 55,
   "id": "e0d2c2f5",
   "metadata": {
    "tags": []
   },
   "outputs": [
    {
     "data": {
      "text/plain": [
       "sector\n",
       "residential        93.903430\n",
       "non_residential     3.722972\n",
       "solar lease         1.381889\n",
       "non_profit          0.991709\n",
       "Name: count, dtype: float64"
      ]
     },
     "execution_count": 55,
     "metadata": {},
     "output_type": "execute_result"
    }
   ],
   "source": [
    "GEPG_PV_df['sector'].value_counts() * 100 / len(GEPG_PV_df['sector'])"
   ]
  },
  {
   "cell_type": "code",
   "execution_count": 56,
   "id": "cf47c875",
   "metadata": {
    "tags": []
   },
   "outputs": [
    {
     "data": {
      "text/plain": [
       "ppa_lease\n",
       "owned    51.406275\n",
       "lease    19.947976\n",
       "ppa       8.974151\n",
       "Name: count, dtype: float64"
      ]
     },
     "execution_count": 56,
     "metadata": {},
     "output_type": "execute_result"
    }
   ],
   "source": [
    "GEPG_PV_df['ppa_lease'].value_counts() * 100 / len(GEPG_PV_df['ppa_lease'])"
   ]
  },
  {
   "cell_type": "code",
   "execution_count": 57,
   "id": "5244cdd2",
   "metadata": {
    "tags": []
   },
   "outputs": [
    {
     "data": {
      "text/plain": [
       "ppa_lease\n",
       "owned    97.619048\n",
       "lease     2.380952\n",
       "Name: count, dtype: float64"
      ]
     },
     "execution_count": 57,
     "metadata": {},
     "output_type": "execute_result"
    }
   ],
   "source": [
    "GEPG_PV_df[(GEPG_PV_df['sector']=='non_residential') & (GEPG_PV_df['ppa_lease'].notnull())]['ppa_lease'].value_counts() * 100 / len(GEPG_PV_df[(GEPG_PV_df['sector']=='non_residential') & (GEPG_PV_df['ppa_lease'].notnull())]['ppa_lease'])"
   ]
  },
  {
   "cell_type": "code",
   "execution_count": 58,
   "id": "0846605f",
   "metadata": {
    "tags": []
   },
   "outputs": [],
   "source": [
    "GEPG_PV_df.loc[GEPG_PV_df['sector'] == 'non_residential', 'ppa_lease'] = GEPG_PV_df['ppa_lease'].fillna('owned')"
   ]
  },
  {
   "cell_type": "code",
   "execution_count": 59,
   "id": "57e25654",
   "metadata": {
    "tags": []
   },
   "outputs": [
    {
     "data": {
      "text/plain": [
       "ppa_lease\n",
       "owned    91.304348\n",
       "lease     8.695652\n",
       "Name: count, dtype: float64"
      ]
     },
     "execution_count": 59,
     "metadata": {},
     "output_type": "execute_result"
    }
   ],
   "source": [
    "GEPG_PV_df[(GEPG_PV_df['sector']=='non_profit') & (GEPG_PV_df['ppa_lease'].notnull())]['ppa_lease'].value_counts() * 100 / len(GEPG_PV_df[(GEPG_PV_df['sector']=='non_profit') & (GEPG_PV_df['ppa_lease'].notnull())]['ppa_lease'])"
   ]
  },
  {
   "cell_type": "code",
   "execution_count": 60,
   "id": "27359eb0",
   "metadata": {
    "tags": []
   },
   "outputs": [],
   "source": [
    "GEPG_PV_df.loc[GEPG_PV_df['sector'] == 'non_profit', 'ppa_lease'] = GEPG_PV_df['ppa_lease'].fillna('owned')"
   ]
  },
  {
   "cell_type": "code",
   "execution_count": 61,
   "id": "04074b34",
   "metadata": {
    "tags": []
   },
   "outputs": [
    {
     "data": {
      "text/plain": [
       "ppa_lease\n",
       "owned    63.146955\n",
       "lease    25.379339\n",
       "ppa      11.473706\n",
       "Name: count, dtype: float64"
      ]
     },
     "execution_count": 61,
     "metadata": {},
     "output_type": "execute_result"
    }
   ],
   "source": [
    "GEPG_PV_df[(GEPG_PV_df['sector']=='residential') & (GEPG_PV_df['ppa_lease'].notnull())]['ppa_lease'].value_counts() * 100 / len(GEPG_PV_df[(GEPG_PV_df['sector']=='residential') & (GEPG_PV_df['ppa_lease'].notnull())]['ppa_lease'])"
   ]
  },
  {
   "cell_type": "code",
   "execution_count": 62,
   "id": "ae75acff",
   "metadata": {
    "tags": []
   },
   "outputs": [
    {
     "data": {
      "text/html": [
       "<div>\n",
       "<style scoped>\n",
       "    .dataframe tbody tr th:only-of-type {\n",
       "        vertical-align: middle;\n",
       "    }\n",
       "\n",
       "    .dataframe tbody tr th {\n",
       "        vertical-align: top;\n",
       "    }\n",
       "\n",
       "    .dataframe thead th {\n",
       "        text-align: right;\n",
       "    }\n",
       "</style>\n",
       "<table border=\"1\" class=\"dataframe\">\n",
       "  <thead>\n",
       "    <tr style=\"text-align: right;\">\n",
       "      <th></th>\n",
       "      <th>city</th>\n",
       "      <th>facility_type</th>\n",
       "      <th>sector</th>\n",
       "      <th>pv_capacity_kw</th>\n",
       "      <th>total_system_costs</th>\n",
       "      <th>total_rebate</th>\n",
       "      <th>payment_status</th>\n",
       "      <th>mounting_location</th>\n",
       "      <th>ppa_lease</th>\n",
       "      <th>Zip5digits</th>\n",
       "      <th>date</th>\n",
       "      <th>year</th>\n",
       "      <th>month</th>\n",
       "    </tr>\n",
       "  </thead>\n",
       "  <tbody>\n",
       "    <tr>\n",
       "      <th>1215</th>\n",
       "      <td>Wilmington</td>\n",
       "      <td>PV</td>\n",
       "      <td>residential</td>\n",
       "      <td>780.0</td>\n",
       "      <td>20826.0</td>\n",
       "      <td>429.0</td>\n",
       "      <td>paid</td>\n",
       "      <td>rooftop</td>\n",
       "      <td>lease</td>\n",
       "      <td>19805</td>\n",
       "      <td>2016-09-21 17:06:00</td>\n",
       "      <td>2016</td>\n",
       "      <td>09</td>\n",
       "    </tr>\n",
       "    <tr>\n",
       "      <th>1216</th>\n",
       "      <td>NEWARK</td>\n",
       "      <td>PV</td>\n",
       "      <td>residential</td>\n",
       "      <td>780.0</td>\n",
       "      <td>50908.0</td>\n",
       "      <td>429.0</td>\n",
       "      <td>paid</td>\n",
       "      <td>rooftop</td>\n",
       "      <td>lease</td>\n",
       "      <td>19713</td>\n",
       "      <td>2016-09-08 16:32:00</td>\n",
       "      <td>2016</td>\n",
       "      <td>09</td>\n",
       "    </tr>\n",
       "    <tr>\n",
       "      <th>1218</th>\n",
       "      <td>Newark</td>\n",
       "      <td>PV</td>\n",
       "      <td>residential</td>\n",
       "      <td>1040.0</td>\n",
       "      <td>14705.0</td>\n",
       "      <td>572.0</td>\n",
       "      <td>unpaid</td>\n",
       "      <td>rooftop</td>\n",
       "      <td>lease</td>\n",
       "      <td>19702</td>\n",
       "      <td>2017-07-12 16:20:00</td>\n",
       "      <td>2017</td>\n",
       "      <td>07</td>\n",
       "    </tr>\n",
       "    <tr>\n",
       "      <th>1219</th>\n",
       "      <td>WIlmington</td>\n",
       "      <td>PV</td>\n",
       "      <td>residential</td>\n",
       "      <td>1300.0</td>\n",
       "      <td>10413.0</td>\n",
       "      <td>715.0</td>\n",
       "      <td>unpaid</td>\n",
       "      <td>rooftop</td>\n",
       "      <td>lease</td>\n",
       "      <td>19808</td>\n",
       "      <td>2016-09-20 14:59:00</td>\n",
       "      <td>2016</td>\n",
       "      <td>09</td>\n",
       "    </tr>\n",
       "    <tr>\n",
       "      <th>1220</th>\n",
       "      <td>Claymont</td>\n",
       "      <td>PV</td>\n",
       "      <td>residential</td>\n",
       "      <td>1300.0</td>\n",
       "      <td>30082.0</td>\n",
       "      <td>715.0</td>\n",
       "      <td>paid</td>\n",
       "      <td>rooftop</td>\n",
       "      <td>lease</td>\n",
       "      <td>19703</td>\n",
       "      <td>2016-09-27 19:09:00</td>\n",
       "      <td>2016</td>\n",
       "      <td>09</td>\n",
       "    </tr>\n",
       "  </tbody>\n",
       "</table>\n",
       "</div>"
      ],
      "text/plain": [
       "            city facility_type       sector  pv_capacity_kw  \\\n",
       "1215  Wilmington            PV  residential           780.0   \n",
       "1216      NEWARK            PV  residential           780.0   \n",
       "1218      Newark            PV  residential          1040.0   \n",
       "1219  WIlmington            PV  residential          1300.0   \n",
       "1220    Claymont            PV  residential          1300.0   \n",
       "\n",
       "      total_system_costs  total_rebate payment_status mounting_location  \\\n",
       "1215             20826.0         429.0           paid           rooftop   \n",
       "1216             50908.0         429.0           paid           rooftop   \n",
       "1218             14705.0         572.0         unpaid           rooftop   \n",
       "1219             10413.0         715.0         unpaid           rooftop   \n",
       "1220             30082.0         715.0           paid           rooftop   \n",
       "\n",
       "     ppa_lease Zip5digits                date  year month  \n",
       "1215     lease      19805 2016-09-21 17:06:00  2016    09  \n",
       "1216     lease      19713 2016-09-08 16:32:00  2016    09  \n",
       "1218     lease      19702 2017-07-12 16:20:00  2017    07  \n",
       "1219     lease      19808 2016-09-20 14:59:00  2016    09  \n",
       "1220     lease      19703 2016-09-27 19:09:00  2016    09  "
      ]
     },
     "execution_count": 62,
     "metadata": {},
     "output_type": "execute_result"
    }
   ],
   "source": [
    "GEPG_PV_df[(GEPG_PV_df['sector']=='residential') & (GEPG_PV_df['ppa_lease']=='lease')].head()"
   ]
  },
  {
   "cell_type": "code",
   "execution_count": 63,
   "id": "072ffcb7",
   "metadata": {
    "tags": []
   },
   "outputs": [
    {
     "data": {
      "text/plain": [
       "year\n",
       "2016    470\n",
       "2015    414\n",
       "2017    198\n",
       "2014    138\n",
       "2018      1\n",
       "Name: count, dtype: int64"
      ]
     },
     "execution_count": 63,
     "metadata": {},
     "output_type": "execute_result"
    }
   ],
   "source": [
    "GEPG_PV_df[(GEPG_PV_df['sector']=='residential') & (GEPG_PV_df['ppa_lease']=='lease')]['year'].value_counts()"
   ]
  },
  {
   "cell_type": "code",
   "execution_count": 64,
   "id": "f39b18dd",
   "metadata": {
    "tags": []
   },
   "outputs": [
    {
     "data": {
      "text/plain": [
       "year\n",
       "2016    301\n",
       "2015    104\n",
       "2017     84\n",
       "2014     63\n",
       "Name: count, dtype: int64"
      ]
     },
     "execution_count": 64,
     "metadata": {},
     "output_type": "execute_result"
    }
   ],
   "source": [
    "GEPG_PV_df[(GEPG_PV_df['sector']=='residential') & (GEPG_PV_df['ppa_lease']=='ppa')]['year'].value_counts()"
   ]
  },
  {
   "cell_type": "code",
   "execution_count": 65,
   "id": "da790498",
   "metadata": {
    "tags": []
   },
   "outputs": [
    {
     "data": {
      "text/plain": [
       "year\n",
       "2022    866\n",
       "2021    554\n",
       "2023    444\n",
       "2020    259\n",
       "2015    201\n",
       "2019    191\n",
       "2016    169\n",
       "2018    168\n",
       "2017    140\n",
       "2014     46\n",
       "Name: count, dtype: int64"
      ]
     },
     "execution_count": 65,
     "metadata": {},
     "output_type": "execute_result"
    }
   ],
   "source": [
    "GEPG_PV_df[(GEPG_PV_df['sector']=='residential') & (GEPG_PV_df['ppa_lease']=='owned')]['year'].value_counts()"
   ]
  },
  {
   "cell_type": "code",
   "execution_count": 66,
   "id": "0d2e95d5",
   "metadata": {
    "tags": []
   },
   "outputs": [
    {
     "data": {
      "text/plain": [
       "year\n",
       "2008    184\n",
       "2009    177\n",
       "2013    150\n",
       "2012    137\n",
       "2010    128\n",
       "2011     96\n",
       "2007     51\n",
       "2006     32\n",
       "2005      4\n",
       "2002      2\n",
       "2003      2\n",
       "2004      2\n",
       "Name: count, dtype: int64"
      ]
     },
     "execution_count": 66,
     "metadata": {},
     "output_type": "execute_result"
    }
   ],
   "source": [
    "GEPG_PV_df[(GEPG_PV_df['sector']=='residential') & (GEPG_PV_df['ppa_lease'].isnull())]['year'].value_counts()"
   ]
  },
  {
   "cell_type": "markdown",
   "id": "542d0717",
   "metadata": {},
   "source": [
    "Since all of the missing values are older than 2014, and since residential sector is owned, we assign them as owned."
   ]
  },
  {
   "cell_type": "code",
   "execution_count": 67,
   "id": "4faea164",
   "metadata": {
    "tags": []
   },
   "outputs": [],
   "source": [
    "GEPG_PV_df.loc[GEPG_PV_df['sector'] == 'residential', 'ppa_lease'] = GEPG_PV_df['ppa_lease'].fillna('owned')"
   ]
  },
  {
   "cell_type": "code",
   "execution_count": 68,
   "id": "d760edec",
   "metadata": {
    "tags": []
   },
   "outputs": [
    {
     "data": {
      "text/plain": [
       "Series([], Name: count, dtype: float64)"
      ]
     },
     "execution_count": 68,
     "metadata": {},
     "output_type": "execute_result"
    }
   ],
   "source": [
    "GEPG_PV_df[(GEPG_PV_df['sector']=='solar lease') & (GEPG_PV_df['ppa_lease'].notnull())]['ppa_lease'].value_counts() * 100 / len(GEPG_PV_df[(GEPG_PV_df['sector']=='solar lease') & (GEPG_PV_df['ppa_lease'].notnull())]['ppa_lease'])"
   ]
  },
  {
   "cell_type": "code",
   "execution_count": 69,
   "id": "cea33a9a",
   "metadata": {
    "tags": []
   },
   "outputs": [
    {
     "data": {
      "text/plain": [
       "year\n",
       "2013    65\n",
       "2012    15\n",
       "2011     5\n",
       "Name: count, dtype: int64"
      ]
     },
     "execution_count": 69,
     "metadata": {},
     "output_type": "execute_result"
    }
   ],
   "source": [
    "GEPG_PV_df[(GEPG_PV_df['sector']=='solar lease') & (GEPG_PV_df['ppa_lease'].isnull())]['year'].value_counts()"
   ]
  },
  {
   "cell_type": "code",
   "execution_count": 70,
   "id": "31f9d275",
   "metadata": {
    "tags": []
   },
   "outputs": [
    {
     "data": {
      "text/plain": [
       "Index([  31,   32,   80,  114,  115,  139,  146,  152,  177,  241,  271,  284,\n",
       "        286,  301,  315,  316,  379,  415,  429,  430,  442,  491,  498,  499,\n",
       "        531,  536,  564,  565,  597,  615,  635,  650,  666,  670,  676,  693,\n",
       "        700,  701,  705,  714,  723,  733,  743,  776,  777,  780,  799,  800,\n",
       "        804,  809,  836,  880,  891,  901,  906,  911,  912,  916,  917,  918,\n",
       "        933,  951,  958,  961,  969,  984,  988,  996, 1001, 1002, 1003, 1004,\n",
       "       1007, 1015, 1020, 1024, 1034, 1035, 1068, 1084, 1088, 1093, 1103, 1107,\n",
       "       1112],\n",
       "      dtype='int64')"
      ]
     },
     "execution_count": 70,
     "metadata": {},
     "output_type": "execute_result"
    }
   ],
   "source": [
    "GEPG_PV_df[GEPG_PV_df['sector']=='solar lease'].index"
   ]
  },
  {
   "cell_type": "code",
   "execution_count": 71,
   "id": "4c3af346",
   "metadata": {
    "tags": []
   },
   "outputs": [
    {
     "name": "stderr",
     "output_type": "stream",
     "text": [
      "/var/folders/75/y16smf2j5032r_8n2vhxct6r0000gn/T/ipykernel_25014/4284379894.py:1: SettingWithCopyWarning: \n",
      "A value is trying to be set on a copy of a slice from a DataFrame\n",
      "\n",
      "See the caveats in the documentation: https://pandas.pydata.org/pandas-docs/stable/user_guide/indexing.html#returning-a-view-versus-a-copy\n",
      "  GEPG_PV_df.drop(GEPG_PV_df[GEPG_PV_df['sector']=='solar lease'].index,axis=0,inplace=True)\n"
     ]
    }
   ],
   "source": [
    "GEPG_PV_df.drop(GEPG_PV_df[GEPG_PV_df['sector']=='solar lease'].index,axis=0,inplace=True)"
   ]
  },
  {
   "cell_type": "code",
   "execution_count": 72,
   "id": "0507654e",
   "metadata": {
    "tags": []
   },
   "outputs": [
    {
     "data": {
      "text/plain": [
       "Index([], dtype='int64')"
      ]
     },
     "execution_count": 72,
     "metadata": {},
     "output_type": "execute_result"
    }
   ],
   "source": [
    "GEPG_PV_df[GEPG_PV_df['sector']=='solar lease'].index"
   ]
  },
  {
   "cell_type": "code",
   "execution_count": 73,
   "id": "3be1ae5f",
   "metadata": {
    "tags": []
   },
   "outputs": [
    {
     "data": {
      "text/plain": [
       "city                     0\n",
       "facility_type            0\n",
       "sector                   0\n",
       "pv_capacity_kw           0\n",
       "total_system_costs       0\n",
       "total_rebate             0\n",
       "payment_status           0\n",
       "mounting_location     1125\n",
       "ppa_lease                0\n",
       "Zip5digits               0\n",
       "date                     0\n",
       "year                     0\n",
       "month                    0\n",
       "dtype: int64"
      ]
     },
     "execution_count": 73,
     "metadata": {},
     "output_type": "execute_result"
    }
   ],
   "source": [
    "GEPG_PV_df.isnull().sum()"
   ]
  },
  {
   "cell_type": "code",
   "execution_count": 74,
   "id": "4648c6a1",
   "metadata": {
    "tags": []
   },
   "outputs": [
    {
     "data": {
      "text/plain": [
       "mounting_location\n",
       "rooftop     98.337144\n",
       "ground       1.642070\n",
       "tracking     0.020786\n",
       "Name: count, dtype: float64"
      ]
     },
     "execution_count": 74,
     "metadata": {},
     "output_type": "execute_result"
    }
   ],
   "source": [
    "GEPG_PV_df[(GEPG_PV_df['sector']=='residential') & (GEPG_PV_df['mounting_location'].notnull())]['mounting_location'].value_counts() * 100 / len(GEPG_PV_df[(GEPG_PV_df['sector']=='residential') & (GEPG_PV_df['mounting_location'].notnull())]['mounting_location'])"
   ]
  },
  {
   "cell_type": "code",
   "execution_count": 75,
   "id": "b8355df3",
   "metadata": {
    "tags": []
   },
   "outputs": [],
   "source": [
    "GEPG_PV_df.loc[GEPG_PV_df['sector'] == 'residential', 'mounting_location'] = GEPG_PV_df['mounting_location'].fillna('rooftop')"
   ]
  },
  {
   "cell_type": "code",
   "execution_count": 76,
   "id": "3ce2be1a",
   "metadata": {
    "tags": []
   },
   "outputs": [
    {
     "data": {
      "text/plain": [
       "mounting_location\n",
       "rooftop    93.478261\n",
       "ground      6.521739\n",
       "Name: count, dtype: float64"
      ]
     },
     "execution_count": 76,
     "metadata": {},
     "output_type": "execute_result"
    }
   ],
   "source": [
    "GEPG_PV_df[(GEPG_PV_df['sector']=='non_profit') & (GEPG_PV_df['mounting_location'].notnull())]['mounting_location'].value_counts() * 100 / len(GEPG_PV_df[(GEPG_PV_df['sector']=='non_profit') & (GEPG_PV_df['mounting_location'].notnull())]['mounting_location'])"
   ]
  },
  {
   "cell_type": "code",
   "execution_count": 77,
   "id": "a52e01ea",
   "metadata": {
    "tags": []
   },
   "outputs": [],
   "source": [
    "GEPG_PV_df.loc[GEPG_PV_df['sector'] == 'non_profit', 'mounting_location'] = GEPG_PV_df['mounting_location'].fillna('rooftop')"
   ]
  },
  {
   "cell_type": "code",
   "execution_count": 78,
   "id": "7736a6dd",
   "metadata": {
    "tags": []
   },
   "outputs": [
    {
     "data": {
      "text/plain": [
       "mounting_location\n",
       "rooftop    89.285714\n",
       "ground     10.714286\n",
       "Name: count, dtype: float64"
      ]
     },
     "execution_count": 78,
     "metadata": {},
     "output_type": "execute_result"
    }
   ],
   "source": [
    "GEPG_PV_df[(GEPG_PV_df['sector']=='non_residential') & (GEPG_PV_df['mounting_location'].notnull())]['mounting_location'].value_counts() * 100 / len(GEPG_PV_df[(GEPG_PV_df['sector']=='non_residential') & (GEPG_PV_df['mounting_location'].notnull())]['mounting_location'])"
   ]
  },
  {
   "cell_type": "code",
   "execution_count": 79,
   "id": "3e4ae3f2",
   "metadata": {
    "tags": []
   },
   "outputs": [
    {
     "data": {
      "text/plain": [
       "count         9.000000\n",
       "mean     149323.333333\n",
       "std      265001.636504\n",
       "min       14820.000000\n",
       "25%       48000.000000\n",
       "50%       50000.000000\n",
       "75%       92800.000000\n",
       "max      849250.000000\n",
       "Name: pv_capacity_kw, dtype: float64"
      ]
     },
     "execution_count": 79,
     "metadata": {},
     "output_type": "execute_result"
    }
   ],
   "source": [
    "GEPG_PV_df[(GEPG_PV_df['sector']=='non_residential')  \n",
    "           & (GEPG_PV_df['mounting_location']=='ground')]['pv_capacity_kw'].describe()"
   ]
  },
  {
   "cell_type": "code",
   "execution_count": 80,
   "id": "a57f5e4e",
   "metadata": {
    "tags": []
   },
   "outputs": [
    {
     "data": {
      "text/plain": [
       "count        75.000000\n",
       "mean      37619.133333\n",
       "std       37021.877228\n",
       "min        4575.000000\n",
       "25%       17962.500000\n",
       "50%       28835.000000\n",
       "75%       48750.000000\n",
       "max      282575.000000\n",
       "Name: pv_capacity_kw, dtype: float64"
      ]
     },
     "execution_count": 80,
     "metadata": {},
     "output_type": "execute_result"
    }
   ],
   "source": [
    "GEPG_PV_df[(GEPG_PV_df['sector']=='non_residential') \n",
    "           & (GEPG_PV_df['mounting_location']=='rooftop')]['pv_capacity_kw'].describe()"
   ]
  },
  {
   "cell_type": "code",
   "execution_count": 81,
   "id": "d51f5340",
   "metadata": {
    "tags": []
   },
   "outputs": [
    {
     "data": {
      "text/plain": [
       "count     145.000000\n",
       "mean       46.377138\n",
       "std       131.001573\n",
       "min         1.456000\n",
       "25%        10.000000\n",
       "50%        20.700000\n",
       "75%        43.350000\n",
       "max      1433.970000\n",
       "Name: pv_capacity_kw, dtype: float64"
      ]
     },
     "execution_count": 81,
     "metadata": {},
     "output_type": "execute_result"
    }
   ],
   "source": [
    "GEPG_PV_df[(GEPG_PV_df['sector']=='non_residential') \n",
    "           & (GEPG_PV_df['mounting_location'].isnull())]['pv_capacity_kw'].describe()"
   ]
  },
  {
   "cell_type": "markdown",
   "id": "92f35644",
   "metadata": {},
   "source": [
    "For non residential sector: The fact that the mean of pv_capacity for unknown mounting location is so much smaller that the mean pv_capacity for mounting location on rooftop, and given that rooftop installation is just more frequent, we assign all of the unknown mounting locations to rooftop. "
   ]
  },
  {
   "cell_type": "code",
   "execution_count": 82,
   "id": "97db9d6d",
   "metadata": {
    "scrolled": true,
    "tags": []
   },
   "outputs": [],
   "source": [
    "GEPG_PV_df.loc[GEPG_PV_df['sector'] == 'non_residential', 'mounting_location'] = GEPG_PV_df['mounting_location'].fillna('rooftop')"
   ]
  },
  {
   "cell_type": "code",
   "execution_count": 83,
   "id": "f29ade48",
   "metadata": {
    "tags": []
   },
   "outputs": [
    {
     "name": "stdout",
     "output_type": "stream",
     "text": [
      "<class 'pandas.core.frame.DataFrame'>\n",
      "Index: 6066 entries, 0 to 6162\n",
      "Data columns (total 13 columns):\n",
      " #   Column              Non-Null Count  Dtype         \n",
      "---  ------              --------------  -----         \n",
      " 0   city                6066 non-null   object        \n",
      " 1   facility_type       6066 non-null   object        \n",
      " 2   sector              6066 non-null   object        \n",
      " 3   pv_capacity_kw      6066 non-null   float64       \n",
      " 4   total_system_costs  6066 non-null   float64       \n",
      " 5   total_rebate        6066 non-null   float64       \n",
      " 6   payment_status      6066 non-null   object        \n",
      " 7   mounting_location   6066 non-null   object        \n",
      " 8   ppa_lease           6066 non-null   object        \n",
      " 9   Zip5digits          6066 non-null   object        \n",
      " 10  date                6066 non-null   datetime64[ns]\n",
      " 11  year                6066 non-null   object        \n",
      " 12  month               6066 non-null   object        \n",
      "dtypes: datetime64[ns](1), float64(3), object(9)\n",
      "memory usage: 792.5+ KB\n"
     ]
    }
   ],
   "source": [
    "GEPG_PV_df.info()"
   ]
  },
  {
   "cell_type": "code",
   "execution_count": 84,
   "id": "5c39db38",
   "metadata": {
    "tags": []
   },
   "outputs": [
    {
     "name": "stderr",
     "output_type": "stream",
     "text": [
      "/var/folders/75/y16smf2j5032r_8n2vhxct6r0000gn/T/ipykernel_25014/3289123197.py:1: SettingWithCopyWarning: \n",
      "A value is trying to be set on a copy of a slice from a DataFrame\n",
      "\n",
      "See the caveats in the documentation: https://pandas.pydata.org/pandas-docs/stable/user_guide/indexing.html#returning-a-view-versus-a-copy\n",
      "  GEPG_PV_df.drop('facility_type',axis=1,inplace=True)\n"
     ]
    }
   ],
   "source": [
    "GEPG_PV_df.drop('facility_type',axis=1,inplace=True)"
   ]
  },
  {
   "cell_type": "markdown",
   "id": "c88467db",
   "metadata": {
    "tags": []
   },
   "source": [
    "# **3. Mapping**"
   ]
  },
  {
   "cell_type": "markdown",
   "id": "5e545b34-fb30-4027-8441-6f1a7536bb3b",
   "metadata": {
    "tags": []
   },
   "source": [
    "## 3.1. Exploring data"
   ]
  },
  {
   "cell_type": "code",
   "execution_count": 85,
   "id": "6bd280cd",
   "metadata": {
    "tags": []
   },
   "outputs": [
    {
     "data": {
      "text/plain": [
       "<Axes: xlabel='Zip5digits'>"
      ]
     },
     "execution_count": 85,
     "metadata": {},
     "output_type": "execute_result"
    },
    {
     "data": {
      "image/png": "[encoded data removed]",
      "text/plain": [
       "<Figure size 1200x400 with 1 Axes>"
      ]
     },
     "metadata": {},
     "output_type": "display_data"
    }
   ],
   "source": [
    "GEPG_PV_df['Zip5digits'].value_counts().plot.bar(figsize=(12,4))"
   ]
  },
  {
   "cell_type": "code",
   "execution_count": 86,
   "id": "46f24954",
   "metadata": {
    "tags": []
   },
   "outputs": [],
   "source": [
    "year = '2020'\n",
    "\n",
    "# Create shapefile query URL\n",
    "city_shape_url = f\"https://www2.census.gov/geo/tiger/TIGER{year}/PLACE/tl_{year}_10_place.zip\"\n",
    "city_gdf = gpd.read_file(city_shape_url)"
   ]
  },
  {
   "cell_type": "code",
   "execution_count": 87,
   "id": "3cb0ae7b",
   "metadata": {
    "tags": []
   },
   "outputs": [
    {
     "data": {
      "text/html": [
       "<div>\n",
       "<style scoped>\n",
       "    .dataframe tbody tr th:only-of-type {\n",
       "        vertical-align: middle;\n",
       "    }\n",
       "\n",
       "    .dataframe tbody tr th {\n",
       "        vertical-align: top;\n",
       "    }\n",
       "\n",
       "    .dataframe thead th {\n",
       "        text-align: right;\n",
       "    }\n",
       "</style>\n",
       "<table border=\"1\" class=\"dataframe\">\n",
       "  <thead>\n",
       "    <tr style=\"text-align: right;\">\n",
       "      <th></th>\n",
       "      <th>STATEFP</th>\n",
       "      <th>PLACEFP</th>\n",
       "      <th>PLACENS</th>\n",
       "      <th>GEOID</th>\n",
       "      <th>NAME</th>\n",
       "      <th>NAMELSAD</th>\n",
       "      <th>LSAD</th>\n",
       "      <th>CLASSFP</th>\n",
       "      <th>PCICBSA</th>\n",
       "      <th>PCINECTA</th>\n",
       "      <th>MTFCC</th>\n",
       "      <th>FUNCSTAT</th>\n",
       "      <th>ALAND</th>\n",
       "      <th>AWATER</th>\n",
       "      <th>INTPTLAT</th>\n",
       "      <th>INTPTLON</th>\n",
       "      <th>geometry</th>\n",
       "    </tr>\n",
       "  </thead>\n",
       "  <tbody>\n",
       "    <tr>\n",
       "      <th>0</th>\n",
       "      <td>10</td>\n",
       "      <td>64840</td>\n",
       "      <td>02391407</td>\n",
       "      <td>1064840</td>\n",
       "      <td>Selbyville</td>\n",
       "      <td>Selbyville town</td>\n",
       "      <td>43</td>\n",
       "      <td>C1</td>\n",
       "      <td>N</td>\n",
       "      <td>N</td>\n",
       "      <td>G4110</td>\n",
       "      <td>A</td>\n",
       "      <td>9276309</td>\n",
       "      <td>19781</td>\n",
       "      <td>+38.4621805</td>\n",
       "      <td>-075.2147712</td>\n",
       "      <td>POLYGON ((-75.25512 38.47784, -75.25305 38.478...</td>\n",
       "    </tr>\n",
       "  </tbody>\n",
       "</table>\n",
       "</div>"
      ],
      "text/plain": [
       "  STATEFP PLACEFP   PLACENS    GEOID        NAME         NAMELSAD LSAD  \\\n",
       "0      10   64840  02391407  1064840  Selbyville  Selbyville town   43   \n",
       "\n",
       "  CLASSFP PCICBSA PCINECTA  MTFCC FUNCSTAT    ALAND  AWATER     INTPTLAT  \\\n",
       "0      C1       N        N  G4110        A  9276309   19781  +38.4621805   \n",
       "\n",
       "       INTPTLON                                           geometry  \n",
       "0  -075.2147712  POLYGON ((-75.25512 38.47784, -75.25305 38.478...  "
      ]
     },
     "execution_count": 87,
     "metadata": {},
     "output_type": "execute_result"
    }
   ],
   "source": [
    "city_gdf.head(1)"
   ]
  },
  {
   "cell_type": "code",
   "execution_count": 88,
   "id": "dc9ed79f",
   "metadata": {
    "tags": []
   },
   "outputs": [
    {
     "data": {
      "text/plain": [
       "Text(0.5, 1.0, 'Cities')"
      ]
     },
     "execution_count": 88,
     "metadata": {},
     "output_type": "execute_result"
    },
    {
     "data": {
      "image/png": "[encoded data removed]",
      "text/plain": [
       "<Figure size 800x800 with 1 Axes>"
      ]
     },
     "metadata": {},
     "output_type": "display_data"
    }
   ],
   "source": [
    "fig, ax = plt.subplots(figsize=(8,8))\n",
    "city_gdf.plot(ax = ax, facecolor='pink',edgecolor='blue')\n",
    "ax.set_title(\"Cities\")"
   ]
  },
  {
   "cell_type": "markdown",
   "id": "abce9f32",
   "metadata": {},
   "source": [
    "In data frame called GEPG_PV_df there is a column named \"city\" which contains names of some cities in Delaware. In another data frame called city_gdf there is a column named \"NAME\" and it contains the name of the cities in Delaware. How can I find out which names are included in \"city\" column but are not included in \"NAME\" column?"
   ]
  },
  {
   "cell_type": "code",
   "execution_count": 89,
   "id": "bc301a57",
   "metadata": {
    "tags": []
   },
   "outputs": [],
   "source": [
    "mapping_df = GEPG_PV_df.copy()"
   ]
  },
  {
   "cell_type": "code",
   "execution_count": 90,
   "id": "38129c0e",
   "metadata": {
    "tags": []
   },
   "outputs": [],
   "source": [
    "mapping_df['city'] = mapping_df['city'].str.lower()"
   ]
  },
  {
   "cell_type": "code",
   "execution_count": 91,
   "id": "edaad347",
   "metadata": {
    "tags": []
   },
   "outputs": [
    {
     "name": "stdout",
     "output_type": "stream",
     "text": [
      "<class 'pandas.core.frame.DataFrame'>\n",
      "Index: 6066 entries, 0 to 6162\n",
      "Data columns (total 12 columns):\n",
      " #   Column              Non-Null Count  Dtype         \n",
      "---  ------              --------------  -----         \n",
      " 0   city                6066 non-null   object        \n",
      " 1   sector              6066 non-null   object        \n",
      " 2   pv_capacity_kw      6066 non-null   float64       \n",
      " 3   total_system_costs  6066 non-null   float64       \n",
      " 4   total_rebate        6066 non-null   float64       \n",
      " 5   payment_status      6066 non-null   object        \n",
      " 6   mounting_location   6066 non-null   object        \n",
      " 7   ppa_lease           6066 non-null   object        \n",
      " 8   Zip5digits          6066 non-null   object        \n",
      " 9   date                6066 non-null   datetime64[ns]\n",
      " 10  year                6066 non-null   object        \n",
      " 11  month               6066 non-null   object        \n",
      "dtypes: datetime64[ns](1), float64(3), object(8)\n",
      "memory usage: 745.1+ KB\n"
     ]
    }
   ],
   "source": [
    "mapping_df.info()"
   ]
  },
  {
   "cell_type": "code",
   "execution_count": 92,
   "id": "13bef756",
   "metadata": {
    "tags": []
   },
   "outputs": [
    {
     "name": "stdout",
     "output_type": "stream",
     "text": [
      "['19713', 'bearr', 'bethany beach,', 'bridegeville', 'bridgville', 'camden wyoming', 'camden-wyoming', 'christiana', 'clarksville', 'claymonth', 'de', 'delmas', 'dewey', 'example', 'fenwick', 'fredrica', 'harbeson', 'laruel', 'lewes de', 'marydel', 'midddletown', 'middeltown', 'middle town', 'middleton', 'middletwon', 'midletown', 'milton de 19968', 'new castle county', 'new castle de', 'neward', 'newcastle', 'ocean  view', 'ocean veiw', 'rehoboth', 'rehoboth beach de', 'rehoboth st', 'rohoboth beach', 's bethany', 's. bethany beach', 'selbyville de', 'selvyville', 'south bethany beach', 'st georges', 'townsednd', 'townsende', 'west hockessin', 'wilimington', 'wilmingon', 'wimington', 'yorklyn']\n"
     ]
    }
   ],
   "source": [
    "## Finding suspicious city names by identifying the ones not included in Census:\n",
    "\n",
    "# Convert the \"city\" column in GEPG_PV_df to a set with lowercase city names\n",
    "mapping_df_city_set = set(mapping_df['city'])\n",
    "\n",
    "# Convert the \"NAME\" column in city_gdf to a set with lowercase city names\n",
    "city_gdf_name_set = set(city_gdf['NAME'].str.lower())\n",
    "\n",
    "# Find the names in city_set_gepg that are not in city_set_gdf\n",
    "names_not_in_city_gdf = mapping_df_city_set - city_gdf_name_set\n",
    "\n",
    "# Convert the result back to a list if needed\n",
    "names_not_in_city_gdf_list = list(names_not_in_city_gdf)\n",
    "\n",
    "# Print or work with the names that are in \"city\" but not in \"NAME\"\n",
    "print(sorted(names_not_in_city_gdf_list))\n"
   ]
  },
  {
   "cell_type": "code",
   "execution_count": 93,
   "id": "4395dbca",
   "metadata": {
    "tags": []
   },
   "outputs": [],
   "source": [
    "city_drop_list = ['19713', 'de', 'example', 'new castle county', 'new castle de', 'newcastle']\n",
    "mapping_df = mapping_df.drop(mapping_df[mapping_df['city'].isin(city_drop_list)].index)"
   ]
  },
  {
   "cell_type": "code",
   "execution_count": 94,
   "id": "0eaef3ab",
   "metadata": {
    "tags": []
   },
   "outputs": [],
   "source": [
    "mapping_df['city'].replace({\n",
    "    'bearr': 'bear',\n",
    "    'bethany beach,': 'bethany beach',\n",
    "    'bridegeville': 'bridgeville',\n",
    "    'bridgville': 'bridgeville',\n",
    "    'camden wyoming': 'camden',\n",
    "    'camden-wyoming': 'camden',\n",
    "    'claymonth': 'claymont',\n",
    "    'delmas': 'delmar',\n",
    "    'fredrica': 'frederica',\n",
    "    'laruel': 'laurel',\n",
    "    'lewes de': 'lewes',\n",
    "    'midddletown': 'middletown',\n",
    "    'middeltown': 'middletown',\n",
    "    'middle town': 'middletown',\n",
    "    'middleton': 'middletown',\n",
    "    'middletwon': 'middletown',\n",
    "    'midletown': 'middletown',\n",
    "    'milton de 19968': 'milton',\n",
    "    'neward': 'newark',\n",
    "    'ocean veiw': 'ocean view',\n",
    "    'ocean  view': 'ocean view',\n",
    "    'rehoboth beach de': 'rehoboth beach',\n",
    "    'rehoboth st': 'rehoboth', \n",
    "    'rohoboth beach': 'rehoboth beach',\n",
    "    's bethany': 'bethany', \n",
    "    's. bethany beach': 'bethany beach',\n",
    "    'selbyville de': 'selbyville', \n",
    "    'selvyville': 'selbyville',\n",
    "    'south bethany beach': 'bethany beach',\n",
    "    'st georges': 'saint georges',\n",
    "    'townsednd': 'townsend',\n",
    "    'townsende': 'townsend',\n",
    "    'west hockessin': 'hockessin',\n",
    "    'wilimington': 'wilmington', \n",
    "    'wilmingon': 'wilmington', \n",
    "    'wimington': 'wilmington',\n",
    "    \n",
    "}, inplace=True)"
   ]
  },
  {
   "cell_type": "code",
   "execution_count": 95,
   "id": "0755bfce",
   "metadata": {
    "tags": []
   },
   "outputs": [
    {
     "name": "stdout",
     "output_type": "stream",
     "text": [
      "['bethany', 'christiana', 'clarksville', 'dewey', 'fenwick', 'harbeson', 'marydel', 'rehoboth', 'saint georges', 'yorklyn']\n"
     ]
    }
   ],
   "source": [
    "## Finding suspicious city names by identifying the ones not included in Census:\n",
    "\n",
    "# Convert the \"city\" column in GEPG_PV_df to a set with lowercase city names\n",
    "mapping_df_city_set = set(mapping_df['city'])\n",
    "\n",
    "# Convert the \"NAME\" column in city_gdf to a set with lowercase city names\n",
    "city_gdf_name_set = set(city_gdf['NAME'].str.lower())\n",
    "\n",
    "# Find the names in city_set_gepg that are not in city_set_gdf\n",
    "names_not_in_city_gdf = mapping_df_city_set - city_gdf_name_set\n",
    "\n",
    "# Convert the result back to a list if needed\n",
    "names_not_in_city_gdf_list = list(names_not_in_city_gdf)\n",
    "\n",
    "# Print or work with the names that are in \"city\" but not in \"NAME\"\n",
    "print(sorted(names_not_in_city_gdf_list))\n"
   ]
  },
  {
   "cell_type": "code",
   "execution_count": 96,
   "id": "f4c3ecb2",
   "metadata": {
    "tags": []
   },
   "outputs": [
    {
     "name": "stdout",
     "output_type": "stream",
     "text": [
      "bear :\n",
      "     19701 ( 530  case)\n",
      "     19702 ( 1  case)\n",
      "middletown :\n",
      "     19709 ( 646  case)\n",
      "     19720 ( 1  case)\n",
      "ocean view :\n",
      "     19970 ( 216  case)\n",
      "     19971 ( 1  case)\n",
      "rehoboth beach :\n",
      "     19971 ( 481  case)\n",
      "     19977 ( 1  case)\n",
      "     19951 ( 1  case)\n",
      "     19958 ( 1  case)\n",
      "new castle :\n",
      "     19720 ( 419  case)\n",
      "     19740 ( 1  case)\n",
      "     19805 ( 1  case)\n",
      "wilmington :\n",
      "     19808 ( 215  case)\n",
      "     19810 ( 148  case)\n",
      "     19803 ( 126  case)\n",
      "     19805 ( 88  case)\n",
      "     19804 ( 77  case)\n",
      "     19809 ( 53  case)\n",
      "     19807 ( 38  case)\n",
      "     19802 ( 37  case)\n",
      "     19801 ( 20  case)\n",
      "     19806 ( 16  case)\n",
      "     19850 ( 4  case)\n",
      "newark :\n",
      "     19702 ( 386  case)\n",
      "     19711 ( 224  case)\n",
      "     19713 ( 192  case)\n",
      "     19701 ( 3  case)\n",
      "     19714 ( 1  case)\n",
      "     19703 ( 1  case)\n",
      "     19709 ( 1  case)\n",
      "     19720 ( 1  case)\n",
      "harbeson :\n",
      "     19951 ( 18  case)\n",
      "     19952 ( 1  case)\n",
      "lewes :\n",
      "     19958 ( 240  case)\n",
      "     19971 ( 1  case)\n",
      "     19968 ( 1  case)\n",
      "milton :\n",
      "     19968 ( 128  case)\n",
      "     19963 ( 1  case)\n",
      "     19938 ( 1  case)\n",
      "     19966 ( 1  case)\n",
      "dover :\n",
      "     19901 ( 93  case)\n",
      "     19904 ( 45  case)\n",
      "     19709 ( 1  case)\n",
      "clarksville :\n",
      "     19970 ( 10  case)\n",
      "     19939 ( 1  case)\n",
      "townsend :\n",
      "     19734 ( 220  case)\n",
      "     19701 ( 1  case)\n",
      "selbyville :\n",
      "     19975 ( 87  case)\n",
      "     19973 ( 1  case)\n",
      "magnolia :\n",
      "     19962 ( 27  case)\n",
      "     19977 ( 1  case)\n",
      "delaware city :\n",
      "     19706 ( 10  case)\n",
      "     19709 ( 1  case)\n",
      "dagsboro :\n",
      "     19939 ( 25  case)\n",
      "     19970 ( 1  case)\n",
      "frederica :\n",
      "     19946 ( 43  case)\n",
      "     19976 ( 1  case)\n",
      "delmar :\n",
      "     19940 ( 37  case)\n",
      "     19950 ( 1  case)\n",
      "rehoboth :\n",
      "     19971 ( 3  case)\n",
      "     19970 ( 1  case)\n",
      "millville :\n",
      "     19967 ( 9  case)\n",
      "     19970 ( 8  case)\n",
      "wyoming :\n",
      "     19934 ( 6  case)\n",
      "     19980 ( 1  case)\n"
     ]
    }
   ],
   "source": [
    "## Finding city names have been assigned to more than one zip codes:\n",
    "\n",
    "city_list = list(mapping_df['city'].unique())\n",
    "for name in city_list:\n",
    "    if len(list(mapping_df[mapping_df['city']==name]['Zip5digits'].value_counts().index)) > 1:\n",
    "        zip_codes_list = list(mapping_df[mapping_df['city']==name]['Zip5digits'].value_counts().index)\n",
    "        repetition_list = list(mapping_df[mapping_df['city']==name]['Zip5digits'].value_counts())\n",
    "        print(name,\":\")\n",
    "        for i in range(0,len(zip_codes_list)):\n",
    "            print(\"    \",zip_codes_list[i],\"(\",repetition_list[i],\" case)\")"
   ]
  },
  {
   "cell_type": "markdown",
   "id": "b0e93211",
   "metadata": {
    "tags": []
   },
   "source": [
    "## 3.2. Geolocating based on city name"
   ]
  },
  {
   "cell_type": "code",
   "execution_count": 97,
   "id": "67096efa",
   "metadata": {
    "tags": []
   },
   "outputs": [],
   "source": [
    "from geopy.geocoders import Nominatim"
   ]
  },
  {
   "cell_type": "code",
   "execution_count": 98,
   "id": "90a9fcc3",
   "metadata": {
    "tags": []
   },
   "outputs": [],
   "source": [
    "# Create a Nominatim geocoder instance\n",
    "geolocator = Nominatim(user_agent=\"city_geocoder\")"
   ]
  },
  {
   "cell_type": "code",
   "execution_count": 99,
   "id": "74573fd5",
   "metadata": {
    "tags": []
   },
   "outputs": [],
   "source": [
    "def get_lat_lon(city_name):\n",
    "    location = geolocator.geocode(city_name + \", Delaware, USA\")\n",
    "    if location:\n",
    "        return location.latitude, location.longitude\n",
    "    else:\n",
    "        return None, None\n"
   ]
  },
  {
   "cell_type": "code",
   "execution_count": 100,
   "id": "3db54f63-a019-4f90-8a62-d3206017a4cd",
   "metadata": {},
   "outputs": [
    {
     "name": "stderr",
     "output_type": "stream",
     "text": [
      "WARNING:urllib3.connectionpool:Retrying (Retry(total=1, connect=None, read=None, redirect=None, status=None)) after connection broken by 'ReadTimeoutError(\"HTTPSConnectionPool(host='nominatim.openstreetmap.org', port=443): Read timed out. (read timeout=1)\")': /search?q=odessa%2C+Delaware%2C+USA&format=json&limit=1\n"
     ]
    }
   ],
   "source": [
    "city_names = list(sorted(set(mapping_df['city'])))\n",
    "city_coordinates = {'city': [], 'latitude': [], 'longitude': []}\n",
    "\n",
    "for city_name in city_names:\n",
    "    latitude, longitude = get_lat_lon(city_name)\n",
    "    if latitude is not None and longitude is not None:\n",
    "        city_coordinates['city'].append(city_name)\n",
    "        city_coordinates['latitude'].append(latitude)\n",
    "        city_coordinates['longitude'].append(longitude)\n",
    "    else:\n",
    "        print(f\"There was an error with {city_name}\")\n",
    "\n",
    "# Convert the dictionary to a new DataFrame\n",
    "city_coordinates_df = pd.DataFrame(city_coordinates)\n",
    "\n",
    "# Merge city_coordinates_df with mapping_df based on the 'city' column\n",
    "mapping_df = mapping_df.merge(city_coordinates_df, on='city', how='left')"
   ]
  },
  {
   "cell_type": "code",
   "execution_count": 101,
   "id": "56224dc8-1d38-4a93-985e-ea49c02109ce",
   "metadata": {
    "tags": []
   },
   "outputs": [],
   "source": [
    "mapping_df.loc[mapping_df['city'] == 'middletown', ['latitude', 'longitude']] = (39.4495560, -75.7163207)"
   ]
  },
  {
   "cell_type": "code",
   "execution_count": 102,
   "id": "8a645461-74c6-4ffa-8da8-72c87c500452",
   "metadata": {
    "tags": []
   },
   "outputs": [
    {
     "data": {
      "text/html": [
       "<div>\n",
       "<style scoped>\n",
       "    .dataframe tbody tr th:only-of-type {\n",
       "        vertical-align: middle;\n",
       "    }\n",
       "\n",
       "    .dataframe tbody tr th {\n",
       "        vertical-align: top;\n",
       "    }\n",
       "\n",
       "    .dataframe thead th {\n",
       "        text-align: right;\n",
       "    }\n",
       "</style>\n",
       "<table border=\"1\" class=\"dataframe\">\n",
       "  <thead>\n",
       "    <tr style=\"text-align: right;\">\n",
       "      <th></th>\n",
       "      <th>city</th>\n",
       "      <th>sector</th>\n",
       "      <th>pv_capacity_kw</th>\n",
       "      <th>total_system_costs</th>\n",
       "      <th>total_rebate</th>\n",
       "      <th>payment_status</th>\n",
       "      <th>mounting_location</th>\n",
       "      <th>ppa_lease</th>\n",
       "      <th>Zip5digits</th>\n",
       "      <th>date</th>\n",
       "      <th>year</th>\n",
       "      <th>month</th>\n",
       "      <th>latitude</th>\n",
       "      <th>longitude</th>\n",
       "    </tr>\n",
       "  </thead>\n",
       "  <tbody>\n",
       "    <tr>\n",
       "      <th>0</th>\n",
       "      <td>bear</td>\n",
       "      <td>residential</td>\n",
       "      <td>0.300</td>\n",
       "      <td>3194.67</td>\n",
       "      <td>1322.38</td>\n",
       "      <td>paid</td>\n",
       "      <td>rooftop</td>\n",
       "      <td>owned</td>\n",
       "      <td>19701</td>\n",
       "      <td>2008-07-25</td>\n",
       "      <td>2008</td>\n",
       "      <td>07</td>\n",
       "      <td>39.629279</td>\n",
       "      <td>-75.658263</td>\n",
       "    </tr>\n",
       "    <tr>\n",
       "      <th>1</th>\n",
       "      <td>middletown</td>\n",
       "      <td>residential</td>\n",
       "      <td>0.426</td>\n",
       "      <td>3000.00</td>\n",
       "      <td>903.00</td>\n",
       "      <td>paid</td>\n",
       "      <td>rooftop</td>\n",
       "      <td>owned</td>\n",
       "      <td>19709</td>\n",
       "      <td>2008-04-07</td>\n",
       "      <td>2008</td>\n",
       "      <td>04</td>\n",
       "      <td>39.449556</td>\n",
       "      <td>-75.716321</td>\n",
       "    </tr>\n",
       "  </tbody>\n",
       "</table>\n",
       "</div>"
      ],
      "text/plain": [
       "         city       sector  pv_capacity_kw  total_system_costs  total_rebate  \\\n",
       "0        bear  residential           0.300             3194.67       1322.38   \n",
       "1  middletown  residential           0.426             3000.00        903.00   \n",
       "\n",
       "  payment_status mounting_location ppa_lease Zip5digits       date  year  \\\n",
       "0           paid           rooftop     owned      19701 2008-07-25  2008   \n",
       "1           paid           rooftop     owned      19709 2008-04-07  2008   \n",
       "\n",
       "  month   latitude  longitude  \n",
       "0    07  39.629279 -75.658263  \n",
       "1    04  39.449556 -75.716321  "
      ]
     },
     "execution_count": 102,
     "metadata": {},
     "output_type": "execute_result"
    }
   ],
   "source": [
    "mapping_df.head(2)"
   ]
  },
  {
   "cell_type": "code",
   "execution_count": 103,
   "id": "1a07e685-6531-42eb-9a70-66168ef3f1a1",
   "metadata": {
    "tags": []
   },
   "outputs": [],
   "source": [
    "# Create a GeoDataFrame from the latitude and longitude columns\n",
    "geometry = gpd.points_from_xy(mapping_df['longitude'], mapping_df['latitude'])\n",
    "mapping_gdf = gpd.GeoDataFrame(mapping_df, geometry=geometry)"
   ]
  },
  {
   "cell_type": "code",
   "execution_count": 104,
   "id": "4b63adfb-e8d7-4fee-be2d-731a8ff63d76",
   "metadata": {
    "tags": []
   },
   "outputs": [
    {
     "data": {
      "text/html": [
       "<div>\n",
       "<style scoped>\n",
       "    .dataframe tbody tr th:only-of-type {\n",
       "        vertical-align: middle;\n",
       "    }\n",
       "\n",
       "    .dataframe tbody tr th {\n",
       "        vertical-align: top;\n",
       "    }\n",
       "\n",
       "    .dataframe thead th {\n",
       "        text-align: right;\n",
       "    }\n",
       "</style>\n",
       "<table border=\"1\" class=\"dataframe\">\n",
       "  <thead>\n",
       "    <tr style=\"text-align: right;\">\n",
       "      <th></th>\n",
       "      <th>city</th>\n",
       "      <th>sector</th>\n",
       "      <th>pv_capacity_kw</th>\n",
       "      <th>total_system_costs</th>\n",
       "      <th>total_rebate</th>\n",
       "      <th>payment_status</th>\n",
       "      <th>mounting_location</th>\n",
       "      <th>ppa_lease</th>\n",
       "      <th>Zip5digits</th>\n",
       "      <th>date</th>\n",
       "      <th>year</th>\n",
       "      <th>month</th>\n",
       "      <th>latitude</th>\n",
       "      <th>longitude</th>\n",
       "      <th>geometry</th>\n",
       "    </tr>\n",
       "  </thead>\n",
       "  <tbody>\n",
       "    <tr>\n",
       "      <th>0</th>\n",
       "      <td>bear</td>\n",
       "      <td>residential</td>\n",
       "      <td>0.300</td>\n",
       "      <td>3194.67</td>\n",
       "      <td>1322.38</td>\n",
       "      <td>paid</td>\n",
       "      <td>rooftop</td>\n",
       "      <td>owned</td>\n",
       "      <td>19701</td>\n",
       "      <td>2008-07-25</td>\n",
       "      <td>2008</td>\n",
       "      <td>07</td>\n",
       "      <td>39.629279</td>\n",
       "      <td>-75.658263</td>\n",
       "      <td>POINT (-75.65826 39.62928)</td>\n",
       "    </tr>\n",
       "    <tr>\n",
       "      <th>1</th>\n",
       "      <td>middletown</td>\n",
       "      <td>residential</td>\n",
       "      <td>0.426</td>\n",
       "      <td>3000.00</td>\n",
       "      <td>903.00</td>\n",
       "      <td>paid</td>\n",
       "      <td>rooftop</td>\n",
       "      <td>owned</td>\n",
       "      <td>19709</td>\n",
       "      <td>2008-04-07</td>\n",
       "      <td>2008</td>\n",
       "      <td>04</td>\n",
       "      <td>39.449556</td>\n",
       "      <td>-75.716321</td>\n",
       "      <td>POINT (-75.71632 39.44956)</td>\n",
       "    </tr>\n",
       "  </tbody>\n",
       "</table>\n",
       "</div>"
      ],
      "text/plain": [
       "         city       sector  pv_capacity_kw  total_system_costs  total_rebate  \\\n",
       "0        bear  residential           0.300             3194.67       1322.38   \n",
       "1  middletown  residential           0.426             3000.00        903.00   \n",
       "\n",
       "  payment_status mounting_location ppa_lease Zip5digits       date  year  \\\n",
       "0           paid           rooftop     owned      19701 2008-07-25  2008   \n",
       "1           paid           rooftop     owned      19709 2008-04-07  2008   \n",
       "\n",
       "  month   latitude  longitude                    geometry  \n",
       "0    07  39.629279 -75.658263  POINT (-75.65826 39.62928)  \n",
       "1    04  39.449556 -75.716321  POINT (-75.71632 39.44956)  "
      ]
     },
     "execution_count": 104,
     "metadata": {},
     "output_type": "execute_result"
    }
   ],
   "source": [
    "mapping_gdf.head(2)"
   ]
  },
  {
   "cell_type": "code",
   "execution_count": 105,
   "id": "1b95ed48-99b8-4b9d-a2d6-4f318a5513a1",
   "metadata": {
    "tags": []
   },
   "outputs": [],
   "source": [
    "# Setting the CRS for mapping_gdf\n",
    "mapping_gdf = mapping_gdf.set_crs(epsg=4269)"
   ]
  },
  {
   "cell_type": "code",
   "execution_count": 106,
   "id": "13b343f6-feda-479b-8946-b3983e94bd9b",
   "metadata": {
    "tags": []
   },
   "outputs": [
    {
     "name": "stdout",
     "output_type": "stream",
     "text": [
      "Using FIPS code '10' for input 'DE'\n"
     ]
    }
   ],
   "source": [
    "sldu_gdf = pygris.state_legislative_districts(state='DE',year=2020, cb=True)"
   ]
  },
  {
   "cell_type": "markdown",
   "id": "b4856737-f4a8-46e8-b3d0-ec242bc674a6",
   "metadata": {
    "tags": []
   },
   "source": [
    "## 3.3. Mapping Grant Receiving Cities"
   ]
  },
  {
   "cell_type": "markdown",
   "id": "ca817cd2-6c63-4b93-a3ab-c79be29dedbb",
   "metadata": {},
   "source": [
    "Creating maps of sldu with cities that have received grants in a specific year being identified as points:"
   ]
  },
  {
   "cell_type": "code",
   "execution_count": 107,
   "id": "f71f0172-0be3-49c4-949f-bce84f7f6361",
   "metadata": {
    "tags": []
   },
   "outputs": [],
   "source": [
    "# 2. Filter data for a specific year (e.g., 2020)\n",
    "year_to_display = '2020'\n",
    "filtered_gdf = mapping_gdf[mapping_gdf['year'] == year_to_display]"
   ]
  },
  {
   "cell_type": "code",
   "execution_count": 108,
   "id": "38df0d5d-4759-47a6-98b4-72764c38e6dc",
   "metadata": {
    "tags": []
   },
   "outputs": [
    {
     "data": {
      "text/html": [
       "<div>\n",
       "<style scoped>\n",
       "    .dataframe tbody tr th:only-of-type {\n",
       "        vertical-align: middle;\n",
       "    }\n",
       "\n",
       "    .dataframe tbody tr th {\n",
       "        vertical-align: top;\n",
       "    }\n",
       "\n",
       "    .dataframe thead th {\n",
       "        text-align: right;\n",
       "    }\n",
       "</style>\n",
       "<table border=\"1\" class=\"dataframe\">\n",
       "  <thead>\n",
       "    <tr style=\"text-align: right;\">\n",
       "      <th></th>\n",
       "      <th>city</th>\n",
       "      <th>sector</th>\n",
       "      <th>pv_capacity_kw</th>\n",
       "      <th>total_system_costs</th>\n",
       "      <th>total_rebate</th>\n",
       "      <th>payment_status</th>\n",
       "      <th>mounting_location</th>\n",
       "      <th>ppa_lease</th>\n",
       "      <th>Zip5digits</th>\n",
       "      <th>date</th>\n",
       "      <th>year</th>\n",
       "      <th>month</th>\n",
       "      <th>latitude</th>\n",
       "      <th>longitude</th>\n",
       "      <th>geometry</th>\n",
       "    </tr>\n",
       "  </thead>\n",
       "  <tbody>\n",
       "    <tr>\n",
       "      <th>1128</th>\n",
       "      <td>wilmington</td>\n",
       "      <td>residential</td>\n",
       "      <td>728.97</td>\n",
       "      <td>38875.0</td>\n",
       "      <td>364.485</td>\n",
       "      <td>unpaid</td>\n",
       "      <td>rooftop</td>\n",
       "      <td>owned</td>\n",
       "      <td>19810</td>\n",
       "      <td>2020-06-01 20:36:00</td>\n",
       "      <td>2020</td>\n",
       "      <td>06</td>\n",
       "      <td>39.745947</td>\n",
       "      <td>-75.546589</td>\n",
       "      <td>POINT (-75.54659 39.74595)</td>\n",
       "    </tr>\n",
       "  </tbody>\n",
       "</table>\n",
       "</div>"
      ],
      "text/plain": [
       "            city       sector  pv_capacity_kw  total_system_costs  \\\n",
       "1128  wilmington  residential          728.97             38875.0   \n",
       "\n",
       "      total_rebate payment_status mounting_location ppa_lease Zip5digits  \\\n",
       "1128       364.485         unpaid           rooftop     owned      19810   \n",
       "\n",
       "                    date  year month   latitude  longitude  \\\n",
       "1128 2020-06-01 20:36:00  2020    06  39.745947 -75.546589   \n",
       "\n",
       "                        geometry  \n",
       "1128  POINT (-75.54659 39.74595)  "
      ]
     },
     "execution_count": 108,
     "metadata": {},
     "output_type": "execute_result"
    }
   ],
   "source": [
    "filtered_gdf.head(1)"
   ]
  },
  {
   "cell_type": "code",
   "execution_count": 109,
   "id": "7cc44aa2-bcf4-42fe-b2d4-72ff167c64a8",
   "metadata": {
    "tags": []
   },
   "outputs": [
    {
     "data": {
      "image/png": "[encoded data removed]",
      "text/plain": [
       "<Figure size 1200x800 with 1 Axes>"
      ]
     },
     "metadata": {},
     "output_type": "display_data"
    }
   ],
   "source": [
    "# 3. Create the map\n",
    "fig, ax = plt.subplots(figsize=(12, 8))\n",
    "\n",
    "# Plot legislative districts\n",
    "sldu_gdf.plot(ax=ax, color='lightgray', edgecolor='black', linewidth=0.8)\n",
    "\n",
    "# Plot cities with grant data as points\n",
    "filtered_gdf.plot(ax=ax, color='blue', markersize=50, label='Cities with Grants')\n",
    "\n",
    "# Set plot title and legend\n",
    "ax.set_title(f'State Legislative Districts in Delaware with Grant Receiving Cities (Year {year_to_display})')\n",
    "# ax.set_xlim([-75.9, -74.9])\n",
    "# ax.set_ylim([38.4, 39.95])\n",
    "ax.set_axis_off()\n",
    "ax.legend(loc=0);"
   ]
  },
  {
   "cell_type": "markdown",
   "id": "ee639968-9026-4fe4-b6cb-43b51ffae0df",
   "metadata": {
    "tags": []
   },
   "source": [
    "## 3.4. Mappping Total Grants per SLDU"
   ]
  },
  {
   "cell_type": "markdown",
   "id": "ee2f100a-45e0-4810-8c20-20b90fc28c72",
   "metadata": {},
   "source": [
    "Creating maps of sldu with approximation of the total grants in a specific year identified as color gradient:"
   ]
  },
  {
   "cell_type": "markdown",
   "id": "7eef6cdb-a9bc-45da-ac01-32955f413342",
   "metadata": {
    "tags": []
   },
   "source": [
    "### Determining corresponding distric for cities by performing spatial join"
   ]
  },
  {
   "cell_type": "code",
   "execution_count": 110,
   "id": "2031220e-25b6-480f-afcd-5e3cc17fdbf2",
   "metadata": {
    "tags": []
   },
   "outputs": [
    {
     "name": "stdout",
     "output_type": "stream",
     "text": [
      "Using FIPS code '10' for input 'DE'\n"
     ]
    }
   ],
   "source": [
    "sldu_gdf = pygris.state_legislative_districts(state='DE',year=2020, cb=True);"
   ]
  },
  {
   "cell_type": "code",
   "execution_count": 111,
   "id": "05721798-dd64-40a7-b6a6-b206e5338758",
   "metadata": {
    "tags": []
   },
   "outputs": [
    {
     "name": "stderr",
     "output_type": "stream",
     "text": [
      "/Users/kamran/anaconda3/envs/pygris/lib/python3.10/site-packages/IPython/core/interactiveshell.py:3466: FutureWarning: The `op` parameter is deprecated and will be removed in a future release. Please use the `predicate` parameter instead.\n",
      "  if await self.run_code(code, result, async_=asy):\n"
     ]
    }
   ],
   "source": [
    "# Perform the spatial join between legislative districts and grants data\n",
    "joined_gdf = gpd.sjoin(sldu_gdf, mapping_gdf, how=\"left\", op=\"intersects\")"
   ]
  },
  {
   "cell_type": "code",
   "execution_count": 112,
   "id": "618859e9-8850-4329-95a9-c0fbf6b64b1e",
   "metadata": {
    "tags": []
   },
   "outputs": [
    {
     "data": {
      "text/html": [
       "<div>\n",
       "<style scoped>\n",
       "    .dataframe tbody tr th:only-of-type {\n",
       "        vertical-align: middle;\n",
       "    }\n",
       "\n",
       "    .dataframe tbody tr th {\n",
       "        vertical-align: top;\n",
       "    }\n",
       "\n",
       "    .dataframe thead th {\n",
       "        text-align: right;\n",
       "    }\n",
       "</style>\n",
       "<table border=\"1\" class=\"dataframe\">\n",
       "  <thead>\n",
       "    <tr style=\"text-align: right;\">\n",
       "      <th></th>\n",
       "      <th>STATEFP</th>\n",
       "      <th>SLDUST</th>\n",
       "      <th>AFFGEOID</th>\n",
       "      <th>GEOID</th>\n",
       "      <th>NAME</th>\n",
       "      <th>NAMELSAD</th>\n",
       "      <th>STUSPS</th>\n",
       "      <th>STATE_NAME</th>\n",
       "      <th>LSAD</th>\n",
       "      <th>LSY</th>\n",
       "      <th>ALAND</th>\n",
       "      <th>AWATER</th>\n",
       "      <th>geometry</th>\n",
       "      <th>index_right</th>\n",
       "      <th>city</th>\n",
       "      <th>sector</th>\n",
       "      <th>pv_capacity_kw</th>\n",
       "      <th>total_system_costs</th>\n",
       "      <th>total_rebate</th>\n",
       "      <th>payment_status</th>\n",
       "      <th>mounting_location</th>\n",
       "      <th>ppa_lease</th>\n",
       "      <th>Zip5digits</th>\n",
       "      <th>date</th>\n",
       "      <th>year</th>\n",
       "      <th>month</th>\n",
       "      <th>latitude</th>\n",
       "      <th>longitude</th>\n",
       "    </tr>\n",
       "  </thead>\n",
       "  <tbody>\n",
       "    <tr>\n",
       "      <th>0</th>\n",
       "      <td>10</td>\n",
       "      <td>016</td>\n",
       "      <td>610U600US10016</td>\n",
       "      <td>10016</td>\n",
       "      <td>16</td>\n",
       "      <td>State Senate District 16</td>\n",
       "      <td>DE</td>\n",
       "      <td>Delaware</td>\n",
       "      <td>LU</td>\n",
       "      <td>2018</td>\n",
       "      <td>356355352</td>\n",
       "      <td>435453970</td>\n",
       "      <td>POLYGON ((-75.60942 39.07697, -75.60485 39.079...</td>\n",
       "      <td>5892.0</td>\n",
       "      <td>viola</td>\n",
       "      <td>residential</td>\n",
       "      <td>20000.0</td>\n",
       "      <td>74600.0</td>\n",
       "      <td>8000.0</td>\n",
       "      <td>pending</td>\n",
       "      <td>rooftop</td>\n",
       "      <td>lease</td>\n",
       "      <td>19979</td>\n",
       "      <td>2015-04-27 22:11:00</td>\n",
       "      <td>2015</td>\n",
       "      <td>04</td>\n",
       "      <td>39.042891</td>\n",
       "      <td>-75.57187</td>\n",
       "    </tr>\n",
       "  </tbody>\n",
       "</table>\n",
       "</div>"
      ],
      "text/plain": [
       "  STATEFP SLDUST        AFFGEOID  GEOID NAME                  NAMELSAD STUSPS  \\\n",
       "0      10    016  610U600US10016  10016   16  State Senate District 16     DE   \n",
       "\n",
       "  STATE_NAME LSAD   LSY      ALAND     AWATER  \\\n",
       "0   Delaware   LU  2018  356355352  435453970   \n",
       "\n",
       "                                            geometry  index_right   city  \\\n",
       "0  POLYGON ((-75.60942 39.07697, -75.60485 39.079...       5892.0  viola   \n",
       "\n",
       "        sector  pv_capacity_kw  total_system_costs  total_rebate  \\\n",
       "0  residential         20000.0             74600.0        8000.0   \n",
       "\n",
       "  payment_status mounting_location ppa_lease Zip5digits                date  \\\n",
       "0        pending           rooftop     lease      19979 2015-04-27 22:11:00   \n",
       "\n",
       "   year month   latitude  longitude  \n",
       "0  2015    04  39.042891  -75.57187  "
      ]
     },
     "execution_count": 112,
     "metadata": {},
     "output_type": "execute_result"
    }
   ],
   "source": [
    "joined_gdf.head(1)"
   ]
  },
  {
   "cell_type": "code",
   "execution_count": 113,
   "id": "c1197d69-5dad-4842-b9d5-f5aeb785faa0",
   "metadata": {
    "tags": []
   },
   "outputs": [
    {
     "name": "stdout",
     "output_type": "stream",
     "text": [
      "<class 'geopandas.geodataframe.GeoDataFrame'>\n",
      "Index: 6064 entries, 0 to 20\n",
      "Data columns (total 28 columns):\n",
      " #   Column              Non-Null Count  Dtype         \n",
      "---  ------              --------------  -----         \n",
      " 0   STATEFP             6064 non-null   object        \n",
      " 1   SLDUST              6064 non-null   object        \n",
      " 2   AFFGEOID            6064 non-null   object        \n",
      " 3   GEOID               6064 non-null   object        \n",
      " 4   NAME                6064 non-null   object        \n",
      " 5   NAMELSAD            6064 non-null   object        \n",
      " 6   STUSPS              6064 non-null   object        \n",
      " 7   STATE_NAME          6064 non-null   object        \n",
      " 8   LSAD                6064 non-null   object        \n",
      " 9   LSY                 6064 non-null   object        \n",
      " 10  ALAND               6064 non-null   int64         \n",
      " 11  AWATER              6064 non-null   int64         \n",
      " 12  geometry            6064 non-null   geometry      \n",
      " 13  index_right         6060 non-null   float64       \n",
      " 14  city                6060 non-null   object        \n",
      " 15  sector              6060 non-null   object        \n",
      " 16  pv_capacity_kw      6060 non-null   float64       \n",
      " 17  total_system_costs  6060 non-null   float64       \n",
      " 18  total_rebate        6060 non-null   float64       \n",
      " 19  payment_status      6060 non-null   object        \n",
      " 20  mounting_location   6060 non-null   object        \n",
      " 21  ppa_lease           6060 non-null   object        \n",
      " 22  Zip5digits          6060 non-null   object        \n",
      " 23  date                6060 non-null   datetime64[ns]\n",
      " 24  year                6060 non-null   object        \n",
      " 25  month               6060 non-null   object        \n",
      " 26  latitude            6060 non-null   float64       \n",
      " 27  longitude           6060 non-null   float64       \n",
      "dtypes: datetime64[ns](1), float64(6), geometry(1), int64(2), object(18)\n",
      "memory usage: 1.3+ MB\n"
     ]
    }
   ],
   "source": [
    "joined_gdf.info()"
   ]
  },
  {
   "cell_type": "code",
   "execution_count": 114,
   "id": "15c36c78-fe5d-4ec8-91a9-22b03ab5e894",
   "metadata": {
    "tags": []
   },
   "outputs": [
    {
     "data": {
      "text/plain": [
       "21"
      ]
     },
     "execution_count": 114,
     "metadata": {},
     "output_type": "execute_result"
    }
   ],
   "source": [
    "joined_gdf['SLDUST'].nunique()"
   ]
  },
  {
   "cell_type": "code",
   "execution_count": 115,
   "id": "a46e93e7-ed2e-457a-a39f-5bab0debd3be",
   "metadata": {
    "tags": []
   },
   "outputs": [
    {
     "data": {
      "text/plain": [
       "['007', '002', '005', '009']"
      ]
     },
     "execution_count": 115,
     "metadata": {},
     "output_type": "execute_result"
    }
   ],
   "source": [
    "joined_gdf[joined_gdf.isnull().any(axis=1)]['SLDUST'].tolist()"
   ]
  },
  {
   "cell_type": "code",
   "execution_count": 116,
   "id": "5cd92578-67f7-405c-9144-7ad9e0cd1220",
   "metadata": {
    "tags": []
   },
   "outputs": [
    {
     "data": {
      "text/html": [
       "<div>\n",
       "<style scoped>\n",
       "    .dataframe tbody tr th:only-of-type {\n",
       "        vertical-align: middle;\n",
       "    }\n",
       "\n",
       "    .dataframe tbody tr th {\n",
       "        vertical-align: top;\n",
       "    }\n",
       "\n",
       "    .dataframe thead th {\n",
       "        text-align: right;\n",
       "    }\n",
       "</style>\n",
       "<table border=\"1\" class=\"dataframe\">\n",
       "  <thead>\n",
       "    <tr style=\"text-align: right;\">\n",
       "      <th></th>\n",
       "      <th>STATEFP</th>\n",
       "      <th>SLDUST</th>\n",
       "      <th>AFFGEOID</th>\n",
       "      <th>GEOID</th>\n",
       "      <th>NAME</th>\n",
       "      <th>NAMELSAD</th>\n",
       "      <th>STUSPS</th>\n",
       "      <th>STATE_NAME</th>\n",
       "      <th>LSAD</th>\n",
       "      <th>LSY</th>\n",
       "      <th>ALAND</th>\n",
       "      <th>AWATER</th>\n",
       "      <th>geometry</th>\n",
       "      <th>index_right</th>\n",
       "      <th>city</th>\n",
       "      <th>sector</th>\n",
       "      <th>pv_capacity_kw</th>\n",
       "      <th>total_system_costs</th>\n",
       "      <th>total_rebate</th>\n",
       "      <th>payment_status</th>\n",
       "      <th>mounting_location</th>\n",
       "      <th>ppa_lease</th>\n",
       "      <th>Zip5digits</th>\n",
       "      <th>date</th>\n",
       "      <th>year</th>\n",
       "      <th>month</th>\n",
       "      <th>latitude</th>\n",
       "      <th>longitude</th>\n",
       "    </tr>\n",
       "  </thead>\n",
       "  <tbody>\n",
       "    <tr>\n",
       "      <th>2</th>\n",
       "      <td>10</td>\n",
       "      <td>007</td>\n",
       "      <td>610U600US10007</td>\n",
       "      <td>10007</td>\n",
       "      <td>7</td>\n",
       "      <td>State Senate District 7</td>\n",
       "      <td>DE</td>\n",
       "      <td>Delaware</td>\n",
       "      <td>LU</td>\n",
       "      <td>2018</td>\n",
       "      <td>32690980</td>\n",
       "      <td>11967</td>\n",
       "      <td>POLYGON ((-75.67933 39.75051, -75.67734 39.752...</td>\n",
       "      <td>NaN</td>\n",
       "      <td>NaN</td>\n",
       "      <td>NaN</td>\n",
       "      <td>NaN</td>\n",
       "      <td>NaN</td>\n",
       "      <td>NaN</td>\n",
       "      <td>NaN</td>\n",
       "      <td>NaN</td>\n",
       "      <td>NaN</td>\n",
       "      <td>NaN</td>\n",
       "      <td>NaT</td>\n",
       "      <td>NaN</td>\n",
       "      <td>NaN</td>\n",
       "      <td>NaN</td>\n",
       "      <td>NaN</td>\n",
       "    </tr>\n",
       "    <tr>\n",
       "      <th>9</th>\n",
       "      <td>10</td>\n",
       "      <td>002</td>\n",
       "      <td>610U600US10002</td>\n",
       "      <td>10002</td>\n",
       "      <td>2</td>\n",
       "      <td>State Senate District 2</td>\n",
       "      <td>DE</td>\n",
       "      <td>Delaware</td>\n",
       "      <td>LU</td>\n",
       "      <td>2018</td>\n",
       "      <td>35688670</td>\n",
       "      <td>26002122</td>\n",
       "      <td>POLYGON ((-75.58174 39.69019, -75.57893 39.693...</td>\n",
       "      <td>NaN</td>\n",
       "      <td>NaN</td>\n",
       "      <td>NaN</td>\n",
       "      <td>NaN</td>\n",
       "      <td>NaN</td>\n",
       "      <td>NaN</td>\n",
       "      <td>NaN</td>\n",
       "      <td>NaN</td>\n",
       "      <td>NaN</td>\n",
       "      <td>NaN</td>\n",
       "      <td>NaT</td>\n",
       "      <td>NaN</td>\n",
       "      <td>NaN</td>\n",
       "      <td>NaN</td>\n",
       "      <td>NaN</td>\n",
       "    </tr>\n",
       "    <tr>\n",
       "      <th>13</th>\n",
       "      <td>10</td>\n",
       "      <td>005</td>\n",
       "      <td>610U600US10005</td>\n",
       "      <td>10005</td>\n",
       "      <td>5</td>\n",
       "      <td>State Senate District 5</td>\n",
       "      <td>DE</td>\n",
       "      <td>Delaware</td>\n",
       "      <td>LU</td>\n",
       "      <td>2018</td>\n",
       "      <td>36319081</td>\n",
       "      <td>24965</td>\n",
       "      <td>POLYGON ((-75.54976 39.81308, -75.54908 39.816...</td>\n",
       "      <td>NaN</td>\n",
       "      <td>NaN</td>\n",
       "      <td>NaN</td>\n",
       "      <td>NaN</td>\n",
       "      <td>NaN</td>\n",
       "      <td>NaN</td>\n",
       "      <td>NaN</td>\n",
       "      <td>NaN</td>\n",
       "      <td>NaN</td>\n",
       "      <td>NaN</td>\n",
       "      <td>NaT</td>\n",
       "      <td>NaN</td>\n",
       "      <td>NaN</td>\n",
       "      <td>NaN</td>\n",
       "      <td>NaN</td>\n",
       "    </tr>\n",
       "    <tr>\n",
       "      <th>18</th>\n",
       "      <td>10</td>\n",
       "      <td>009</td>\n",
       "      <td>610U600US10009</td>\n",
       "      <td>10009</td>\n",
       "      <td>9</td>\n",
       "      <td>State Senate District 9</td>\n",
       "      <td>DE</td>\n",
       "      <td>Delaware</td>\n",
       "      <td>LU</td>\n",
       "      <td>2018</td>\n",
       "      <td>51317082</td>\n",
       "      <td>68469</td>\n",
       "      <td>POLYGON ((-75.73829 39.67162, -75.73624 39.675...</td>\n",
       "      <td>NaN</td>\n",
       "      <td>NaN</td>\n",
       "      <td>NaN</td>\n",
       "      <td>NaN</td>\n",
       "      <td>NaN</td>\n",
       "      <td>NaN</td>\n",
       "      <td>NaN</td>\n",
       "      <td>NaN</td>\n",
       "      <td>NaN</td>\n",
       "      <td>NaN</td>\n",
       "      <td>NaT</td>\n",
       "      <td>NaN</td>\n",
       "      <td>NaN</td>\n",
       "      <td>NaN</td>\n",
       "      <td>NaN</td>\n",
       "    </tr>\n",
       "  </tbody>\n",
       "</table>\n",
       "</div>"
      ],
      "text/plain": [
       "   STATEFP SLDUST        AFFGEOID  GEOID NAME                 NAMELSAD STUSPS  \\\n",
       "2       10    007  610U600US10007  10007    7  State Senate District 7     DE   \n",
       "9       10    002  610U600US10002  10002    2  State Senate District 2     DE   \n",
       "13      10    005  610U600US10005  10005    5  State Senate District 5     DE   \n",
       "18      10    009  610U600US10009  10009    9  State Senate District 9     DE   \n",
       "\n",
       "   STATE_NAME LSAD   LSY     ALAND    AWATER  \\\n",
       "2    Delaware   LU  2018  32690980     11967   \n",
       "9    Delaware   LU  2018  35688670  26002122   \n",
       "13   Delaware   LU  2018  36319081     24965   \n",
       "18   Delaware   LU  2018  51317082     68469   \n",
       "\n",
       "                                             geometry  index_right city  \\\n",
       "2   POLYGON ((-75.67933 39.75051, -75.67734 39.752...          NaN  NaN   \n",
       "9   POLYGON ((-75.58174 39.69019, -75.57893 39.693...          NaN  NaN   \n",
       "13  POLYGON ((-75.54976 39.81308, -75.54908 39.816...          NaN  NaN   \n",
       "18  POLYGON ((-75.73829 39.67162, -75.73624 39.675...          NaN  NaN   \n",
       "\n",
       "   sector  pv_capacity_kw  total_system_costs  total_rebate payment_status  \\\n",
       "2     NaN             NaN                 NaN           NaN            NaN   \n",
       "9     NaN             NaN                 NaN           NaN            NaN   \n",
       "13    NaN             NaN                 NaN           NaN            NaN   \n",
       "18    NaN             NaN                 NaN           NaN            NaN   \n",
       "\n",
       "   mounting_location ppa_lease Zip5digits date year month  latitude  longitude  \n",
       "2                NaN       NaN        NaN  NaT  NaN   NaN       NaN        NaN  \n",
       "9                NaN       NaN        NaN  NaT  NaN   NaN       NaN        NaN  \n",
       "13               NaN       NaN        NaN  NaT  NaN   NaN       NaN        NaN  \n",
       "18               NaN       NaN        NaN  NaT  NaN   NaN       NaN        NaN  "
      ]
     },
     "execution_count": 116,
     "metadata": {},
     "output_type": "execute_result"
    }
   ],
   "source": [
    "joined_gdf[joined_gdf['SLDUST'].isin(joined_gdf[joined_gdf.isnull().any(axis=1)]['SLDUST'].tolist())]"
   ]
  },
  {
   "cell_type": "markdown",
   "id": "c6f469ad-03dc-4c8e-b5b3-2fbff642a1d3",
   "metadata": {},
   "source": [
    "It is possible that these four districts have never received any grants. Let's drop them."
   ]
  },
  {
   "cell_type": "code",
   "execution_count": 117,
   "id": "ee62a9ba-f69d-4f60-8ae0-2a99427e4e04",
   "metadata": {
    "tags": []
   },
   "outputs": [],
   "source": [
    "joined_gdf.drop(joined_gdf[joined_gdf.isnull().any(axis=1)].index,inplace=True)"
   ]
  },
  {
   "cell_type": "markdown",
   "id": "085112b3-9c9a-4b1f-aef3-d280ef565af3",
   "metadata": {
    "jp-MarkdownHeadingCollapsed": true,
    "tags": []
   },
   "source": [
    "### Aggregating data for a single year and for a single sector"
   ]
  },
  {
   "cell_type": "code",
   "execution_count": 118,
   "id": "028ccda7-315e-415f-95cc-c82884fb6f13",
   "metadata": {
    "tags": []
   },
   "outputs": [],
   "source": [
    "year_to_display = '2021'\n",
    "sector = 'residential'\n",
    "filtered_gdf = joined_gdf[(joined_gdf['year'] == year_to_display) & (joined_gdf['sector'] == sector)]"
   ]
  },
  {
   "cell_type": "code",
   "execution_count": 119,
   "id": "82a414d7-a400-43f8-8aac-aa3aad8fd390",
   "metadata": {
    "tags": []
   },
   "outputs": [],
   "source": [
    "# Group and aggregate data by legislative district\n",
    "agg_data = filtered_gdf.groupby('SLDUST').agg({\n",
    "    'total_system_costs': ['sum','count'],\n",
    "    'total_rebate': 'sum',\n",
    "    'pv_capacity_kw': 'sum'\n",
    "}).reset_index()\n",
    "\n",
    "# Rename the columns for clarity\n",
    "agg_data.columns = ['SLDUST', 'system_costs', 'system_count', 'rebate', 'capacity']"
   ]
  },
  {
   "cell_type": "code",
   "execution_count": 120,
   "id": "fb41d046-425b-432b-98d5-5a96834dcbfd",
   "metadata": {
    "tags": []
   },
   "outputs": [
    {
     "data": {
      "text/html": [
       "<div>\n",
       "<style scoped>\n",
       "    .dataframe tbody tr th:only-of-type {\n",
       "        vertical-align: middle;\n",
       "    }\n",
       "\n",
       "    .dataframe tbody tr th {\n",
       "        vertical-align: top;\n",
       "    }\n",
       "\n",
       "    .dataframe thead th {\n",
       "        text-align: right;\n",
       "    }\n",
       "</style>\n",
       "<table border=\"1\" class=\"dataframe\">\n",
       "  <thead>\n",
       "    <tr style=\"text-align: right;\">\n",
       "      <th></th>\n",
       "      <th>SLDUST</th>\n",
       "      <th>system_costs</th>\n",
       "      <th>system_count</th>\n",
       "      <th>rebate</th>\n",
       "      <th>capacity</th>\n",
       "    </tr>\n",
       "  </thead>\n",
       "  <tbody>\n",
       "    <tr>\n",
       "      <th>0</th>\n",
       "      <td>001</td>\n",
       "      <td>445802.0</td>\n",
       "      <td>12</td>\n",
       "      <td>58636.0</td>\n",
       "      <td>95150.0</td>\n",
       "    </tr>\n",
       "    <tr>\n",
       "      <th>1</th>\n",
       "      <td>003</td>\n",
       "      <td>2452649.0</td>\n",
       "      <td>74</td>\n",
       "      <td>370138.0</td>\n",
       "      <td>637265.0</td>\n",
       "    </tr>\n",
       "  </tbody>\n",
       "</table>\n",
       "</div>"
      ],
      "text/plain": [
       "  SLDUST  system_costs  system_count    rebate  capacity\n",
       "0    001      445802.0            12   58636.0   95150.0\n",
       "1    003     2452649.0            74  370138.0  637265.0"
      ]
     },
     "execution_count": 120,
     "metadata": {},
     "output_type": "execute_result"
    }
   ],
   "source": [
    "agg_data.head(2)"
   ]
  },
  {
   "cell_type": "code",
   "execution_count": 121,
   "id": "b7df16a5-4430-4e51-bb9c-6d2c594cb96e",
   "metadata": {
    "tags": []
   },
   "outputs": [
    {
     "name": "stdout",
     "output_type": "stream",
     "text": [
      "<class 'pandas.core.frame.DataFrame'>\n",
      "RangeIndex: 17 entries, 0 to 16\n",
      "Data columns (total 5 columns):\n",
      " #   Column        Non-Null Count  Dtype  \n",
      "---  ------        --------------  -----  \n",
      " 0   SLDUST        17 non-null     object \n",
      " 1   system_costs  17 non-null     float64\n",
      " 2   system_count  17 non-null     int64  \n",
      " 3   rebate        17 non-null     float64\n",
      " 4   capacity      17 non-null     float64\n",
      "dtypes: float64(3), int64(1), object(1)\n",
      "memory usage: 808.0+ bytes\n"
     ]
    }
   ],
   "source": [
    "agg_data.info()"
   ]
  },
  {
   "cell_type": "markdown",
   "id": "2d7ec8e1-76b1-4f2b-8f14-29aa6988e41f",
   "metadata": {
    "tags": []
   },
   "source": [
    "### Merge the aggregated data back into the sldu GeoDataFrame to give it district geometry"
   ]
  },
  {
   "cell_type": "code",
   "execution_count": 122,
   "id": "9707942c-36df-4de7-913e-660d67615d2e",
   "metadata": {
    "tags": []
   },
   "outputs": [],
   "source": [
    "# Merge the aggregated data back into the legislative districts GeoDataFrame\n",
    "sldu_gdf = sldu_gdf.merge(agg_data, left_on='SLDUST', right_on='SLDUST', how='left')"
   ]
  },
  {
   "cell_type": "code",
   "execution_count": 123,
   "id": "790ffb88-f631-483c-9299-dd305804ffbf",
   "metadata": {
    "tags": []
   },
   "outputs": [],
   "source": [
    "# As shown earlier, some districts did not receive grants. Let's set them to zero.\n",
    "sldu_gdf.fillna(value=0, inplace=True);"
   ]
  },
  {
   "cell_type": "code",
   "execution_count": 124,
   "id": "d2cf1097-532f-4740-8977-c3274f4f1286",
   "metadata": {
    "tags": []
   },
   "outputs": [
    {
     "data": {
      "text/html": [
       "<div>\n",
       "<style scoped>\n",
       "    .dataframe tbody tr th:only-of-type {\n",
       "        vertical-align: middle;\n",
       "    }\n",
       "\n",
       "    .dataframe tbody tr th {\n",
       "        vertical-align: top;\n",
       "    }\n",
       "\n",
       "    .dataframe thead th {\n",
       "        text-align: right;\n",
       "    }\n",
       "</style>\n",
       "<table border=\"1\" class=\"dataframe\">\n",
       "  <thead>\n",
       "    <tr style=\"text-align: right;\">\n",
       "      <th></th>\n",
       "      <th>STATEFP</th>\n",
       "      <th>SLDUST</th>\n",
       "      <th>AFFGEOID</th>\n",
       "      <th>GEOID</th>\n",
       "      <th>NAME</th>\n",
       "      <th>NAMELSAD</th>\n",
       "      <th>STUSPS</th>\n",
       "      <th>STATE_NAME</th>\n",
       "      <th>LSAD</th>\n",
       "      <th>LSY</th>\n",
       "      <th>ALAND</th>\n",
       "      <th>AWATER</th>\n",
       "      <th>geometry</th>\n",
       "      <th>system_costs</th>\n",
       "      <th>system_count</th>\n",
       "      <th>rebate</th>\n",
       "      <th>capacity</th>\n",
       "    </tr>\n",
       "  </thead>\n",
       "  <tbody>\n",
       "    <tr>\n",
       "      <th>0</th>\n",
       "      <td>10</td>\n",
       "      <td>016</td>\n",
       "      <td>610U600US10016</td>\n",
       "      <td>10016</td>\n",
       "      <td>16</td>\n",
       "      <td>State Senate District 16</td>\n",
       "      <td>DE</td>\n",
       "      <td>Delaware</td>\n",
       "      <td>LU</td>\n",
       "      <td>2018</td>\n",
       "      <td>356355352</td>\n",
       "      <td>435453970</td>\n",
       "      <td>POLYGON ((-75.60942 39.07697, -75.60485 39.079...</td>\n",
       "      <td>293352.0</td>\n",
       "      <td>9.0</td>\n",
       "      <td>43512.6</td>\n",
       "      <td>74499.0</td>\n",
       "    </tr>\n",
       "  </tbody>\n",
       "</table>\n",
       "</div>"
      ],
      "text/plain": [
       "  STATEFP SLDUST        AFFGEOID  GEOID NAME                  NAMELSAD STUSPS  \\\n",
       "0      10    016  610U600US10016  10016   16  State Senate District 16     DE   \n",
       "\n",
       "  STATE_NAME LSAD   LSY      ALAND     AWATER  \\\n",
       "0   Delaware   LU  2018  356355352  435453970   \n",
       "\n",
       "                                            geometry  system_costs  \\\n",
       "0  POLYGON ((-75.60942 39.07697, -75.60485 39.079...      293352.0   \n",
       "\n",
       "   system_count   rebate  capacity  \n",
       "0           9.0  43512.6   74499.0  "
      ]
     },
     "execution_count": 124,
     "metadata": {},
     "output_type": "execute_result"
    }
   ],
   "source": [
    "sldu_gdf.head(1)"
   ]
  },
  {
   "cell_type": "code",
   "execution_count": 125,
   "id": "7d756271-bdf2-419d-85b9-c6e442e90fdf",
   "metadata": {
    "tags": []
   },
   "outputs": [
    {
     "name": "stdout",
     "output_type": "stream",
     "text": [
      "<class 'geopandas.geodataframe.GeoDataFrame'>\n",
      "RangeIndex: 21 entries, 0 to 20\n",
      "Data columns (total 17 columns):\n",
      " #   Column        Non-Null Count  Dtype   \n",
      "---  ------        --------------  -----   \n",
      " 0   STATEFP       21 non-null     object  \n",
      " 1   SLDUST        21 non-null     object  \n",
      " 2   AFFGEOID      21 non-null     object  \n",
      " 3   GEOID         21 non-null     object  \n",
      " 4   NAME          21 non-null     object  \n",
      " 5   NAMELSAD      21 non-null     object  \n",
      " 6   STUSPS        21 non-null     object  \n",
      " 7   STATE_NAME    21 non-null     object  \n",
      " 8   LSAD          21 non-null     object  \n",
      " 9   LSY           21 non-null     object  \n",
      " 10  ALAND         21 non-null     int64   \n",
      " 11  AWATER        21 non-null     int64   \n",
      " 12  geometry      21 non-null     geometry\n",
      " 13  system_costs  21 non-null     float64 \n",
      " 14  system_count  21 non-null     float64 \n",
      " 15  rebate        21 non-null     float64 \n",
      " 16  capacity      21 non-null     float64 \n",
      "dtypes: float64(4), geometry(1), int64(2), object(10)\n",
      "memory usage: 2.9+ KB\n"
     ]
    }
   ],
   "source": [
    "sldu_gdf.info()"
   ]
  },
  {
   "cell_type": "code",
   "execution_count": 126,
   "id": "cf2b58d2-18af-44f8-9675-da6f3201d3e2",
   "metadata": {
    "tags": []
   },
   "outputs": [
    {
     "data": {
      "image/png": "[encoded data removed]",
      "text/plain": [
       "<Figure size 1200x800 with 2 Axes>"
      ]
     },
     "metadata": {},
     "output_type": "display_data"
    }
   ],
   "source": [
    "# Plot the legislative districts with color-coded features\n",
    "fig, ax = plt.subplots(1, 1, figsize=(12, 8))\n",
    "\n",
    "# Choose the feature you want to visualize (e.g., 'total_system_costs')\n",
    "feature_to_visualize = 'rebate'\n",
    "\n",
    "# Plot the districts using color mapping based on the chosen feature\n",
    "sldu_gdf.plot(column=feature_to_visualize, cmap='coolwarm', linewidth=0.8, ax=ax, edgecolor='0.8', legend=True)\n",
    "\n",
    "# Customize plot settings, such as title and legend\n",
    "ax.set_title(f'Total Rebate ($) in Residential Sector per DE SLDU in Year {year_to_display}')\n",
    "ax.set_axis_off()"
   ]
  },
  {
   "cell_type": "code",
   "execution_count": 127,
   "id": "fce21657-89b7-4982-88e1-6d728238376e",
   "metadata": {
    "tags": []
   },
   "outputs": [
    {
     "data": {
      "image/png": "[encoded data removed]",
      "text/plain": [
       "<Figure size 1200x800 with 2 Axes>"
      ]
     },
     "metadata": {},
     "output_type": "display_data"
    }
   ],
   "source": [
    "# Plot the legislative districts with color-coded features\n",
    "fig, ax = plt.subplots(1, 1, figsize=(12, 8))\n",
    "\n",
    "# Choose the feature you want to visualize (e.g., 'total_system_costs')\n",
    "feature_to_visualize = 'capacity'\n",
    "\n",
    "# Plot the districts using color mapping based on the chosen feature\n",
    "sldu_gdf.plot(column=feature_to_visualize, cmap='coolwarm', linewidth=0.8, ax=ax, edgecolor='0.8', legend=True)\n",
    "\n",
    "# Customize plot settings, such as title and legend\n",
    "ax.set_title(f'PV Capacity (KW) Added in Residential Sector by DE SLDU in Year {year_to_display}')\n",
    "ax.set_axis_off()"
   ]
  },
  {
   "cell_type": "markdown",
   "id": "0a51537e-a63a-41c3-8abd-1b8d7e565e58",
   "metadata": {
    "tags": []
   },
   "source": [
    "## 3.5. Creating GeoJSON Files"
   ]
  },
  {
   "cell_type": "markdown",
   "id": "afc95ea2-d74f-465a-8039-c3c47c2c3665",
   "metadata": {
    "tags": []
   },
   "source": [
    "### ***3.5.1. Creating separate dataframe based on the sectors***"
   ]
  },
  {
   "cell_type": "code",
   "execution_count": 128,
   "id": "930d1c1b-300a-4972-9c60-b6cdbbb4ce61",
   "metadata": {
    "tags": []
   },
   "outputs": [],
   "source": [
    "joined_gdf = joined_gdf[(joined_gdf['year'].astype('int64').values > 2011) & (joined_gdf['year'].astype('int64').values < 2023)]"
   ]
  },
  {
   "cell_type": "code",
   "execution_count": 129,
   "id": "f86aa303-160c-49cc-a07f-f62785b84468",
   "metadata": {
    "tags": []
   },
   "outputs": [],
   "source": [
    "all_sectors_gdf = joined_gdf[['SLDUST','geometry','sector',\n",
    "                         'total_system_costs','total_rebate','pv_capacity_kw','year']]"
   ]
  },
  {
   "cell_type": "code",
   "execution_count": 130,
   "id": "0d32693a-2cfd-4b78-8a8d-f84fed4d4339",
   "metadata": {
    "tags": []
   },
   "outputs": [
    {
     "data": {
      "text/html": [
       "<div>\n",
       "<style scoped>\n",
       "    .dataframe tbody tr th:only-of-type {\n",
       "        vertical-align: middle;\n",
       "    }\n",
       "\n",
       "    .dataframe tbody tr th {\n",
       "        vertical-align: top;\n",
       "    }\n",
       "\n",
       "    .dataframe thead th {\n",
       "        text-align: right;\n",
       "    }\n",
       "</style>\n",
       "<table border=\"1\" class=\"dataframe\">\n",
       "  <thead>\n",
       "    <tr style=\"text-align: right;\">\n",
       "      <th></th>\n",
       "      <th>SLDUST</th>\n",
       "      <th>geometry</th>\n",
       "      <th>sector</th>\n",
       "      <th>total_system_costs</th>\n",
       "      <th>total_rebate</th>\n",
       "      <th>pv_capacity_kw</th>\n",
       "      <th>year</th>\n",
       "    </tr>\n",
       "  </thead>\n",
       "  <tbody>\n",
       "  </tbody>\n",
       "</table>\n",
       "</div>"
      ],
      "text/plain": [
       "Empty GeoDataFrame\n",
       "Columns: [SLDUST, geometry, sector, total_system_costs, total_rebate, pv_capacity_kw, year]\n",
       "Index: []"
      ]
     },
     "execution_count": 130,
     "metadata": {},
     "output_type": "execute_result"
    }
   ],
   "source": [
    "all_sectors_gdf[all_sectors_gdf.isnull().any(axis=1)]"
   ]
  },
  {
   "cell_type": "code",
   "execution_count": 131,
   "id": "8ac9b2aa-7bcd-4cff-a9d4-5812352091eb",
   "metadata": {},
   "outputs": [
    {
     "data": {
      "text/html": [
       "<div>\n",
       "<style scoped>\n",
       "    .dataframe tbody tr th:only-of-type {\n",
       "        vertical-align: middle;\n",
       "    }\n",
       "\n",
       "    .dataframe tbody tr th {\n",
       "        vertical-align: top;\n",
       "    }\n",
       "\n",
       "    .dataframe thead th {\n",
       "        text-align: right;\n",
       "    }\n",
       "</style>\n",
       "<table border=\"1\" class=\"dataframe\">\n",
       "  <thead>\n",
       "    <tr style=\"text-align: right;\">\n",
       "      <th></th>\n",
       "      <th>SLDUST</th>\n",
       "      <th>geometry</th>\n",
       "      <th>sector</th>\n",
       "      <th>total_system_costs</th>\n",
       "      <th>total_rebate</th>\n",
       "      <th>pv_capacity_kw</th>\n",
       "      <th>year</th>\n",
       "    </tr>\n",
       "  </thead>\n",
       "  <tbody>\n",
       "    <tr>\n",
       "      <th>0</th>\n",
       "      <td>016</td>\n",
       "      <td>POLYGON ((-75.60942 39.07697, -75.60485 39.079...</td>\n",
       "      <td>residential</td>\n",
       "      <td>74600.0</td>\n",
       "      <td>8000.0</td>\n",
       "      <td>20000.0</td>\n",
       "      <td>2015</td>\n",
       "    </tr>\n",
       "  </tbody>\n",
       "</table>\n",
       "</div>"
      ],
      "text/plain": [
       "  SLDUST                                           geometry       sector  \\\n",
       "0    016  POLYGON ((-75.60942 39.07697, -75.60485 39.079...  residential   \n",
       "\n",
       "   total_system_costs  total_rebate  pv_capacity_kw  year  \n",
       "0             74600.0        8000.0         20000.0  2015  "
      ]
     },
     "execution_count": 131,
     "metadata": {},
     "output_type": "execute_result"
    }
   ],
   "source": [
    "all_sectors_gdf.head(1)"
   ]
  },
  {
   "cell_type": "code",
   "execution_count": 132,
   "id": "cce1ab2c-279a-485b-9abf-48edf9ff0491",
   "metadata": {
    "tags": []
   },
   "outputs": [],
   "source": [
    "all_sectors_gdf = all_sectors_gdf.sort_values(by=['SLDUST','year']).reset_index(drop=True)"
   ]
  },
  {
   "cell_type": "code",
   "execution_count": 133,
   "id": "6f70fd22-4630-4b40-930d-73fc8e094425",
   "metadata": {
    "tags": []
   },
   "outputs": [],
   "source": [
    "all_sectors_gdf.rename(columns={'SLDUST':'district',\n",
    "                               'pv_capacity_kw':'capacity',\n",
    "                                'total_system_costs':'system_cost',\n",
    "                                'total_rebate':'rebate',\n",
    "                               },inplace=True)"
   ]
  },
  {
   "cell_type": "code",
   "execution_count": 134,
   "id": "e0702beb-ed90-4f68-8ea7-7dc06e279864",
   "metadata": {
    "tags": []
   },
   "outputs": [
    {
     "data": {
      "text/html": [
       "<div>\n",
       "<style scoped>\n",
       "    .dataframe tbody tr th:only-of-type {\n",
       "        vertical-align: middle;\n",
       "    }\n",
       "\n",
       "    .dataframe tbody tr th {\n",
       "        vertical-align: top;\n",
       "    }\n",
       "\n",
       "    .dataframe thead th {\n",
       "        text-align: right;\n",
       "    }\n",
       "</style>\n",
       "<table border=\"1\" class=\"dataframe\">\n",
       "  <thead>\n",
       "    <tr style=\"text-align: right;\">\n",
       "      <th></th>\n",
       "      <th>district</th>\n",
       "      <th>geometry</th>\n",
       "      <th>sector</th>\n",
       "      <th>system_cost</th>\n",
       "      <th>rebate</th>\n",
       "      <th>capacity</th>\n",
       "      <th>year</th>\n",
       "    </tr>\n",
       "  </thead>\n",
       "  <tbody>\n",
       "    <tr>\n",
       "      <th>0</th>\n",
       "      <td>001</td>\n",
       "      <td>POLYGON ((-75.58748 39.75811, -75.57857 39.754...</td>\n",
       "      <td>residential</td>\n",
       "      <td>40000.0</td>\n",
       "      <td>7645.0</td>\n",
       "      <td>6.86</td>\n",
       "      <td>2012</td>\n",
       "    </tr>\n",
       "  </tbody>\n",
       "</table>\n",
       "</div>"
      ],
      "text/plain": [
       "  district                                           geometry       sector  \\\n",
       "0      001  POLYGON ((-75.58748 39.75811, -75.57857 39.754...  residential   \n",
       "\n",
       "   system_cost  rebate  capacity  year  \n",
       "0      40000.0  7645.0      6.86  2012  "
      ]
     },
     "execution_count": 134,
     "metadata": {},
     "output_type": "execute_result"
    }
   ],
   "source": [
    "all_sectors_gdf.head(1)"
   ]
  },
  {
   "cell_type": "code",
   "execution_count": 135,
   "id": "0eaea52c-5601-4162-8260-9bd5dd957f55",
   "metadata": {
    "tags": []
   },
   "outputs": [
    {
     "data": {
      "text/plain": [
       "array(['residential', 'non_profit', 'non_residential'], dtype=object)"
      ]
     },
     "execution_count": 135,
     "metadata": {},
     "output_type": "execute_result"
    }
   ],
   "source": [
    "all_sectors_gdf['sector'].unique()"
   ]
  },
  {
   "cell_type": "code",
   "execution_count": 136,
   "id": "0871227f-a1e5-470d-af1f-cba37a38ec78",
   "metadata": {
    "tags": []
   },
   "outputs": [],
   "source": [
    "all_sectors_gdf = all_sectors_gdf.astype({'district':'int64','year':'int64'})"
   ]
  },
  {
   "cell_type": "code",
   "execution_count": 137,
   "id": "e45eaa65-9032-4c2c-8cc6-bbd26d82ea66",
   "metadata": {
    "tags": []
   },
   "outputs": [],
   "source": [
    "nonResidential_df = all_sectors_gdf[all_sectors_gdf['sector']=='non_residential'][['year','district','capacity',\n",
    "                                                                                  'system_cost','rebate']].reset_index(drop=True)"
   ]
  },
  {
   "cell_type": "code",
   "execution_count": 138,
   "id": "b9b020fb-c194-4a1a-9acd-1372fedf9a9f",
   "metadata": {
    "tags": []
   },
   "outputs": [],
   "source": [
    "nonResidential_df = nonResidential_df.groupby(['district','year']).agg({\n",
    "    'system_cost': ['sum','count'],\n",
    "    'rebate': 'sum',\n",
    "    'capacity': 'sum'\n",
    "}).reset_index()\n",
    "\n",
    "# Rename the columns for clarity\n",
    "nonResidential_df.columns = ['district', 'year', 'system_cost', 'system_count', 'rebate', 'capacity']"
   ]
  },
  {
   "cell_type": "code",
   "execution_count": 139,
   "id": "618ba098-f8f2-489b-a639-43e4e1166223",
   "metadata": {
    "tags": []
   },
   "outputs": [],
   "source": [
    "residential_df = all_sectors_gdf[all_sectors_gdf['sector']=='residential'][['year','district','capacity',\n",
    "                                                                            'system_cost','rebate']].reset_index(drop=True)"
   ]
  },
  {
   "cell_type": "code",
   "execution_count": 140,
   "id": "7dddcd99-8c83-44d1-9e15-faf9659ad940",
   "metadata": {
    "tags": []
   },
   "outputs": [],
   "source": [
    "residential_df = residential_df.groupby(['district','year']).agg({\n",
    "    'system_cost': ['sum','count'],\n",
    "    'rebate': 'sum',\n",
    "    'capacity': 'sum'\n",
    "}).reset_index()\n",
    "\n",
    "# Rename the columns for clarity\n",
    "residential_df.columns = ['district', 'year', 'system_cost', 'system_count', 'rebate', 'capacity']"
   ]
  },
  {
   "cell_type": "code",
   "execution_count": 141,
   "id": "3c6eff70-f6f0-4042-b34f-2222e6dd528f",
   "metadata": {
    "tags": []
   },
   "outputs": [],
   "source": [
    "nonProfit_df = all_sectors_gdf[all_sectors_gdf['sector']=='non_profit'][['year','district','capacity',\n",
    "                                                                            'system_cost','rebate']].reset_index(drop=True)"
   ]
  },
  {
   "cell_type": "code",
   "execution_count": 142,
   "id": "ca20d9e0-5708-49e7-b297-112eacc86a09",
   "metadata": {
    "tags": []
   },
   "outputs": [],
   "source": [
    "nonProfit_df = nonProfit_df.groupby(['district','year']).agg({\n",
    "    'system_cost': ['sum','count'],\n",
    "    'rebate': 'sum',\n",
    "    'capacity': 'sum'\n",
    "}).reset_index()\n",
    "\n",
    "# Rename the columns for clarity\n",
    "nonProfit_df.columns = ['district', 'year', 'system_cost', 'system_count', 'rebate', 'capacity']"
   ]
  },
  {
   "cell_type": "markdown",
   "id": "bd6676ee-f403-4c79-be48-0931e0a23c10",
   "metadata": {},
   "source": [
    "We should truncate mapping data for any data before 2012.\n",
    "https://redistricting.lls.edu/state/delaware/?cycle=2010&level=State%20Lower&startdate=2011-07-08"
   ]
  },
  {
   "cell_type": "code",
   "execution_count": 143,
   "id": "f2b1d414-8644-4026-9a92-59f2bfb6d150",
   "metadata": {
    "tags": []
   },
   "outputs": [
    {
     "data": {
      "text/plain": [
       "2012"
      ]
     },
     "execution_count": 143,
     "metadata": {},
     "output_type": "execute_result"
    }
   ],
   "source": [
    "nonResidential_df['year'].min()"
   ]
  },
  {
   "cell_type": "code",
   "execution_count": 144,
   "id": "980172b7-aae1-498d-9b36-2c0a8601ae71",
   "metadata": {
    "tags": []
   },
   "outputs": [
    {
     "data": {
      "text/plain": [
       "2012"
      ]
     },
     "execution_count": 144,
     "metadata": {},
     "output_type": "execute_result"
    }
   ],
   "source": [
    "residential_df['year'].min()"
   ]
  },
  {
   "cell_type": "code",
   "execution_count": 145,
   "id": "866fdc6b-35b8-4781-92e2-551a8c73a913",
   "metadata": {
    "tags": []
   },
   "outputs": [
    {
     "data": {
      "text/plain": [
       "2013"
      ]
     },
     "execution_count": 145,
     "metadata": {},
     "output_type": "execute_result"
    }
   ],
   "source": [
    "nonProfit_df['year'].min()"
   ]
  },
  {
   "cell_type": "markdown",
   "id": "616b9be2-1e6c-496f-b375-bdd164c8db6f",
   "metadata": {
    "tags": []
   },
   "source": [
    "### ***3.5.2. Adding zero value to missing districts for all years and senator names***"
   ]
  },
  {
   "cell_type": "code",
   "execution_count": 146,
   "id": "4742529f-513d-4ddb-bdbf-56bf6617bcb8",
   "metadata": {
    "tags": []
   },
   "outputs": [],
   "source": [
    "def add_missing_rows(df):\n",
    "    \"\"\"\n",
    "    Add missing rows to a DataFrame for combinations of 'year' and 'district'.\n",
    "\n",
    "    This function takes a DataFrame containing columns 'year' and 'district' to be extended. It adds rows to the\n",
    "    DataFrame for each year-district combination within the range from the minimum year in the 'year' column to 2022.\n",
    "    Any missing combination of 'year' and 'district' is filled with zero values for all other columns.\n",
    "\n",
    "    Parameters:\n",
    "    - df (pd.DataFrame): The input DataFrame to be extended.\n",
    "\n",
    "    Returns:\n",
    "    pd.DataFrame: The DataFrame with missing rows added and sorted by 'year'.\n",
    "    \"\"\"\n",
    "\n",
    "    # Determine the minimum year from the dataframe\n",
    "    min_year = df['year'].min()\n",
    "    max_year = 2022\n",
    "    \n",
    "    # Sort the DataFrame by 'year'\n",
    "    df = df.sort_values(by='year')\n",
    "\n",
    "    # Create an empty DataFrame to store the new rows\n",
    "    new_rows = pd.DataFrame(columns=df.columns)\n",
    "\n",
    "    # Iterate through years from the minimum to max_year\n",
    "    for year in range(min_year, max_year + 1):\n",
    "        # Iterate through districts 1 to 21\n",
    "        for district in range(1, 22):\n",
    "            # Check if the combination of 'year' and 'district' already exists in the DataFrame\n",
    "            if not ((df['year'] == year) & (df['district'] == district)).any():\n",
    "                # Create a new row with zeros for all columns except 'year' and 'district'\n",
    "                new_row = {'year': year, 'district': district}\n",
    "                new_row.update({col: 0 for col in df.columns if col not in ['year', 'district']})\n",
    "                # Append the new row to the DataFrame\n",
    "                new_rows = pd.concat([new_rows, pd.DataFrame(new_row, index=[0])], ignore_index=True)\n",
    "\n",
    "    # Concatenate the original DataFrame with the new rows\n",
    "    df = pd.concat([df, new_rows])\n",
    "\n",
    "    # Sort the DataFrame by 'year' again to ensure it's in the desired order\n",
    "    df = df.sort_values (by=['year','district'])\n",
    "\n",
    "    # Reset the index to have a clean index order\n",
    "    df = df.reset_index(drop=True)\n",
    "\n",
    "    return df\n"
   ]
  },
  {
   "cell_type": "code",
   "execution_count": 147,
   "id": "b9c22665-6a76-4cdd-97f8-88ee00fd2d55",
   "metadata": {
    "tags": []
   },
   "outputs": [],
   "source": [
    "nonProfit_df = add_missing_rows(nonProfit_df)"
   ]
  },
  {
   "cell_type": "code",
   "execution_count": 148,
   "id": "34228a6a-0065-45bb-a29f-91e230c67858",
   "metadata": {},
   "outputs": [],
   "source": [
    "nonResidential_df = add_missing_rows(nonResidential_df)"
   ]
  },
  {
   "cell_type": "code",
   "execution_count": 149,
   "id": "2e928f8b-9e17-4497-8c1d-d8dbca7d7abf",
   "metadata": {},
   "outputs": [],
   "source": [
    "residential_df = add_missing_rows(residential_df)"
   ]
  },
  {
   "cell_type": "code",
   "execution_count": 150,
   "id": "c102e72c-1843-478e-a2dd-7ec79c65a446",
   "metadata": {
    "tags": []
   },
   "outputs": [],
   "source": [
    "# import senator names.\n",
    "names_df = pd.read_csv('/Users/kamran/Downloads/Datasets/senators.csv')\n",
    "\n",
    "def add_senator_names(df):\n",
    "    \"\"\"\n",
    "    Add senator names to nonProfit_df based on district ids.\n",
    "\n",
    "    Parameters:\n",
    "    - nonProfit_df: DataFrame containing district ids ('district' column)\n",
    "    - names_df: DataFrame containing district ids ('District' column) and senator names ('Name' column)\n",
    "\n",
    "    Returns:\n",
    "    - nonProfit_with_names_df: DataFrame with added senator names\n",
    "    \"\"\"\n",
    "    # Merge the two DataFrames based on the 'district' column\n",
    "    df_with_names = pd.merge(df, names_df[['District', 'Name']], left_on='district', right_on='District', how='left')\n",
    "\n",
    "    # Drop the duplicate 'District' column from the merge\n",
    "    df_with_names = df_with_names.drop('District', axis=1)\n",
    "\n",
    "    return df_with_names"
   ]
  },
  {
   "cell_type": "code",
   "execution_count": 151,
   "id": "1b0d8233-c8d8-433a-a105-e89a7b2c639a",
   "metadata": {
    "tags": []
   },
   "outputs": [],
   "source": [
    "nonProfit_df = add_senator_names(nonProfit_df)"
   ]
  },
  {
   "cell_type": "code",
   "execution_count": 152,
   "id": "898a8de8-1948-43f4-a1f9-bb86955fc3dc",
   "metadata": {},
   "outputs": [],
   "source": [
    "nonResidential_df = add_senator_names(nonResidential_df)"
   ]
  },
  {
   "cell_type": "code",
   "execution_count": 153,
   "id": "b3df3444-75c2-4cd2-9ee5-1ccfaa7e2c9d",
   "metadata": {},
   "outputs": [],
   "source": [
    "residential_df = add_senator_names(residential_df)"
   ]
  },
  {
   "cell_type": "markdown",
   "id": "3b8e885b-279e-48e8-b085-6deca54590ba",
   "metadata": {
    "tags": []
   },
   "source": [
    "### ***3.5.3. Adding geometry for each sector and creating GeoJSON files***"
   ]
  },
  {
   "cell_type": "code",
   "execution_count": 154,
   "id": "b8163d73-d11e-4d4c-8967-c7e5fb436209",
   "metadata": {
    "tags": []
   },
   "outputs": [
    {
     "name": "stdout",
     "output_type": "stream",
     "text": [
      "Using FIPS code '10' for input 'DE'\n"
     ]
    }
   ],
   "source": [
    "geometry_2021 = pygris.state_legislative_districts(state='DE',year=2021, cb=True)"
   ]
  },
  {
   "cell_type": "code",
   "execution_count": 155,
   "id": "05298759-ca37-4971-bfef-47c71e0b10e0",
   "metadata": {
    "tags": []
   },
   "outputs": [],
   "source": [
    "geometry_2021.rename(columns={'SLDUST':'District'},inplace=True)\n",
    "geometry_2021['District'] = geometry_2021['District'].astype('int64')"
   ]
  },
  {
   "cell_type": "code",
   "execution_count": 156,
   "id": "9c02b4c5-65bb-4ee0-86a5-6e3ef741fcd7",
   "metadata": {
    "tags": []
   },
   "outputs": [],
   "source": [
    "import json\n",
    "from shapely.geometry import mapping"
   ]
  },
  {
   "cell_type": "code",
   "execution_count": 157,
   "id": "fc99ed9f-78ff-481d-b3c8-06aa9332152a",
   "metadata": {
    "tags": []
   },
   "outputs": [],
   "source": [
    "def dataframe_to_geojson(df, name, output_file):\n",
    "    \"\"\"\n",
    "    Convert a DataFrame to a GeoJSON file.\n",
    "\n",
    "    Parameters:\n",
    "    - df (pd.DataFrame): The input DataFrame to be converted to GeoJSON.\n",
    "    - name (str): The name of the GeoJSON collection.\n",
    "    - output_file (str): The name of the output GeoJSON file.\n",
    "\n",
    "    Returns:\n",
    "    None\n",
    "    \"\"\"\n",
    "    # Create a FeatureCollection dictionary\n",
    "    feature_collection = {\n",
    "        \"type\": \"FeatureCollection\",\n",
    "        \"name\": name,\n",
    "        \"features\": []\n",
    "    }\n",
    "\n",
    "    # Loop through each district\n",
    "    for district in df['district'].unique():\n",
    "        district_data = df[df['district'] == district]\n",
    "\n",
    "        # Create a Feature for the district\n",
    "        feature = {\n",
    "            \"type\": \"Feature\",\n",
    "            \"properties\": {\n",
    "                \"district\": str(district),\n",
    "                \"data\": district_data.to_dict(orient='records')\n",
    "            },\n",
    "            \"geometry\": mapping(geometry_2021[geometry_2021['District'] == district]['geometry'].iloc[0])\n",
    "        }\n",
    "\n",
    "        # Append the Feature to the FeatureCollection\n",
    "        feature_collection[\"features\"].append(feature)\n",
    "\n",
    "    # Convert the FeatureCollection to a JSON string\n",
    "    geojson_string = json.dumps(feature_collection)\n",
    "\n",
    "    # Save the GeoJSON string to a file\n",
    "    with open(output_file, \"w\") as geojson_file:\n",
    "        geojson_file.write(geojson_string)"
   ]
  },
  {
   "cell_type": "code",
   "execution_count": 158,
   "id": "e18e3834-51a8-4e19-a907-e74089dbc175",
   "metadata": {
    "tags": []
   },
   "outputs": [],
   "source": [
    "dataframe_to_geojson(nonProfit_df, \"Non-Profit\", \"GeoJSON/nonProfit.geojson\")"
   ]
  },
  {
   "cell_type": "code",
   "execution_count": 159,
   "id": "f7c502f2-3b34-428c-b468-57b82c6ef96c",
   "metadata": {
    "tags": []
   },
   "outputs": [],
   "source": [
    "dataframe_to_geojson(nonResidential_df, \"Non-Residential\", \"GeoJSON/nonResidential.geojson\")"
   ]
  },
  {
   "cell_type": "code",
   "execution_count": 160,
   "id": "833f5eb4-05c8-4da7-a5c6-934586110282",
   "metadata": {
    "tags": []
   },
   "outputs": [],
   "source": [
    "dataframe_to_geojson(residential_df, \"Residential\", \"GeoJSON/residential.geojson\")"
   ]
  },
  {
   "cell_type": "markdown",
   "id": "da6bb135-7cba-4f18-8c15-b839ea95409a",
   "metadata": {
    "tags": []
   },
   "source": [
    "## 3.6. Uploading GeoJSON files to Azure"
   ]
  },
  {
   "cell_type": "code",
   "execution_count": 161,
   "id": "2a7e007e-4de3-4fad-9e23-38b7610236cd",
   "metadata": {
    "tags": []
   },
   "outputs": [],
   "source": [
    "filename =  ['GeoJSON/nonProfit.geojson','GeoJSON/nonResidential.geojson','GeoJSON/residential.geojson']"
   ]
  },
  {
   "cell_type": "code",
   "execution_count": 162,
   "id": "b4ac56c4-f6bc-4b83-af9d-c968a0426b29",
   "metadata": {
    "tags": []
   },
   "outputs": [],
   "source": [
    "import azure\n",
    "from azure.storage.blob import BlobServiceClient, BlobClient, ContainerClient\n",
    "import os\n",
    "import re\n",
    "import yaml"
   ]
  },
  {
   "cell_type": "code",
   "execution_count": 163,
   "id": "0aeef541-635a-49d3-853f-33c56e3e8b88",
   "metadata": {
    "tags": []
   },
   "outputs": [],
   "source": [
    "# As a class to preserve state\n",
    "class AzureBlobStorageManager:\n",
    "    def __init__(self, connection_str: str, container_name: str):\n",
    "        self.blob_service_client = BlobServiceClient.from_connection_string(connection_str)\n",
    "        self.container_client = self.blob_service_client.get_container_client(container_name)\n",
    "\n",
    "    def upload_blob(self, local_path: str,  blob_name=None):\n",
    "        \"\"\"Upload a local file to blob storage in Azure\"\"\"\n",
    "\n",
    "        # Default blob_name = local filename \n",
    "        if blob_name is None:\n",
    "            blob_name = os.path.basename(local_path)\n",
    "        blob_client = self.container_client.get_blob_client(blob_name)\n",
    "        \n",
    "        try:\n",
    "            # Upload the blob\n",
    "            with open(local_path, \"rb\") as data:\n",
    "                blob_client.upload_blob(data,overwrite=True)\n",
    "            print(f\"Blob {blob_name} uploaded successfully.\")\n",
    "        except Exception as e: # Do something with this exception block (e.g. add logging)\n",
    "            print(f\"An error occurred: {str(e)}\")"
   ]
  },
  {
   "cell_type": "code",
   "execution_count": 164,
   "id": "e14bfbe3-5cc8-4645-8b8b-3c1d0a0e514b",
   "metadata": {
    "tags": []
   },
   "outputs": [
    {
     "name": "stdout",
     "output_type": "stream",
     "text": [
      "Blob nonProfit.geojson uploaded successfully.\n",
      "Blob nonResidential.geojson uploaded successfully.\n",
      "Blob residential.geojson uploaded successfully.\n"
     ]
    }
   ],
   "source": [
    "# Testing class and method \n",
    "#with open(\"azure_info.yaml\", \"r\") as file: \n",
    " #   azure_info = yaml.full_load(file)\n",
    "\n",
    "connection_string =  # Azure container/Access Key/Under Key1, Connection String.\n",
    "container_name =  # The name comes from Containers. \n",
    "local_path = filename\n",
    "\n",
    "az_blob_manager = AzureBlobStorageManager(connection_str=connection_string,\n",
    "                                          container_name=container_name)\n",
    "for i in filename:\n",
    "    az_blob_manager.upload_blob(i)"
   ]
  },
  {
   "cell_type": "markdown",
   "id": "b683d88d-0a01-4679-8622-8831e1d89ff7",
   "metadata": {
    "tags": []
   },
   "source": [
    "# **4. Adding Census Data**"
   ]
  },
  {
   "cell_type": "markdown",
   "id": "1c8b6c45-be7c-46c4-8c72-db8e29007065",
   "metadata": {
    "tags": []
   },
   "source": [
    "## 4.1. Preparing GEPG data"
   ]
  },
  {
   "cell_type": "code",
   "execution_count": 165,
   "id": "8ac3a6fc-1bae-4639-a082-82ebc3d69ac6",
   "metadata": {
    "tags": []
   },
   "outputs": [
    {
     "data": {
      "text/html": [
       "<div>\n",
       "<style scoped>\n",
       "    .dataframe tbody tr th:only-of-type {\n",
       "        vertical-align: middle;\n",
       "    }\n",
       "\n",
       "    .dataframe tbody tr th {\n",
       "        vertical-align: top;\n",
       "    }\n",
       "\n",
       "    .dataframe thead th {\n",
       "        text-align: right;\n",
       "    }\n",
       "</style>\n",
       "<table border=\"1\" class=\"dataframe\">\n",
       "  <thead>\n",
       "    <tr style=\"text-align: right;\">\n",
       "      <th></th>\n",
       "      <th>district</th>\n",
       "      <th>year</th>\n",
       "      <th>system_cost</th>\n",
       "      <th>system_count</th>\n",
       "      <th>rebate</th>\n",
       "      <th>capacity</th>\n",
       "      <th>Name</th>\n",
       "    </tr>\n",
       "  </thead>\n",
       "  <tbody>\n",
       "    <tr>\n",
       "      <th>0</th>\n",
       "      <td>1</td>\n",
       "      <td>2012</td>\n",
       "      <td>40000.0</td>\n",
       "      <td>1</td>\n",
       "      <td>7645.0</td>\n",
       "      <td>6.86</td>\n",
       "      <td>Sarah McBride</td>\n",
       "    </tr>\n",
       "    <tr>\n",
       "      <th>1</th>\n",
       "      <td>2</td>\n",
       "      <td>2012</td>\n",
       "      <td>0</td>\n",
       "      <td>0</td>\n",
       "      <td>0</td>\n",
       "      <td>0</td>\n",
       "      <td>Darius J. Brown</td>\n",
       "    </tr>\n",
       "    <tr>\n",
       "      <th>2</th>\n",
       "      <td>3</td>\n",
       "      <td>2012</td>\n",
       "      <td>351500.6</td>\n",
       "      <td>15</td>\n",
       "      <td>96000.0</td>\n",
       "      <td>81.88</td>\n",
       "      <td>S. Elizabeth Lockman</td>\n",
       "    </tr>\n",
       "    <tr>\n",
       "      <th>3</th>\n",
       "      <td>4</td>\n",
       "      <td>2012</td>\n",
       "      <td>159611.6</td>\n",
       "      <td>6</td>\n",
       "      <td>41620.5</td>\n",
       "      <td>42.31</td>\n",
       "      <td>Laura V. Sturgeon</td>\n",
       "    </tr>\n",
       "    <tr>\n",
       "      <th>4</th>\n",
       "      <td>5</td>\n",
       "      <td>2012</td>\n",
       "      <td>0</td>\n",
       "      <td>0</td>\n",
       "      <td>0</td>\n",
       "      <td>0</td>\n",
       "      <td>Kyle Evans Gay</td>\n",
       "    </tr>\n",
       "    <tr>\n",
       "      <th>5</th>\n",
       "      <td>6</td>\n",
       "      <td>2012</td>\n",
       "      <td>1995506.05</td>\n",
       "      <td>62</td>\n",
       "      <td>438728.75</td>\n",
       "      <td>398.035</td>\n",
       "      <td>Russell Huxtable</td>\n",
       "    </tr>\n",
       "    <tr>\n",
       "      <th>6</th>\n",
       "      <td>7</td>\n",
       "      <td>2012</td>\n",
       "      <td>0</td>\n",
       "      <td>0</td>\n",
       "      <td>0</td>\n",
       "      <td>0</td>\n",
       "      <td>Spiros Mantzavinos</td>\n",
       "    </tr>\n",
       "    <tr>\n",
       "      <th>7</th>\n",
       "      <td>8</td>\n",
       "      <td>2012</td>\n",
       "      <td>275227.55</td>\n",
       "      <td>9</td>\n",
       "      <td>67508.75</td>\n",
       "      <td>62.82</td>\n",
       "      <td>David P. Sokola</td>\n",
       "    </tr>\n",
       "    <tr>\n",
       "      <th>8</th>\n",
       "      <td>9</td>\n",
       "      <td>2012</td>\n",
       "      <td>0</td>\n",
       "      <td>0</td>\n",
       "      <td>0</td>\n",
       "      <td>0</td>\n",
       "      <td>John \"Jack\" Walsh</td>\n",
       "    </tr>\n",
       "    <tr>\n",
       "      <th>9</th>\n",
       "      <td>10</td>\n",
       "      <td>2012</td>\n",
       "      <td>250643.5</td>\n",
       "      <td>9</td>\n",
       "      <td>68535.75</td>\n",
       "      <td>63.335</td>\n",
       "      <td>Stephanie L. Hansen</td>\n",
       "    </tr>\n",
       "  </tbody>\n",
       "</table>\n",
       "</div>"
      ],
      "text/plain": [
       "  district  year system_cost system_count     rebate capacity  \\\n",
       "0        1  2012     40000.0            1     7645.0     6.86   \n",
       "1        2  2012           0            0          0        0   \n",
       "2        3  2012    351500.6           15    96000.0    81.88   \n",
       "3        4  2012    159611.6            6    41620.5    42.31   \n",
       "4        5  2012           0            0          0        0   \n",
       "5        6  2012  1995506.05           62  438728.75  398.035   \n",
       "6        7  2012           0            0          0        0   \n",
       "7        8  2012   275227.55            9   67508.75    62.82   \n",
       "8        9  2012           0            0          0        0   \n",
       "9       10  2012    250643.5            9   68535.75   63.335   \n",
       "\n",
       "                   Name  \n",
       "0         Sarah McBride  \n",
       "1       Darius J. Brown  \n",
       "2  S. Elizabeth Lockman  \n",
       "3     Laura V. Sturgeon  \n",
       "4        Kyle Evans Gay  \n",
       "5      Russell Huxtable  \n",
       "6    Spiros Mantzavinos  \n",
       "7       David P. Sokola  \n",
       "8     John \"Jack\" Walsh  \n",
       "9   Stephanie L. Hansen  "
      ]
     },
     "execution_count": 165,
     "metadata": {},
     "output_type": "execute_result"
    }
   ],
   "source": [
    "residential_df.head(10)"
   ]
  },
  {
   "cell_type": "markdown",
   "id": "5beb85c7-4c8c-439e-81e9-661ec1d8090d",
   "metadata": {
    "tags": []
   },
   "source": [
    "## 4.2. Preparing Census data"
   ]
  },
  {
   "cell_type": "code",
   "execution_count": 166,
   "id": "0426e809-8f2e-434c-9a65-83baa2aadde3",
   "metadata": {
    "tags": []
   },
   "outputs": [],
   "source": [
    "import os\n",
    "import requests"
   ]
  },
  {
   "cell_type": "code",
   "execution_count": 167,
   "id": "21218640-3fb6-48d1-a67e-b1083297125e",
   "metadata": {
    "tags": []
   },
   "outputs": [],
   "source": [
    "usr_key = "
   ]
  },
  {
   "cell_type": "code",
   "execution_count": 168,
   "id": "a24ed514-10a1-406e-a0f9-593c99f4df72",
   "metadata": {
    "tags": []
   },
   "outputs": [],
   "source": [
    "census_df_list = []\n",
    "\n",
    "for i in range(2012,2022): \n",
    "    \n",
    "    year = str(i)\n",
    "\n",
    "    host = 'https://api.census.gov/data'\n",
    "    dataset_acronym = '/acs/acs5'\n",
    "    g = '?get='\n",
    "    variables = 'NAME,B01001_001E,B25003_002E,B25040_008E'\n",
    "    location = '&for=state%20legislative%20district%20(upper%20chamber):*&in=state:10'\n",
    "\n",
    "    # Put it all together in one f-string:\n",
    "    query_url = f\"{host}/{year}{dataset_acronym}{g}{variables}{location}&key={usr_key}\"\n",
    "\n",
    "    response = requests.get(query_url)\n",
    "\n",
    "    # Convert the JSON response to a list of lists (excluding the header)\n",
    "    data = response.json()[1:]\n",
    "\n",
    "    # Convert the list of lists into a DataFrame\n",
    "    columns = response.json()[0]  # Use the first row as column names\n",
    "    api_data_df = pd.DataFrame(data, columns=columns)\n",
    "    api_data_df.rename(columns={'B01001_001E':'Total Population',\n",
    "                               'B25003_002E':'Owner Occupied Households',\n",
    "                               'B25040_008E':'Solar Households',\n",
    "                               'state legislative district (upper chamber)':'district'},inplace=True)\n",
    "    api_data_df.drop('state',axis=1,inplace=True)\n",
    "    api_data_df = api_data_df.astype({'Total Population':'int64',\n",
    "                                      'Owner Occupied Households':'int64',\n",
    "                                      'Solar Households':'int64',\n",
    "                                     'district':'int64'})\n",
    "    api_data_df['Solar Households per 1000'] = round((api_data_df['Solar Households'] \n",
    "                                                      / api_data_df['Owner Occupied Households'])\n",
    "                                                     * 1000, 0).astype('int64')\n",
    "    # names_df = pd.read_csv('/Users/kamran/Downloads/Datasets/senators.csv')\n",
    "    # api_data_df = names_df.merge(api_data_df, left_on=\"District\", right_on=\"district\")\n",
    "\n",
    "    census_df_list.append(api_data_df)"
   ]
  },
  {
   "cell_type": "markdown",
   "id": "0be5b8c2-ac79-41ac-b8cf-2b52247da3ab",
   "metadata": {
    "tags": []
   },
   "source": [
    "## 4.3. Merging GEPG with Census"
   ]
  },
  {
   "cell_type": "code",
   "execution_count": 169,
   "id": "c3b5e39a-3c4e-4194-be35-3fd2258bfc7f",
   "metadata": {
    "tags": []
   },
   "outputs": [],
   "source": [
    "# Merge data from census_df_list into residential_df\n",
    "merged_dfs = []\n",
    "\n",
    "for year, census_df in zip(range(2012, 2023), census_df_list):  \n",
    "    # Merge based on 'district' and 'district', and 'year' columns\n",
    "    merged_df = pd.merge(residential_df[residential_df['year'] == year],\n",
    "                         census_df[['Total Population', \n",
    "                                    'Solar Households', \n",
    "                                    'Solar Households per 1000', \n",
    "                                    'district']],\n",
    "                         left_on='district', right_on='district', how='right')\n",
    "    # merged_df.drop('district',axis=1,inplace=True)\n",
    "    merged_df['year'].fillna(value=year,inplace=True)\n",
    "    merged_df.fillna(value=0,inplace=True)\n",
    "    merged_df['year'] = merged_df['year'].astype('int64')\n",
    "\n",
    "    # Append the merged DataFrame to the list\n",
    "    merged_dfs.append(merged_df)\n",
    "\n",
    "# Concatenate all the DataFrames in the list\n",
    "final_merged_df = pd.concat(merged_dfs, ignore_index=True)"
   ]
  },
  {
   "cell_type": "markdown",
   "id": "0a8b494f-00b4-4eca-9503-4313214c0669",
   "metadata": {
    "tags": []
   },
   "source": [
    "## 4.4. Adding geometry to Census+GEPG data"
   ]
  },
  {
   "cell_type": "code",
   "execution_count": 170,
   "id": "52f5d4e6-539b-4cd4-9598-7974cf4cf259",
   "metadata": {
    "tags": []
   },
   "outputs": [],
   "source": [
    "# Create a FeatureCollection dictionary\n",
    "feature_collection = {\n",
    "    \"type\": \"FeatureCollection\",\n",
    "    \"name\": \"Residential\",\n",
    "    \"features\": []\n",
    "}\n",
    "\n",
    "# Loop through each district\n",
    "for district in final_merged_df['district'].unique():\n",
    "    district_data = final_merged_df[final_merged_df['district'] == district]\n",
    "\n",
    "    # Create a Feature for the district\n",
    "    feature = {\n",
    "        \"type\": \"Feature\",\n",
    "        \"properties\": {\n",
    "            \"district\": str(district),\n",
    "            \"data\": district_data.to_dict(orient='records')\n",
    "        },\n",
    "        \"geometry\": mapping(geometry_2021[geometry_2021['District'] == district]['geometry'].iloc[0])\n",
    "    }\n",
    "    \n",
    "    # Append the Feature to the FeatureCollection\n",
    "    feature_collection[\"features\"].append(feature)\n",
    "\n",
    "# Convert the FeatureCollection to a JSON string\n",
    "geojson_string = json.dumps(feature_collection)\n",
    "\n",
    "# Save the GeoJSON string to a file\n",
    "with open(\"GeoJSON/residential_census.geojson\", \"w\") as geojson_file:\n",
    "    geojson_file.write(geojson_string)\n"
   ]
  },
  {
   "cell_type": "markdown",
   "id": "ed9e38cb-03d0-4196-b4f8-1ab8c545e23c",
   "metadata": {
    "tags": []
   },
   "source": [
    "## 4.5. Uploading GeoJSON file to Azure"
   ]
  },
  {
   "cell_type": "code",
   "execution_count": 171,
   "id": "0516c0a7-4740-413f-b2a9-4c2e6bec30a2",
   "metadata": {
    "tags": []
   },
   "outputs": [],
   "source": [
    "filename =  ['GeoJSON/residential_census.geojson']"
   ]
  },
  {
   "cell_type": "code",
   "execution_count": 172,
   "id": "020cb9fa-e8b5-4349-ba60-acf704f13315",
   "metadata": {
    "tags": []
   },
   "outputs": [],
   "source": [
    "import azure\n",
    "from azure.storage.blob import BlobServiceClient, BlobClient, ContainerClient\n",
    "import os\n",
    "import re\n",
    "import yaml"
   ]
  },
  {
   "cell_type": "code",
   "execution_count": 173,
   "id": "7dcc9d58-db43-421c-820d-92b6c2937dcf",
   "metadata": {
    "tags": []
   },
   "outputs": [],
   "source": [
    "# As a class to preserve state\n",
    "class AzureBlobStorageManager:\n",
    "    def __init__(self, connection_str: str, container_name: str):\n",
    "        self.blob_service_client = BlobServiceClient.from_connection_string(connection_str)\n",
    "        self.container_client = self.blob_service_client.get_container_client(container_name)\n",
    "\n",
    "    def upload_blob(self, local_path: str,  blob_name=None):\n",
    "        \"\"\"Upload a local file to blob storage in Azure\"\"\"\n",
    "\n",
    "        # Default blob_name = local filename \n",
    "        if blob_name is None:\n",
    "            blob_name = os.path.basename(local_path)\n",
    "        blob_client = self.container_client.get_blob_client(blob_name)\n",
    "        \n",
    "        try:\n",
    "            # Upload the blob\n",
    "            with open(local_path, \"rb\") as data:\n",
    "                blob_client.upload_blob(data,overwrite=True)\n",
    "            print(f\"Blob {blob_name} uploaded successfully.\")\n",
    "        except Exception as e: # Do something with this exception block (e.g. add logging)\n",
    "            print(f\"An error occurred: {str(e)}\")"
   ]
  },
  {
   "cell_type": "code",
   "execution_count": 174,
   "id": "c2cc0e87-40b4-4588-87fe-fd94a40093c9",
   "metadata": {
    "tags": []
   },
   "outputs": [
    {
     "name": "stdout",
     "output_type": "stream",
     "text": [
      "Blob residential_census.geojson uploaded successfully.\n"
     ]
    }
   ],
   "source": [
    "# Testing class and method \n",
    "#with open(\"azure_info.yaml\", \"r\") as file: \n",
    " #   azure_info = yaml.full_load(file)\n",
    "\n",
    "connection_string =  # Azure container/Access Key/Under Key1, Connection String.\n",
    "container_name =  # The name comes from Containers. \n",
    "local_path = filename\n",
    "\n",
    "az_blob_manager = AzureBlobStorageManager(connection_str=connection_string,\n",
    "                                          container_name=container_name)\n",
    "for i in filename:\n",
    "    az_blob_manager.upload_blob(i)"
   ]
  },
  {
   "cell_type": "markdown",
   "id": "d2d961dd-25e8-4683-b8f3-ed01b570c48c",
   "metadata": {
    "tags": []
   },
   "source": [
    "# **5. Creating Cumulative Maps** "
   ]
  },
  {
   "cell_type": "markdown",
   "id": "3c5663ac-a54d-4917-bdff-8d453e13635a",
   "metadata": {
    "tags": []
   },
   "source": [
    "## 5.1. Preparing the data and converting to GeoJSON"
   ]
  },
  {
   "cell_type": "code",
   "execution_count": 175,
   "id": "a36e8649-e92c-4d01-a5b0-2953f0b9021b",
   "metadata": {
    "tags": []
   },
   "outputs": [],
   "source": [
    "column_types = {\n",
    "    'district': 'int64',\n",
    "    'year': 'int64',\n",
    "    'system_cost': 'float64',\n",
    "    'system_count': 'int64',\n",
    "    'rebate': 'float64',\n",
    "    'capacity': 'float64'\n",
    "}\n",
    "\n",
    "nonProfit_df = nonProfit_df.astype(column_types)\n",
    "nonResidential_df = nonResidential_df.astype(column_types)\n",
    "residential_df = residential_df.astype(column_types)"
   ]
  },
  {
   "cell_type": "code",
   "execution_count": 176,
   "id": "ad057109-7152-4f64-8754-203198f34048",
   "metadata": {
    "tags": []
   },
   "outputs": [],
   "source": [
    "nonProfit_df.drop('Name',axis=1,inplace=True)"
   ]
  },
  {
   "cell_type": "code",
   "execution_count": 177,
   "id": "b0ea7150-73b2-4fd5-81ab-7805d8b38cc9",
   "metadata": {
    "tags": []
   },
   "outputs": [],
   "source": [
    "nonResidential_df.drop('Name',axis=1,inplace=True)"
   ]
  },
  {
   "cell_type": "code",
   "execution_count": 178,
   "id": "16373034-1eb2-4351-8135-824e5d7e705c",
   "metadata": {
    "tags": []
   },
   "outputs": [],
   "source": [
    "residential_df.drop('Name',axis=1,inplace=True)"
   ]
  },
  {
   "cell_type": "code",
   "execution_count": 179,
   "id": "63cae4c1-04c1-44c9-922a-cbd6a34c315a",
   "metadata": {
    "tags": []
   },
   "outputs": [
    {
     "data": {
      "text/html": [
       "<div>\n",
       "<style scoped>\n",
       "    .dataframe tbody tr th:only-of-type {\n",
       "        vertical-align: middle;\n",
       "    }\n",
       "\n",
       "    .dataframe tbody tr th {\n",
       "        vertical-align: top;\n",
       "    }\n",
       "\n",
       "    .dataframe thead th {\n",
       "        text-align: right;\n",
       "    }\n",
       "</style>\n",
       "<table border=\"1\" class=\"dataframe\">\n",
       "  <thead>\n",
       "    <tr style=\"text-align: right;\">\n",
       "      <th></th>\n",
       "      <th>district</th>\n",
       "      <th>year</th>\n",
       "      <th>system_cost</th>\n",
       "      <th>system_count</th>\n",
       "      <th>rebate</th>\n",
       "      <th>capacity</th>\n",
       "      <th>Name</th>\n",
       "      <th>Total Population</th>\n",
       "      <th>Solar Households</th>\n",
       "      <th>Solar Households per 1000</th>\n",
       "    </tr>\n",
       "  </thead>\n",
       "  <tbody>\n",
       "    <tr>\n",
       "      <th>0</th>\n",
       "      <td>6</td>\n",
       "      <td>2012</td>\n",
       "      <td>1995506.05</td>\n",
       "      <td>62</td>\n",
       "      <td>438728.75</td>\n",
       "      <td>398.035</td>\n",
       "      <td>Russell Huxtable</td>\n",
       "      <td>40710</td>\n",
       "      <td>9</td>\n",
       "      <td>1</td>\n",
       "    </tr>\n",
       "  </tbody>\n",
       "</table>\n",
       "</div>"
      ],
      "text/plain": [
       "  district  year system_cost system_count     rebate capacity  \\\n",
       "0        6  2012  1995506.05           62  438728.75  398.035   \n",
       "\n",
       "               Name  Total Population  Solar Households  \\\n",
       "0  Russell Huxtable             40710                 9   \n",
       "\n",
       "   Solar Households per 1000  \n",
       "0                          1  "
      ]
     },
     "execution_count": 179,
     "metadata": {},
     "output_type": "execute_result"
    }
   ],
   "source": [
    "final_merged_df.head(1)"
   ]
  },
  {
   "cell_type": "code",
   "execution_count": 180,
   "id": "f3f5fc90-ac49-4396-af80-1ebbb035e102",
   "metadata": {
    "tags": []
   },
   "outputs": [],
   "source": [
    "final_merged_df.drop('Name',axis=1,inplace=True)"
   ]
  },
  {
   "cell_type": "code",
   "execution_count": 181,
   "id": "3b385f80-c008-4a70-99b2-b560f5dd732d",
   "metadata": {
    "tags": []
   },
   "outputs": [],
   "source": [
    "column_types = {\n",
    "    'district': 'int64',\n",
    "    'year': 'int64',\n",
    "    'system_cost': 'float64',\n",
    "    'system_count': 'int64',\n",
    "    'rebate': 'float64',\n",
    "    'capacity': 'float64', \n",
    "    'Total Population': 'int64', \n",
    "    'Solar Households': 'int64', \n",
    "    'Solar Households per 1000': 'int64'\n",
    "}\n",
    "\n",
    "final_merged_df = final_merged_df.astype(column_types)"
   ]
  },
  {
   "cell_type": "code",
   "execution_count": 182,
   "id": "c18e6cb1-89f0-4f1e-aa27-82e2dcf920d1",
   "metadata": {
    "tags": []
   },
   "outputs": [
    {
     "name": "stdout",
     "output_type": "stream",
     "text": [
      "<class 'pandas.core.frame.DataFrame'>\n",
      "RangeIndex: 210 entries, 0 to 209\n",
      "Data columns (total 9 columns):\n",
      " #   Column                     Non-Null Count  Dtype  \n",
      "---  ------                     --------------  -----  \n",
      " 0   district                   210 non-null    int64  \n",
      " 1   year                       210 non-null    int64  \n",
      " 2   system_cost                210 non-null    float64\n",
      " 3   system_count               210 non-null    int64  \n",
      " 4   rebate                     210 non-null    float64\n",
      " 5   capacity                   210 non-null    float64\n",
      " 6   Total Population           210 non-null    int64  \n",
      " 7   Solar Households           210 non-null    int64  \n",
      " 8   Solar Households per 1000  210 non-null    int64  \n",
      "dtypes: float64(3), int64(6)\n",
      "memory usage: 14.9 KB\n"
     ]
    }
   ],
   "source": [
    "final_merged_df.info()"
   ]
  },
  {
   "cell_type": "code",
   "execution_count": 183,
   "id": "efd61d76-0be0-4a5c-8c5e-8902fda36c0a",
   "metadata": {
    "tags": []
   },
   "outputs": [],
   "source": [
    "def create_cumulative_df(input_df, id_column, time_column):\n",
    "    \"\"\"\n",
    "    Create a new DataFrame with cumulative sums for each column, grouped by specified ID and time columns.\n",
    "\n",
    "    Parameters:\n",
    "    - input_df: DataFrame to be converted\n",
    "    - id_column: Name of the ID column (default is 'district')\n",
    "    - time_column: Name of the time column (default is 'year')\n",
    "\n",
    "    Returns:\n",
    "    - results_df: DataFrame with cumulative sums\n",
    "    \"\"\"\n",
    "\n",
    "    # Create a new DataFrame to store the results\n",
    "    result_df = input_df.copy()\n",
    "\n",
    "    # Sort the DataFrame by the specified columns\n",
    "    result_df = result_df.sort_values(by=[id_column, time_column])\n",
    "\n",
    "    # Iterate through each ID\n",
    "    for id_value in result_df[id_column].unique():\n",
    "        # Filter rows for the current ID\n",
    "        id_df = result_df[result_df[id_column] == id_value]\n",
    "\n",
    "        # Calculate the cumulative sum for each column (excluding ID and time columns)\n",
    "        for col in id_df.columns[2:]:  # Exclude ID and time columns\n",
    "            id_df[col] = id_df.groupby(id_column)[col].cumsum()\n",
    "\n",
    "        # Update the result DataFrame with the cumulative sums for the current ID\n",
    "        result_df.loc[id_df.index] = id_df\n",
    "\n",
    "    # Reset the index of the result DataFrame\n",
    "    result_df = result_df.reset_index(drop=True)\n",
    "\n",
    "    # Optionally, sort the DataFrame by the specified columns for better visualization\n",
    "    result_df = result_df.sort_values(by=[time_column, id_column])\n",
    "\n",
    "    return result_df"
   ]
  },
  {
   "cell_type": "code",
   "execution_count": 184,
   "id": "5dd6fea2-2b9e-4a59-9d9a-e5a07347218b",
   "metadata": {
    "tags": []
   },
   "outputs": [
    {
     "name": "stderr",
     "output_type": "stream",
     "text": [
      "/var/folders/75/y16smf2j5032r_8n2vhxct6r0000gn/T/ipykernel_25014/2873075486.py:27: SettingWithCopyWarning: \n",
      "A value is trying to be set on a copy of a slice from a DataFrame.\n",
      "Try using .loc[row_indexer,col_indexer] = value instead\n",
      "\n",
      "See the caveats in the documentation: https://pandas.pydata.org/pandas-docs/stable/user_guide/indexing.html#returning-a-view-versus-a-copy\n",
      "  id_df[col] = id_df.groupby(id_column)[col].cumsum()\n"
     ]
    }
   ],
   "source": [
    "nonProfit_cum_df = create_cumulative_df(nonProfit_df,'district','year')"
   ]
  },
  {
   "cell_type": "code",
   "execution_count": 185,
   "id": "f973d02a-589b-4c68-9685-7ede387f7292",
   "metadata": {
    "tags": []
   },
   "outputs": [
    {
     "name": "stderr",
     "output_type": "stream",
     "text": [
      "/var/folders/75/y16smf2j5032r_8n2vhxct6r0000gn/T/ipykernel_25014/2873075486.py:27: SettingWithCopyWarning: \n",
      "A value is trying to be set on a copy of a slice from a DataFrame.\n",
      "Try using .loc[row_indexer,col_indexer] = value instead\n",
      "\n",
      "See the caveats in the documentation: https://pandas.pydata.org/pandas-docs/stable/user_guide/indexing.html#returning-a-view-versus-a-copy\n",
      "  id_df[col] = id_df.groupby(id_column)[col].cumsum()\n"
     ]
    }
   ],
   "source": [
    "nonResidential_cum_df = create_cumulative_df(nonResidential_df,'district','year')"
   ]
  },
  {
   "cell_type": "code",
   "execution_count": 186,
   "id": "e5e8e92f-9b66-47df-9aa5-c2cd7deca7a8",
   "metadata": {
    "tags": []
   },
   "outputs": [
    {
     "name": "stderr",
     "output_type": "stream",
     "text": [
      "/var/folders/75/y16smf2j5032r_8n2vhxct6r0000gn/T/ipykernel_25014/2873075486.py:27: SettingWithCopyWarning: \n",
      "A value is trying to be set on a copy of a slice from a DataFrame.\n",
      "Try using .loc[row_indexer,col_indexer] = value instead\n",
      "\n",
      "See the caveats in the documentation: https://pandas.pydata.org/pandas-docs/stable/user_guide/indexing.html#returning-a-view-versus-a-copy\n",
      "  id_df[col] = id_df.groupby(id_column)[col].cumsum()\n"
     ]
    }
   ],
   "source": [
    "residential_cum_df = create_cumulative_df(residential_df,'district','year')"
   ]
  },
  {
   "cell_type": "code",
   "execution_count": 187,
   "id": "cf56b6f0-abe2-494e-85b7-015769cd3e09",
   "metadata": {},
   "outputs": [
    {
     "name": "stderr",
     "output_type": "stream",
     "text": [
      "/var/folders/75/y16smf2j5032r_8n2vhxct6r0000gn/T/ipykernel_25014/2873075486.py:27: SettingWithCopyWarning: \n",
      "A value is trying to be set on a copy of a slice from a DataFrame.\n",
      "Try using .loc[row_indexer,col_indexer] = value instead\n",
      "\n",
      "See the caveats in the documentation: https://pandas.pydata.org/pandas-docs/stable/user_guide/indexing.html#returning-a-view-versus-a-copy\n",
      "  id_df[col] = id_df.groupby(id_column)[col].cumsum()\n"
     ]
    }
   ],
   "source": [
    "resid_census_cum_df = create_cumulative_df(final_merged_df,'district','year')"
   ]
  },
  {
   "cell_type": "code",
   "execution_count": 188,
   "id": "c4ff7708-8879-441a-9452-13d650ee9d8a",
   "metadata": {
    "tags": []
   },
   "outputs": [],
   "source": [
    "nonProfit_cum_df = add_senator_names(nonProfit_cum_df)"
   ]
  },
  {
   "cell_type": "code",
   "execution_count": 189,
   "id": "0eb0ccda-5c32-4eb8-b88d-7bf79bf7bc67",
   "metadata": {
    "tags": []
   },
   "outputs": [],
   "source": [
    "nonResidential_cum_df = add_senator_names(nonResidential_cum_df)"
   ]
  },
  {
   "cell_type": "code",
   "execution_count": 190,
   "id": "fbd49569-a6dd-422d-a4ce-1b60b4697747",
   "metadata": {
    "tags": []
   },
   "outputs": [],
   "source": [
    "residential_cum_df = add_senator_names(residential_cum_df)"
   ]
  },
  {
   "cell_type": "code",
   "execution_count": 191,
   "id": "8c5dfd35-da39-4adf-8cc5-9e237adeeec2",
   "metadata": {
    "tags": []
   },
   "outputs": [],
   "source": [
    "resid_census_cum_df = add_senator_names(resid_census_cum_df)"
   ]
  },
  {
   "cell_type": "code",
   "execution_count": 192,
   "id": "8ea3703c-8f04-4ee8-af92-30cda32dc67c",
   "metadata": {
    "tags": []
   },
   "outputs": [],
   "source": [
    "dataframe_to_geojson(nonProfit_cum_df, \"Non-Profit_cum\", \"GeoJSON/cum_nonProfit.geojson\")"
   ]
  },
  {
   "cell_type": "code",
   "execution_count": 193,
   "id": "2c9aa13a-062c-4864-be03-e09d8732f59b",
   "metadata": {
    "tags": []
   },
   "outputs": [],
   "source": [
    "dataframe_to_geojson(nonResidential_cum_df, \"Non-Residential_cum\", \"GeoJSON/cum_nonResidential.geojson\")"
   ]
  },
  {
   "cell_type": "code",
   "execution_count": 194,
   "id": "a2c0ea98-7cc7-4667-9467-9517295811eb",
   "metadata": {
    "tags": []
   },
   "outputs": [],
   "source": [
    "dataframe_to_geojson(residential_cum_df, \"Residential_cum\", \"GeoJSON/cum_residential.geojson\")"
   ]
  },
  {
   "cell_type": "code",
   "execution_count": 195,
   "id": "e7c23a55-78c8-42b5-9d00-f3d3f212f03f",
   "metadata": {
    "tags": []
   },
   "outputs": [],
   "source": [
    "dataframe_to_geojson(resid_census_cum_df, \"Residential_cum\", \"GeoJSON/cum_resid_census.geojson\")"
   ]
  },
  {
   "cell_type": "markdown",
   "id": "822e5a0a-dab0-4b4a-af22-8fd239eabb94",
   "metadata": {
    "tags": []
   },
   "source": [
    "## 5.2. Uploading GeoJSON file to Azure"
   ]
  },
  {
   "cell_type": "code",
   "execution_count": 196,
   "id": "3eb72ca2-51e4-46b3-b412-0a26886a60f4",
   "metadata": {
    "tags": []
   },
   "outputs": [],
   "source": [
    "filename =  ['GeoJSON/cum_nonProfit.geojson',\n",
    "             'GeoJSON/cum_nonResidential.geojson',\n",
    "             'GeoJSON/cum_residential.geojson',\n",
    "             'GeoJSON/cum_resid_census.geojson']"
   ]
  },
  {
   "cell_type": "code",
   "execution_count": 197,
   "id": "7a7c477f-970a-42f2-96e3-98216b688002",
   "metadata": {
    "tags": []
   },
   "outputs": [],
   "source": [
    "# As a class to preserve state\n",
    "class AzureBlobStorageManager:\n",
    "    def __init__(self, connection_str: str, container_name: str):\n",
    "        self.blob_service_client = BlobServiceClient.from_connection_string(connection_str)\n",
    "        self.container_client = self.blob_service_client.get_container_client(container_name)\n",
    "\n",
    "    def upload_blob(self, local_path: str,  blob_name=None):\n",
    "        \"\"\"Upload a local file to blob storage in Azure\"\"\"\n",
    "\n",
    "        # Default blob_name = local filename \n",
    "        if blob_name is None:\n",
    "            blob_name = os.path.basename(local_path)\n",
    "        blob_client = self.container_client.get_blob_client(blob_name)\n",
    "        \n",
    "        try:\n",
    "            # Upload the blob\n",
    "            with open(local_path, \"rb\") as data:\n",
    "                blob_client.upload_blob(data,overwrite=True)\n",
    "            print(f\"Blob {blob_name} uploaded successfully.\")\n",
    "        except Exception as e: # Do something with this exception block (e.g. add logging)\n",
    "            print(f\"An error occurred: {str(e)}\")"
   ]
  },
  {
   "cell_type": "code",
   "execution_count": 198,
   "id": "644c5210-8d1c-4481-8be2-3b4cca472289",
   "metadata": {
    "tags": []
   },
   "outputs": [
    {
     "name": "stdout",
     "output_type": "stream",
     "text": [
      "Blob cum_nonProfit.geojson uploaded successfully.\n",
      "Blob cum_nonResidential.geojson uploaded successfully.\n",
      "Blob cum_residential.geojson uploaded successfully.\n",
      "Blob cum_resid_census.geojson uploaded successfully.\n"
     ]
    }
   ],
   "source": [
    "# Testing class and method \n",
    "#with open(\"azure_info.yaml\", \"r\") as file: \n",
    " #   azure_info = yaml.full_load(file)\n",
    "\n",
    "connection_string =  # Azure container/Access Key/Under Key1, Connection String.\n",
    "container_name =  # The name comes from Containers. \n",
    "local_path = filename\n",
    "\n",
    "az_blob_manager = AzureBlobStorageManager(connection_str=connection_string,\n",
    "                                          container_name=container_name)\n",
    "for i in filename:\n",
    "    az_blob_manager.upload_blob(i)"
   ]
  },
  {
   "cell_type": "code",
   "execution_count": null,
   "id": "1fddb3d8-3392-4a58-821c-37c1703d5e48",
   "metadata": {},
   "outputs": [],
   "source": []
  }
 ],
 "metadata": {
  "kernelspec": {
   "display_name": "Python 3 (ipykernel)",
   "language": "python",
   "name": "python3"
  },
  "language_info": {
   "codemirror_mode": {
    "name": "ipython",
    "version": 3
   },
   "file_extension": ".py",
   "mimetype": "text/x-python",
   "name": "python",
   "nbconvert_exporter": "python",
   "pygments_lexer": "ipython3",
   "version": "3.10.13"
  }
 },
 "nbformat": 4,
 "nbformat_minor": 5
}
